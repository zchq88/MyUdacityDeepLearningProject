{
 "cells": [
  {
   "cell_type": "markdown",
   "metadata": {
    "collapsed": true,
    "deletable": true,
    "editable": true
   },
   "source": [
    "# Image Classification\n",
    "In this project, you'll classify images from the [CIFAR-10 dataset](https://www.cs.toronto.edu/~kriz/cifar.html).  The dataset consists of airplanes, dogs, cats, and other objects. You'll preprocess the images, then train a convolutional neural network on all the samples. The images need to be normalized and the labels need to be one-hot encoded.  You'll get to apply what you learned and build a convolutional, max pooling, dropout, and fully connected layers.  At the end, you'll get to see your neural network's predictions on the sample images.\n",
    "## Get the Data\n",
    "Run the following cell to download the [CIFAR-10 dataset for python](https://www.cs.toronto.edu/~kriz/cifar-10-python.tar.gz)."
   ]
  },
  {
   "cell_type": "code",
   "execution_count": 1,
   "metadata": {
    "collapsed": false,
    "deletable": true,
    "editable": true
   },
   "outputs": [
    {
     "name": "stdout",
     "output_type": "stream",
     "text": [
      "All files found!\n"
     ]
    }
   ],
   "source": [
    "\"\"\"\n",
    "DON'T MODIFY ANYTHING IN THIS CELL THAT IS BELOW THIS LINE\n",
    "\"\"\"\n",
    "from urllib.request import urlretrieve\n",
    "from os.path import isfile, isdir\n",
    "from tqdm import tqdm\n",
    "import problem_unittests as tests\n",
    "import tarfile\n",
    "\n",
    "cifar10_dataset_folder_path = 'cifar-10-batches-py'\n",
    "\n",
    "class DLProgress(tqdm):\n",
    "    last_block = 0\n",
    "\n",
    "    def hook(self, block_num=1, block_size=1, total_size=None):\n",
    "        self.total = total_size\n",
    "        self.update((block_num - self.last_block) * block_size)\n",
    "        self.last_block = block_num\n",
    "\n",
    "if not isfile('cifar-10-python.tar.gz'):\n",
    "    with DLProgress(unit='B', unit_scale=True, miniters=1, desc='CIFAR-10 Dataset') as pbar:\n",
    "        urlretrieve(\n",
    "            'https://www.cs.toronto.edu/~kriz/cifar-10-python.tar.gz',\n",
    "            'cifar-10-python.tar.gz',\n",
    "            pbar.hook)\n",
    "\n",
    "if not isdir(cifar10_dataset_folder_path):\n",
    "    with tarfile.open('cifar-10-python.tar.gz') as tar:\n",
    "        tar.extractall()\n",
    "        tar.close()\n",
    "\n",
    "\n",
    "tests.test_folder_path(cifar10_dataset_folder_path)"
   ]
  },
  {
   "cell_type": "markdown",
   "metadata": {
    "deletable": true,
    "editable": true
   },
   "source": [
    "## Explore the Data\n",
    "The dataset is broken into batches to prevent your machine from running out of memory.  The CIFAR-10 dataset consists of 5 batches, named `data_batch_1`, `data_batch_2`, etc.. Each batch contains the labels and images that are one of the following:\n",
    "* airplane\n",
    "* automobile\n",
    "* bird\n",
    "* cat\n",
    "* deer\n",
    "* dog\n",
    "* frog\n",
    "* horse\n",
    "* ship\n",
    "* truck\n",
    "\n",
    "Understanding a dataset is part of making predictions on the data.  Play around with the code cell below by changing the `batch_id` and `sample_id`. The `batch_id` is the id for a batch (1-5). The `sample_id` is the id for a image and label pair in the batch.\n",
    "\n",
    "Ask yourself \"What are all possible labels?\", \"What is the range of values for the image data?\", \"Are the labels in order or random?\".  Answers to questions like these will help you preprocess the data and end up with better predictions."
   ]
  },
  {
   "cell_type": "code",
   "execution_count": 2,
   "metadata": {
    "collapsed": false,
    "deletable": true,
    "editable": true
   },
   "outputs": [
    {
     "name": "stdout",
     "output_type": "stream",
     "text": [
      "\n",
      "Stats of batch 1:\n",
      "Samples: 10000\n",
      "Label Counts: {0: 1005, 1: 974, 2: 1032, 3: 1016, 4: 999, 5: 937, 6: 1030, 7: 1001, 8: 1025, 9: 981}\n",
      "First 20 Labels: [6, 9, 9, 4, 1, 1, 2, 7, 8, 3, 4, 7, 7, 2, 9, 9, 9, 3, 2, 6]\n",
      "\n",
      "Example of Image 5:\n",
      "Image - Min Value: 0 Max Value: 252\n",
      "Image - Shape: (32, 32, 3)\n",
      "Label - Label Id: 1 Name: automobile\n"
     ]
    },
    {
     "data": {
      "image/png": "[encoded data removed]",
      "text/plain": [
       "<matplotlib.figure.Figure at 0x7f4ab19a0668>"
      ]
     },
     "metadata": {
      "image/png": {
       "height": 250,
       "width": 253
      }
     },
     "output_type": "display_data"
    }
   ],
   "source": [
    "%matplotlib inline\n",
    "%config InlineBackend.figure_format = 'retina'\n",
    "\n",
    "import helper\n",
    "import numpy as np\n",
    "\n",
    "# Explore the dataset\n",
    "batch_id = 1\n",
    "sample_id = 5\n",
    "helper.display_stats(cifar10_dataset_folder_path, batch_id, sample_id)"
   ]
  },
  {
   "cell_type": "markdown",
   "metadata": {
    "deletable": true,
    "editable": true
   },
   "source": [
    "## Implement Preprocess Functions\n",
    "### Normalize\n",
    "In the cell below, implement the `normalize` function to take in image data, `x`, and return it as a normalized Numpy array. The values should be in the range of 0 to 1, inclusive.  The return object should be the same shape as `x`."
   ]
  },
  {
   "cell_type": "code",
   "execution_count": 3,
   "metadata": {
    "collapsed": false,
    "deletable": true,
    "editable": true
   },
   "outputs": [
    {
     "name": "stdout",
     "output_type": "stream",
     "text": [
      "Tests Passed\n"
     ]
    }
   ],
   "source": [
    "def normalize(x):\n",
    "    \"\"\"\n",
    "    Normalize a list of sample image data in the range of 0 to 1\n",
    "    : x: List of image data.  The image shape is (32, 32, 3)\n",
    "    : return: Numpy array of normalize data\n",
    "    \"\"\"\n",
    "    # TODO: Implement Function\n",
    "    ret=x/(x.max()-x.min())\n",
    "\n",
    "    return ret\n",
    "\n",
    "\n",
    "\"\"\"\n",
    "DON'T MODIFY ANYTHING IN THIS CELL THAT IS BELOW THIS LINE\n",
    "\"\"\"\n",
    "tests.test_normalize(normalize)"
   ]
  },
  {
   "cell_type": "markdown",
   "metadata": {
    "deletable": true,
    "editable": true
   },
   "source": [
    "### One-hot encode\n",
    "Just like the previous code cell, you'll be implementing a function for preprocessing.  This time, you'll implement the `one_hot_encode` function. The input, `x`, are a list of labels.  Implement the function to return the list of labels as One-Hot encoded Numpy array.  The possible values for labels are 0 to 9. The one-hot encoding function should return the same encoding for each value between each call to `one_hot_encode`.  Make sure to save the map of encodings outside the function.\n",
    "\n",
    "Hint: Don't reinvent the wheel."
   ]
  },
  {
   "cell_type": "code",
   "execution_count": 4,
   "metadata": {
    "collapsed": false,
    "deletable": true,
    "editable": true
   },
   "outputs": [
    {
     "name": "stdout",
     "output_type": "stream",
     "text": [
      "3\n",
      "[ 0.  0.  0.  1.  0.  0.  0.  0.  0.  0.]\n",
      "----------\n",
      "7\n",
      "[ 0.  0.  0.  0.  0.  0.  0.  1.  0.  0.]\n",
      "----------\n",
      "Tests Passed\n"
     ]
    }
   ],
   "source": [
    "def one_hot_encode(x):\n",
    "    \"\"\"\n",
    "    One hot encode a list of sample labels. Return a one-hot encoded vector for each label.\n",
    "    : x: List of sample Labels\n",
    "    : return: Numpy array of one-hot encoded labels\n",
    "    \"\"\"\n",
    "    # TODO: Implement Function    \n",
    "    n_labels = len(x)\n",
    "    n_unique_labels = 10\n",
    "    one_hot_encode = np.zeros((n_labels,n_unique_labels))\n",
    "    for itme in range(n_labels):\n",
    "        one_hot_encode[itme, x[itme]] = 1\n",
    "    print(x[0])\n",
    "    print(one_hot_encode[0])\n",
    "    print('----------')\n",
    "    return one_hot_encode\n",
    "\n",
    "\n",
    "\"\"\"\n",
    "DON'T MODIFY ANYTHING IN THIS CELL THAT IS BELOW THIS LINE\n",
    "\"\"\"\n",
    "tests.test_one_hot_encode(one_hot_encode)"
   ]
  },
  {
   "cell_type": "markdown",
   "metadata": {
    "deletable": true,
    "editable": true
   },
   "source": [
    "### Randomize Data\n",
    "As you saw from exploring the data above, the order of the samples are randomized.  It doesn't hurt to randomize it again, but you don't need to for this dataset."
   ]
  },
  {
   "cell_type": "markdown",
   "metadata": {
    "deletable": true,
    "editable": true
   },
   "source": [
    "## Preprocess all the data and save it\n",
    "Running the code cell below will preprocess all the CIFAR-10 data and save it to file. The code below also uses 10% of the training data for validation."
   ]
  },
  {
   "cell_type": "code",
   "execution_count": 5,
   "metadata": {
    "collapsed": false,
    "deletable": true,
    "editable": true
   },
   "outputs": [
    {
     "name": "stdout",
     "output_type": "stream",
     "text": [
      "6\n",
      "[ 0.  0.  0.  0.  0.  0.  1.  0.  0.  0.]\n",
      "----------\n",
      "1\n",
      "[ 0.  1.  0.  0.  0.  0.  0.  0.  0.  0.]\n",
      "----------\n",
      "8\n",
      "[ 0.  0.  0.  0.  0.  0.  0.  0.  1.  0.]\n",
      "----------\n",
      "0\n",
      "[ 1.  0.  0.  0.  0.  0.  0.  0.  0.  0.]\n",
      "----------\n",
      "1\n",
      "[ 0.  1.  0.  0.  0.  0.  0.  0.  0.  0.]\n",
      "----------\n",
      "4\n",
      "[ 0.  0.  0.  0.  1.  0.  0.  0.  0.  0.]\n",
      "----------\n",
      "3\n",
      "[ 0.  0.  0.  1.  0.  0.  0.  0.  0.  0.]\n",
      "----------\n"
     ]
    }
   ],
   "source": [
    "\"\"\"\n",
    "DON'T MODIFY ANYTHING IN THIS CELL\n",
    "\"\"\"\n",
    "# Preprocess Training, Validation, and Testing Data\n",
    "helper.preprocess_and_save_data(cifar10_dataset_folder_path, normalize, one_hot_encode)"
   ]
  },
  {
   "cell_type": "markdown",
   "metadata": {
    "deletable": true,
    "editable": true
   },
   "source": [
    "# Check Point\n",
    "This is your first checkpoint.  If you ever decide to come back to this notebook or have to restart the notebook, you can start from here.  The preprocessed data has been saved to disk."
   ]
  },
  {
   "cell_type": "code",
   "execution_count": 1,
   "metadata": {
    "collapsed": true,
    "deletable": true,
    "editable": true
   },
   "outputs": [],
   "source": [
    "\"\"\"\n",
    "DON'T MODIFY ANYTHING IN THIS CELL\n",
    "\"\"\"\n",
    "import pickle\n",
    "import problem_unittests as tests\n",
    "import helper\n",
    "\n",
    "# Load the Preprocessed Validation data\n",
    "valid_features, valid_labels = pickle.load(open('preprocess_validation.p', mode='rb'))"
   ]
  },
  {
   "cell_type": "markdown",
   "metadata": {
    "deletable": true,
    "editable": true
   },
   "source": [
    "## Build the network\n",
    "For the neural network, you'll build each layer into a function.  Most of the code you've seen has been outside of functions. To test your code more thoroughly, we require that you put each layer in a function.  This allows us to give you better feedback and test for simple mistakes using our unittests before you submit your project.\n",
    "\n",
    "If you're finding it hard to dedicate enough time for this course a week, we've provided a small shortcut to this part of the project. In the next couple of problems, you'll have the option to use [TensorFlow Layers](https://www.tensorflow.org/api_docs/python/tf/layers) or [TensorFlow Layers (contrib)](https://www.tensorflow.org/api_guides/python/contrib.layers) to build each layer, except \"Convolutional & Max Pooling\" layer.  TF Layers is similar to Keras's and TFLearn's abstraction to layers, so it's easy to pickup.\n",
    "\n",
    "If you would like to get the most of this course, try to solve all the problems without TF Layers.  Let's begin!\n",
    "### Input\n",
    "The neural network needs to read the image data, one-hot encoded labels, and dropout keep probability. Implement the following functions\n",
    "* Implement `neural_net_image_input`\n",
    " * Return a [TF Placeholder](https://www.tensorflow.org/api_docs/python/tf/placeholder)\n",
    " * Set the shape using `image_shape` with batch size set to `None`.\n",
    " * Name the TensorFlow placeholder \"x\" using the TensorFlow `name` parameter in the [TF Placeholder](https://www.tensorflow.org/api_docs/python/tf/placeholder).\n",
    "* Implement `neural_net_label_input`\n",
    " * Return a [TF Placeholder](https://www.tensorflow.org/api_docs/python/tf/placeholder)\n",
    " * Set the shape using `n_classes` with batch size set to `None`.\n",
    " * Name the TensorFlow placeholder \"y\" using the TensorFlow `name` parameter in the [TF Placeholder](https://www.tensorflow.org/api_docs/python/tf/placeholder).\n",
    "* Implement `neural_net_keep_prob_input`\n",
    " * Return a [TF Placeholder](https://www.tensorflow.org/api_docs/python/tf/placeholder) for dropout keep probability.\n",
    " * Name the TensorFlow placeholder \"keep_prob\" using the TensorFlow `name` parameter in the [TF Placeholder](https://www.tensorflow.org/api_docs/python/tf/placeholder).\n",
    "\n",
    "These names will be used at the end of the project to load your saved model.\n",
    "\n",
    "Note: `None` for shapes in TensorFlow allow for a dynamic size."
   ]
  },
  {
   "cell_type": "code",
   "execution_count": 2,
   "metadata": {
    "collapsed": false,
    "deletable": true,
    "editable": true
   },
   "outputs": [
    {
     "name": "stdout",
     "output_type": "stream",
     "text": [
      "Image Input Tests Passed.\n",
      "Label Input Tests Passed.\n",
      "Keep Prob Tests Passed.\n"
     ]
    }
   ],
   "source": [
    "import tensorflow as tf\n",
    "\n",
    "def neural_net_image_input(image_shape):\n",
    "    \"\"\"\n",
    "    Return a Tensor for a bach of image input\n",
    "    : image_shape: Shape of the images\n",
    "    : return: Tensor for image input.\n",
    "    \"\"\"\n",
    "    # TODO: Implement Function\n",
    "    #print(image_shape)\n",
    "    x = tf.placeholder(\"float\", shape=[None, image_shape[0], image_shape[1], image_shape[2]], name='x')\n",
    "    #print(x.name)\n",
    "    return x\n",
    "\n",
    "\n",
    "def neural_net_label_input(n_classes):\n",
    "    \"\"\"\n",
    "    Return a Tensor for a batch of label input\n",
    "    : n_classes: Number of classes\n",
    "    : return: Tensor for label input.\n",
    "    \"\"\"\n",
    "    # TODO: Implement Function\n",
    "    #print(n_classes)\n",
    "    x = tf.placeholder(\"float\", shape=[None, n_classes],name='y')\n",
    "    return x\n",
    "\n",
    "\n",
    "def neural_net_keep_prob_input():\n",
    "    \"\"\"\n",
    "    Return a Tensor for keep probability\n",
    "    : return: Tensor for keep probability.\n",
    "    \"\"\"\n",
    "    # TODO: Implement Function\n",
    "    x = tf.placeholder(\"float\",name='keep_prob')\n",
    "    return x\n",
    "\n",
    "\n",
    "\"\"\"\n",
    "DON'T MODIFY ANYTHING IN THIS CELL THAT IS BELOW THIS LINE\n",
    "\"\"\"\n",
    "tf.reset_default_graph()\n",
    "tests.test_nn_image_inputs(neural_net_image_input)\n",
    "tests.test_nn_label_inputs(neural_net_label_input)\n",
    "tests.test_nn_keep_prob_inputs(neural_net_keep_prob_input)"
   ]
  },
  {
   "cell_type": "markdown",
   "metadata": {
    "deletable": true,
    "editable": true
   },
   "source": [
    "### Convolution and Max Pooling Layer\n",
    "Convolution layers have a lot of success with images. For this code cell, you should implement the function `conv2d_maxpool` to apply convolution then max pooling:\n",
    "* Create the weight and bias using `conv_ksize`, `conv_num_outputs` and the shape of `x_tensor`.\n",
    "* Apply a convolution to `x_tensor` using weight and `conv_strides`.\n",
    " * We recommend you use same padding, but you're welcome to use any padding.\n",
    "* Add bias\n",
    "* Add a nonlinear activation to the convolution.\n",
    "* Apply Max Pooling using `pool_ksize` and `pool_strides`.\n",
    " * We recommend you use same padding, but you're welcome to use any padding.\n",
    "\n",
    "Note: You **can't** use [TensorFlow Layers](https://www.tensorflow.org/api_docs/python/tf/layers) or [TensorFlow Layers (contrib)](https://www.tensorflow.org/api_guides/python/contrib.layers) for this layer.  You're free to use any TensorFlow package for all the other layers."
   ]
  },
  {
   "cell_type": "code",
   "execution_count": 3,
   "metadata": {
    "collapsed": false,
    "deletable": true,
    "editable": true
   },
   "outputs": [
    {
     "name": "stdout",
     "output_type": "stream",
     "text": [
      "Tests Passed\n"
     ]
    }
   ],
   "source": [
    "def conv2d_maxpool(x_tensor, conv_num_outputs, conv_ksize, conv_strides, pool_ksize, pool_strides):\n",
    "    \"\"\"\n",
    "    Apply convolution then max pooling to x_tensor\n",
    "    :param x_tensor: TensorFlow Tensor\n",
    "    :param conv_num_outputs: Number of outputs for the convolutional layer\n",
    "    :param conv_strides: Stride 2-D Tuple for convolution\n",
    "    :param pool_ksize: kernal size 2-D Tuple for pool\n",
    "    :param pool_strides: Stride 2-D Tuple for pool\n",
    "    : return: A tensor that represents convolution and max pooling of x_tensor\n",
    "    \"\"\"\n",
    "    # TODO: Implement Function\n",
    "    #print(x_tensor.shape)\n",
    "    x, x_h, x_w, x_depth = x_tensor.shape\n",
    "    #print(conv_num_outputs)\n",
    "    #print(conv_ksize)\n",
    "    conv_h,conv_w = conv_ksize\n",
    "    #print(conv_strides)\n",
    "    s_h,s_w = conv_strides\n",
    "    #print(pool_ksize)\n",
    "    pool_h, pool_w = pool_ksize\n",
    "    #print(pool_strides)\n",
    "    pool_h_s,pool_w_s = pool_strides\n",
    "\n",
    "    #weights\n",
    "    \n",
    "    fw = tf.Variable(tf.truncated_normal(shape=(int(conv_h), int(conv_w), int(x_depth), int(conv_num_outputs)),stddev=0.01, mean = 0))\n",
    "    #bias                             \n",
    "    fb = tf.Variable(tf.zeros(conv_num_outputs))                             \n",
    "    padding = 'VALID'\n",
    "    conv = tf.nn.conv2d(x_tensor, fw, strides=[1, int(s_h), int(s_w), 1], padding=padding) + fb\n",
    "    conv = tf.nn.relu(conv)\n",
    "    conv = tf.nn.max_pool(conv, ksize=[1, int(pool_h), int(pool_w), 1],strides=[1, int(pool_h_s), int(pool_w_s), 1],padding=padding)\n",
    "    conv.get_shape().as_list()\n",
    "    return conv\n",
    "\n",
    "\n",
    "\"\"\"\n",
    "DON'T MODIFY ANYTHING IN THIS CELL THAT IS BELOW THIS LINE\n",
    "\"\"\"\n",
    "tests.test_con_pool(conv2d_maxpool)"
   ]
  },
  {
   "cell_type": "markdown",
   "metadata": {
    "deletable": true,
    "editable": true
   },
   "source": [
    "### Flatten Layer\n",
    "Implement the `flatten` function to change the dimension of `x_tensor` from a 4-D tensor to a 2-D tensor.  The output should be the shape (*Batch Size*, *Flattened Image Size*). You can use [TensorFlow Layers](https://www.tensorflow.org/api_docs/python/tf/layers) or [TensorFlow Layers (contrib)](https://www.tensorflow.org/api_guides/python/contrib.layers) for this layer."
   ]
  },
  {
   "cell_type": "code",
   "execution_count": 4,
   "metadata": {
    "collapsed": false,
    "deletable": true,
    "editable": true
   },
   "outputs": [
    {
     "name": "stdout",
     "output_type": "stream",
     "text": [
      "Tests Passed\n"
     ]
    }
   ],
   "source": [
    "def flatten(x_tensor):\n",
    "    \"\"\"\n",
    "    Flatten x_tensor to (Batch Size, Flattened Image Size)\n",
    "    : x_tensor: A tensor of size (Batch Size, ...), where ... are the image dimensions.\n",
    "    : return: A tensor of size (Batch Size, Flattened Image Size).\n",
    "    \"\"\"\n",
    "    # TODO: Implement Function\n",
    "    #print(x_tensor.shape)\n",
    "    x, x_h, x_w, x_depth = x_tensor.shape\n",
    "    return tf.reshape(x_tensor, [-1, int(x_h)*int(x_w)*int(x_depth)])\n",
    "\n",
    "\n",
    "\"\"\"\n",
    "DON'T MODIFY ANYTHING IN THIS CELL THAT IS BELOW THIS LINE\n",
    "\"\"\"\n",
    "tests.test_flatten(flatten)"
   ]
  },
  {
   "cell_type": "markdown",
   "metadata": {
    "deletable": true,
    "editable": true
   },
   "source": [
    "### Fully-Connected Layer\n",
    "Implement the `fully_conn` function to apply a fully connected layer to `x_tensor` with the shape (*Batch Size*, *num_outputs*). You can use [TensorFlow Layers](https://www.tensorflow.org/api_docs/python/tf/layers) or [TensorFlow Layers (contrib)](https://www.tensorflow.org/api_guides/python/contrib.layers) for this layer."
   ]
  },
  {
   "cell_type": "code",
   "execution_count": 5,
   "metadata": {
    "collapsed": false,
    "deletable": true,
    "editable": true
   },
   "outputs": [
    {
     "name": "stdout",
     "output_type": "stream",
     "text": [
      "Tests Passed\n"
     ]
    }
   ],
   "source": [
    "def fully_conn(x_tensor, num_outputs):\n",
    "    \"\"\"\n",
    "    Apply a fully connected layer to x_tensor using weight and bias\n",
    "    : x_tensor: A 2-D tensor where the first dimension is batch size.\n",
    "    : num_outputs: The number of output that the new tensor should be.\n",
    "    : return: A 2-D tensor where the second dimension is num_outputs.\n",
    "    \"\"\"\n",
    "    # TODO: Implement Function\n",
    "    #print(x_tensor.shape)\n",
    "    #print(num_outputs)\n",
    "    w = tf.Variable(tf.truncated_normal(shape=(int(x_tensor.shape[1]), int(num_outputs)),stddev=0.1, mean = 0))\n",
    "    b = tf.Variable(tf.zeros([num_outputs]))\n",
    "    y = tf.nn.relu(tf.add(tf.matmul(x_tensor, w), b))\n",
    "    return y\n",
    "\n",
    "\n",
    "\"\"\"\n",
    "DON'T MODIFY ANYTHING IN THIS CELL THAT IS BELOW THIS LINE\n",
    "\"\"\"\n",
    "tests.test_fully_conn(fully_conn)"
   ]
  },
  {
   "cell_type": "markdown",
   "metadata": {
    "deletable": true,
    "editable": true
   },
   "source": [
    "### Output Layer\n",
    "Implement the `output` function to apply a fully connected layer to `x_tensor` with the shape (*Batch Size*, *num_outputs*). You can use [TensorFlow Layers](https://www.tensorflow.org/api_docs/python/tf/layers) or [TensorFlow Layers (contrib)](https://www.tensorflow.org/api_guides/python/contrib.layers) for this layer.\n",
    "\n",
    "Note: Activation, softmax, or cross entropy shouldn't be applied to this."
   ]
  },
  {
   "cell_type": "code",
   "execution_count": 6,
   "metadata": {
    "collapsed": false,
    "deletable": true,
    "editable": true
   },
   "outputs": [
    {
     "name": "stdout",
     "output_type": "stream",
     "text": [
      "Tests Passed\n"
     ]
    }
   ],
   "source": [
    "def output(x_tensor, num_outputs):\n",
    "    \"\"\"\n",
    "    Apply a output layer to x_tensor using weight and bias\n",
    "    : x_tensor: A 2-D tensor where the first dimension is batch size.\n",
    "    : num_outputs: The number of output that the new tensor should be.\n",
    "    : return: A 2-D tensor where the second dimension is num_outputs.\n",
    "    \"\"\"\n",
    "    # TODO: Implement Function\n",
    "    #print(x_tensor.shape)\n",
    "    #print(num_outputs)\n",
    "    w = tf.Variable(tf.truncated_normal((int(x_tensor.shape[1]), int(num_outputs)),stddev=0.1, mean = 0))\n",
    "    b = tf.Variable(tf.zeros([num_outputs]))\n",
    "    y = tf.add(tf.matmul(x_tensor, w), b)\n",
    "    return y\n",
    "\n",
    "\n",
    "\"\"\"\n",
    "DON'T MODIFY ANYTHING IN THIS CELL THAT IS BELOW THIS LINE\n",
    "\"\"\"\n",
    "tests.test_output(output)"
   ]
  },
  {
   "cell_type": "markdown",
   "metadata": {
    "deletable": true,
    "editable": true
   },
   "source": [
    "### Create Convolutional Model\n",
    "Implement the function `conv_net` to create a convolutional neural network model. The function takes in a batch of images, `x`, and outputs logits.  Use the layers you created above to create this model:\n",
    "\n",
    "* Apply 1, 2, or 3 Convolution and Max Pool layers\n",
    "* Apply a Flatten Layer\n",
    "* Apply 1, 2, or 3 Fully Connected Layers\n",
    "* Apply an Output Layer\n",
    "* Return the output\n",
    "* Apply [TensorFlow's Dropout](https://www.tensorflow.org/api_docs/python/tf/nn/dropout) to one or more layers in the model using `keep_prob`. "
   ]
  },
  {
   "cell_type": "code",
   "execution_count": 7,
   "metadata": {
    "collapsed": false,
    "deletable": true,
    "editable": true
   },
   "outputs": [
    {
     "name": "stdout",
     "output_type": "stream",
     "text": [
      "Neural Network Built!\n"
     ]
    }
   ],
   "source": [
    "def conv_net(x, keep_prob):\n",
    "    \"\"\"\n",
    "    Create a convolutional neural network model\n",
    "    : x: Placeholder tensor that holds image data.\n",
    "    : keep_prob: Placeholder tensor that hold dropout keep probability.\n",
    "    : return: Tensor that represents logits\n",
    "    \"\"\"\n",
    "    # TODO: Apply 1, 2, or 3 Convolution and Max Pool layers\n",
    "    #    Play around with different number of outputs, kernel size and stride\n",
    "    # Function Definition from Above:\n",
    "    #    conv2d_maxpool(x_tensor, conv_num_outputs, conv_ksize, conv_strides, pool_ksize, pool_strides)\n",
    "    conv=x\n",
    "    \"\"\"\n",
    "    conv = conv2d_maxpool(conv,\n",
    "                          conv_num_outputs=50,\n",
    "                          conv_ksize=(3,3),\n",
    "                          conv_strides=(1,1),\n",
    "                          pool_ksize=(3,3),\n",
    "                          pool_strides=(2,2))\n",
    "    #\"\"\"\n",
    "    #\"\"\"\n",
    "    conv = conv2d_maxpool(conv,\n",
    "                          conv_num_outputs=25,\n",
    "                          conv_ksize=(3,3),\n",
    "                          conv_strides=(1,1),\n",
    "                          pool_ksize=(3,3),\n",
    "                          pool_strides=(2,2))\n",
    "    #\"\"\"\n",
    "    \n",
    "    \"\"\"\n",
    "    conv = conv2d_maxpool(conv,\n",
    "                          conv_num_outputs=10,\n",
    "                          conv_ksize=(3,3),\n",
    "                          conv_strides=(1,1),\n",
    "                          pool_ksize=(3,3),\n",
    "                          pool_strides=(2,2))\n",
    "    #\"\"\"\n",
    "    \n",
    "    \n",
    "\n",
    "    # TODO: Apply a Flatten Layer\n",
    "    # Function Definition from Above:\n",
    "    #   flatten(x_tensor)\n",
    "    flat_layer = flatten(conv)\n",
    "    \n",
    "\n",
    "    # TODO: Apply 1, 2, or 3 Fully Connected Layers\n",
    "    #    Play around with different number of outputs\n",
    "    # Function Definition from Above:\n",
    "    #   fully_conn(x_tensor, num_outputs)\n",
    "    fc = flat_layer\n",
    "    \n",
    "    #\"\"\"\n",
    "    fc = fully_conn(fc, 120)\n",
    "    fc = tf.nn.dropout(fc, keep_prob)\n",
    "    #\"\"\"\n",
    "    #\"\"\"\n",
    "    fc = fully_conn(fc, 60)\n",
    "    fc = tf.nn.dropout(fc, keep_prob)\n",
    "    #\"\"\"\n",
    "    \n",
    "    # TODO: Apply an Output Layer\n",
    "    #    Set this to the number of classes\n",
    "    # Function Definition from Above:\n",
    "    #   output(x_tensor, num_outputs)\n",
    "    output_layer = output(fc, 10)\n",
    "    \n",
    "    # TODO: return output\n",
    "    return output_layer\n",
    "\n",
    "\n",
    "\"\"\"\n",
    "DON'T MODIFY ANYTHING IN THIS CELL THAT IS BELOW THIS LINE\n",
    "\"\"\"\n",
    "\n",
    "##############################\n",
    "## Build the Neural Network ##\n",
    "##############################\n",
    "\n",
    "# Remove previous weights, bias, inputs, etc..\n",
    "tf.reset_default_graph()\n",
    "\n",
    "# Inputs\n",
    "x = neural_net_image_input((32, 32, 3))\n",
    "y = neural_net_label_input(10)\n",
    "keep_prob = neural_net_keep_prob_input()\n",
    "\n",
    "# Model\n",
    "logits = conv_net(x, keep_prob)\n",
    "\n",
    "# Name logits Tensor, so that is can be loaded from disk after training\n",
    "logits = tf.identity(logits, name='logits')\n",
    "\n",
    "# Loss and Optimizer\n",
    "cost = tf.reduce_mean(tf.nn.softmax_cross_entropy_with_logits(logits=logits, labels=y))\n",
    "optimizer = tf.train.AdamOptimizer().minimize(cost)\n",
    "\n",
    "# Accuracy\n",
    "correct_pred = tf.equal(tf.argmax(logits, 1), tf.argmax(y, 1))\n",
    "accuracy = tf.reduce_mean(tf.cast(correct_pred, tf.float32), name='accuracy')\n",
    "\n",
    "tests.test_conv_net(conv_net)"
   ]
  },
  {
   "cell_type": "markdown",
   "metadata": {
    "deletable": true,
    "editable": true
   },
   "source": [
    "## Train the Neural Network\n",
    "### Single Optimization\n",
    "Implement the function `train_neural_network` to do a single optimization.  The optimization should use `optimizer` to optimize in `session` with a `feed_dict` of the following:\n",
    "* `x` for image input\n",
    "* `y` for labels\n",
    "* `keep_prob` for keep probability for dropout\n",
    "\n",
    "This function will be called for each batch, so `tf.global_variables_initializer()` has already been called.\n",
    "\n",
    "Note: Nothing needs to be returned. This function is only optimizing the neural network."
   ]
  },
  {
   "cell_type": "code",
   "execution_count": 8,
   "metadata": {
    "collapsed": false,
    "deletable": true,
    "editable": true
   },
   "outputs": [
    {
     "name": "stdout",
     "output_type": "stream",
     "text": [
      "Tests Passed\n"
     ]
    }
   ],
   "source": [
    "def train_neural_network(session, optimizer, keep_probability, feature_batch, label_batch):\n",
    "    \"\"\"\n",
    "    Optimize the session on a batch of images and labels\n",
    "    : session: Current TensorFlow session\n",
    "    : optimizer: TensorFlow optimizer function\n",
    "    : keep_probability: keep probability\n",
    "    : feature_batch: Batch of Numpy image data\n",
    "    : label_batch: Batch of Numpy label data\n",
    "    \"\"\"\n",
    "    # TODO: Implement Function\n",
    "    session.run(optimizer, feed_dict={\n",
    "                x: feature_batch,\n",
    "                y: label_batch,\n",
    "                keep_prob: keep_probability})\n",
    "\n",
    "\n",
    "\"\"\"\n",
    "DON'T MODIFY ANYTHING IN THIS CELL THAT IS BELOW THIS LINE\n",
    "\"\"\"\n",
    "tests.test_train_nn(train_neural_network)"
   ]
  },
  {
   "cell_type": "markdown",
   "metadata": {
    "deletable": true,
    "editable": true
   },
   "source": [
    "### Show Stats\n",
    "Implement the function `print_stats` to print loss and validation accuracy.  Use the global variables `valid_features` and `valid_labels` to calculate validation accuracy.  Use a keep probability of `1.0` to calculate the loss and validation accuracy."
   ]
  },
  {
   "cell_type": "code",
   "execution_count": 9,
   "metadata": {
    "collapsed": false,
    "deletable": true,
    "editable": true
   },
   "outputs": [],
   "source": [
    "def print_stats(session, feature_batch, label_batch, cost, accuracy):\n",
    "    \"\"\"\n",
    "    Print information about loss and validation accuracy\n",
    "    : session: Current TensorFlow session\n",
    "    : feature_batch: Batch of Numpy image data\n",
    "    : label_batch: Batch of Numpy label data\n",
    "    : cost: TensorFlow cost function\n",
    "    : accuracy: TensorFlow accuracy function\n",
    "    \"\"\"\n",
    "    # TODO: Implement Function\n",
    "    loss = session.run(cost, feed_dict={\n",
    "                x: feature_batch,\n",
    "                y: label_batch,\n",
    "                keep_prob: 1.})\n",
    "    \n",
    "    accuracy = session.run(accuracy, feed_dict={\n",
    "                x: valid_features,\n",
    "                y: valid_labels,\n",
    "                keep_prob: 1.})\n",
    "    print('Loss: {:.4f} Accuracy: {:.2f}%'.format(loss, accuracy*100))"
   ]
  },
  {
   "cell_type": "markdown",
   "metadata": {
    "deletable": true,
    "editable": true
   },
   "source": [
    "### Hyperparameters\n",
    "Tune the following parameters:\n",
    "* Set `epochs` to the number of iterations until the network stops learning or start overfitting\n",
    "* Set `batch_size` to the highest number that your machine has memory for.  Most people set them to common sizes of memory:\n",
    " * 64\n",
    " * 128\n",
    " * 256\n",
    " * ...\n",
    "* Set `keep_probability` to the probability of keeping a node using dropout"
   ]
  },
  {
   "cell_type": "code",
   "execution_count": 10,
   "metadata": {
    "collapsed": true,
    "deletable": true,
    "editable": true
   },
   "outputs": [],
   "source": [
    "# TODO: Tune Parameters\n",
    "epochs = 50\n",
    "batch_size = 2048\n",
    "keep_probability = 0.9"
   ]
  },
  {
   "cell_type": "markdown",
   "metadata": {
    "deletable": true,
    "editable": true
   },
   "source": [
    "### Train on a Single CIFAR-10 Batch\n",
    "Instead of training the neural network on all the CIFAR-10 batches of data, let's use a single batch. This should save time while you iterate on the model to get a better accuracy.  Once the final validation accuracy is 50% or greater, run the model on all the data in the next section."
   ]
  },
  {
   "cell_type": "code",
   "execution_count": 11,
   "metadata": {
    "collapsed": false,
    "deletable": true,
    "editable": true
   },
   "outputs": [
    {
     "name": "stdout",
     "output_type": "stream",
     "text": [
      "Checking the Training on a Single Batch...\n",
      "Epoch  1, CIFAR-10 Batch 1:  Loss: 2.2673 Accuracy: 12.26%\n",
      "0:00:03.002504\n",
      "Epoch  2, CIFAR-10 Batch 1:  Loss: 2.1810 Accuracy: 18.62%\n",
      "0:00:00.984789\n",
      "Epoch  3, CIFAR-10 Batch 1:  Loss: 2.0854 Accuracy: 26.02%\n",
      "0:00:00.988144\n",
      "Epoch  4, CIFAR-10 Batch 1:  Loss: 2.0318 Accuracy: 26.78%\n",
      "0:00:00.984472\n",
      "Epoch  5, CIFAR-10 Batch 1:  Loss: 2.0031 Accuracy: 28.86%\n",
      "0:00:00.988987\n",
      "Epoch  6, CIFAR-10 Batch 1:  Loss: 1.9708 Accuracy: 29.52%\n",
      "0:00:00.984124\n",
      "Epoch  7, CIFAR-10 Batch 1:  Loss: 1.9429 Accuracy: 30.28%\n",
      "0:00:00.988282\n",
      "Epoch  8, CIFAR-10 Batch 1:  Loss: 1.9101 Accuracy: 31.44%\n",
      "0:00:00.984609\n",
      "Epoch  9, CIFAR-10 Batch 1:  Loss: 1.8758 Accuracy: 32.96%\n",
      "0:00:00.987525\n",
      "Epoch 10, CIFAR-10 Batch 1:  Loss: 1.8363 Accuracy: 33.78%\n",
      "0:00:00.983768\n",
      "Epoch 11, CIFAR-10 Batch 1:  Loss: 1.7950 Accuracy: 35.62%\n",
      "0:00:00.989679\n",
      "Epoch 12, CIFAR-10 Batch 1:  Loss: 1.7537 Accuracy: 36.80%\n",
      "0:00:00.984851\n",
      "Epoch 13, CIFAR-10 Batch 1:  Loss: 1.7157 Accuracy: 38.46%\n",
      "0:00:00.988012\n",
      "Epoch 14, CIFAR-10 Batch 1:  Loss: 1.6851 Accuracy: 38.44%\n",
      "0:00:00.984270\n",
      "Epoch 15, CIFAR-10 Batch 1:  Loss: 1.6428 Accuracy: 40.52%\n",
      "0:00:00.991375\n",
      "Epoch 16, CIFAR-10 Batch 1:  Loss: 1.6076 Accuracy: 40.94%\n",
      "0:00:00.984840\n",
      "Epoch 17, CIFAR-10 Batch 1:  Loss: 1.5745 Accuracy: 41.42%\n",
      "0:00:00.988724\n",
      "Epoch 18, CIFAR-10 Batch 1:  Loss: 1.5385 Accuracy: 42.48%\n",
      "0:00:00.984018\n",
      "Epoch 19, CIFAR-10 Batch 1:  Loss: 1.5122 Accuracy: 43.12%\n",
      "0:00:00.989492\n",
      "Epoch 20, CIFAR-10 Batch 1:  Loss: 1.4824 Accuracy: 43.50%\n",
      "0:00:00.983467\n",
      "Epoch 21, CIFAR-10 Batch 1:  Loss: 1.4562 Accuracy: 44.02%\n",
      "0:00:00.989025\n",
      "Epoch 22, CIFAR-10 Batch 1:  Loss: 1.4279 Accuracy: 44.90%\n",
      "0:00:00.984773\n",
      "Epoch 23, CIFAR-10 Batch 1:  Loss: 1.4163 Accuracy: 44.66%\n",
      "0:00:00.989468\n",
      "Epoch 24, CIFAR-10 Batch 1:  Loss: 1.3828 Accuracy: 45.54%\n",
      "0:00:00.986624\n",
      "Epoch 25, CIFAR-10 Batch 1:  Loss: 1.3596 Accuracy: 46.06%\n",
      "0:00:00.989381\n",
      "Epoch 26, CIFAR-10 Batch 1:  Loss: 1.3402 Accuracy: 47.10%\n",
      "0:00:00.984284\n",
      "Epoch 27, CIFAR-10 Batch 1:  Loss: 1.3283 Accuracy: 46.82%\n",
      "0:00:00.988340\n",
      "Epoch 28, CIFAR-10 Batch 1:  Loss: 1.2968 Accuracy: 47.06%\n",
      "0:00:00.984099\n",
      "Epoch 29, CIFAR-10 Batch 1:  Loss: 1.2799 Accuracy: 47.74%\n",
      "0:00:00.988975\n",
      "Epoch 30, CIFAR-10 Batch 1:  Loss: 1.2699 Accuracy: 47.78%\n",
      "0:00:00.984685\n",
      "Epoch 31, CIFAR-10 Batch 1:  Loss: 1.2505 Accuracy: 48.14%\n",
      "0:00:00.987716\n",
      "Epoch 32, CIFAR-10 Batch 1:  Loss: 1.2303 Accuracy: 48.40%\n",
      "0:00:00.987175\n",
      "Epoch 33, CIFAR-10 Batch 1:  Loss: 1.2094 Accuracy: 48.88%\n",
      "0:00:00.992859\n",
      "Epoch 34, CIFAR-10 Batch 1:  Loss: 1.1954 Accuracy: 49.24%\n",
      "0:00:00.985751\n",
      "Epoch 35, CIFAR-10 Batch 1:  Loss: 1.1726 Accuracy: 49.90%\n",
      "0:00:00.986502\n",
      "Epoch 36, CIFAR-10 Batch 1:  Loss: 1.1566 Accuracy: 49.86%\n",
      "0:00:00.986121\n",
      "Epoch 37, CIFAR-10 Batch 1:  Loss: 1.1400 Accuracy: 50.30%\n",
      "0:00:00.987854\n",
      "Epoch 38, CIFAR-10 Batch 1:  Loss: 1.1321 Accuracy: 50.14%\n",
      "0:00:00.984950\n",
      "Epoch 39, CIFAR-10 Batch 1:  Loss: 1.1080 Accuracy: 50.40%\n",
      "0:00:00.988645\n",
      "Epoch 40, CIFAR-10 Batch 1:  Loss: 1.1073 Accuracy: 50.62%\n",
      "0:00:00.986274\n",
      "Epoch 41, CIFAR-10 Batch 1:  Loss: 1.0795 Accuracy: 51.76%\n",
      "0:00:00.988196\n",
      "Epoch 42, CIFAR-10 Batch 1:  Loss: 1.0683 Accuracy: 51.02%\n",
      "0:00:00.984926\n",
      "Epoch 43, CIFAR-10 Batch 1:  Loss: 1.0530 Accuracy: 51.28%\n",
      "0:00:00.986699\n",
      "Epoch 44, CIFAR-10 Batch 1:  Loss: 1.0542 Accuracy: 51.10%\n",
      "0:00:00.984901\n",
      "Epoch 45, CIFAR-10 Batch 1:  Loss: 1.0465 Accuracy: 51.14%\n",
      "0:00:00.987596\n",
      "Epoch 46, CIFAR-10 Batch 1:  Loss: 1.0284 Accuracy: 51.44%\n",
      "0:00:00.984020\n",
      "Epoch 47, CIFAR-10 Batch 1:  Loss: 1.0055 Accuracy: 52.06%\n",
      "0:00:00.987646\n",
      "Epoch 48, CIFAR-10 Batch 1:  Loss: 0.9912 Accuracy: 51.98%\n",
      "0:00:00.982973\n",
      "Epoch 49, CIFAR-10 Batch 1:  Loss: 0.9770 Accuracy: 52.00%\n",
      "0:00:00.988259\n",
      "Epoch 50, CIFAR-10 Batch 1:  Loss: 0.9639 Accuracy: 52.42%\n",
      "0:00:00.984635\n"
     ]
    }
   ],
   "source": [
    "\"\"\"\n",
    "DON'T MODIFY ANYTHING IN THIS CELL\n",
    "\"\"\"\n",
    "import datetime\n",
    "print('Checking the Training on a Single Batch...')\n",
    "with tf.Session() as sess:\n",
    "    # Initializing the variables\n",
    "    sess.run(tf.global_variables_initializer())\n",
    "    \n",
    "    # Training cycle\n",
    "    for epoch in range(epochs):\n",
    "        batch_i = 1\n",
    "        start = datetime.datetime.now()\n",
    "        for batch_features, batch_labels in helper.load_preprocess_training_batch(batch_i, batch_size):            \n",
    "            train_neural_network(sess, optimizer, keep_probability, batch_features, batch_labels)            \n",
    "        print('Epoch {:>2}, CIFAR-10 Batch {}:  '.format(epoch + 1, batch_i), end='')\n",
    "        print_stats(sess, batch_features, batch_labels, cost, accuracy)\n",
    "        end = datetime.datetime.now()\n",
    "        print (end-start)"
   ]
  },
  {
   "cell_type": "markdown",
   "metadata": {
    "deletable": true,
    "editable": true
   },
   "source": [
    "### Fully Train the Model\n",
    "Now that you got a good accuracy with a single CIFAR-10 batch, try it with all five batches."
   ]
  },
  {
   "cell_type": "code",
   "execution_count": 12,
   "metadata": {
    "collapsed": false,
    "deletable": true,
    "editable": true
   },
   "outputs": [
    {
     "name": "stdout",
     "output_type": "stream",
     "text": [
      "Training...\n",
      "Epoch  1, CIFAR-10 Batch 1:  Loss: 2.2700 Accuracy: 10.30%\n",
      "Epoch  1, CIFAR-10 Batch 2:  Loss: 2.1900 Accuracy: 20.28%\n",
      "Epoch  1, CIFAR-10 Batch 3:  Loss: 2.0909 Accuracy: 21.46%\n",
      "Epoch  1, CIFAR-10 Batch 4:  Loss: 2.0036 Accuracy: 26.82%\n",
      "Epoch  1, CIFAR-10 Batch 5:  Loss: 1.9719 Accuracy: 25.34%\n",
      "0:00:04.956487\n",
      "Epoch  2, CIFAR-10 Batch 1:  Loss: 2.0004 Accuracy: 29.32%\n",
      "Epoch  2, CIFAR-10 Batch 2:  Loss: 1.9449 Accuracy: 30.56%\n",
      "Epoch  2, CIFAR-10 Batch 3:  Loss: 1.8817 Accuracy: 30.08%\n",
      "Epoch  2, CIFAR-10 Batch 4:  Loss: 1.8582 Accuracy: 32.02%\n",
      "Epoch  2, CIFAR-10 Batch 5:  Loss: 1.8639 Accuracy: 31.34%\n",
      "0:00:04.927664\n",
      "Epoch  3, CIFAR-10 Batch 1:  Loss: 1.8579 Accuracy: 34.88%\n",
      "Epoch  3, CIFAR-10 Batch 2:  Loss: 1.8034 Accuracy: 35.64%\n",
      "Epoch  3, CIFAR-10 Batch 3:  Loss: 1.7369 Accuracy: 35.86%\n",
      "Epoch  3, CIFAR-10 Batch 4:  Loss: 1.7325 Accuracy: 37.30%\n",
      "Epoch  3, CIFAR-10 Batch 5:  Loss: 1.7283 Accuracy: 37.42%\n",
      "0:00:04.928022\n",
      "Epoch  4, CIFAR-10 Batch 1:  Loss: 1.7215 Accuracy: 38.88%\n",
      "Epoch  4, CIFAR-10 Batch 2:  Loss: 1.6963 Accuracy: 38.82%\n",
      "Epoch  4, CIFAR-10 Batch 3:  Loss: 1.6081 Accuracy: 40.20%\n",
      "Epoch  4, CIFAR-10 Batch 4:  Loss: 1.6168 Accuracy: 41.06%\n",
      "Epoch  4, CIFAR-10 Batch 5:  Loss: 1.6337 Accuracy: 41.60%\n",
      "0:00:04.930733\n",
      "Epoch  5, CIFAR-10 Batch 1:  Loss: 1.6141 Accuracy: 41.86%\n",
      "Epoch  5, CIFAR-10 Batch 2:  Loss: 1.5784 Accuracy: 42.60%\n",
      "Epoch  5, CIFAR-10 Batch 3:  Loss: 1.5290 Accuracy: 42.76%\n",
      "Epoch  5, CIFAR-10 Batch 4:  Loss: 1.5322 Accuracy: 43.12%\n",
      "Epoch  5, CIFAR-10 Batch 5:  Loss: 1.5624 Accuracy: 43.56%\n",
      "0:00:04.929986\n",
      "Epoch  6, CIFAR-10 Batch 1:  Loss: 1.5339 Accuracy: 43.54%\n",
      "Epoch  6, CIFAR-10 Batch 2:  Loss: 1.5062 Accuracy: 44.66%\n",
      "Epoch  6, CIFAR-10 Batch 3:  Loss: 1.4731 Accuracy: 44.42%\n",
      "Epoch  6, CIFAR-10 Batch 4:  Loss: 1.4649 Accuracy: 45.04%\n",
      "Epoch  6, CIFAR-10 Batch 5:  Loss: 1.5061 Accuracy: 44.96%\n",
      "0:00:04.935557\n",
      "Epoch  7, CIFAR-10 Batch 1:  Loss: 1.4635 Accuracy: 45.64%\n",
      "Epoch  7, CIFAR-10 Batch 2:  Loss: 1.4528 Accuracy: 45.96%\n",
      "Epoch  7, CIFAR-10 Batch 3:  Loss: 1.4123 Accuracy: 46.36%\n",
      "Epoch  7, CIFAR-10 Batch 4:  Loss: 1.4125 Accuracy: 46.60%\n",
      "Epoch  7, CIFAR-10 Batch 5:  Loss: 1.4513 Accuracy: 47.10%\n",
      "0:00:04.929438\n",
      "Epoch  8, CIFAR-10 Batch 1:  Loss: 1.4155 Accuracy: 47.62%\n",
      "Epoch  8, CIFAR-10 Batch 2:  Loss: 1.4171 Accuracy: 47.78%\n",
      "Epoch  8, CIFAR-10 Batch 3:  Loss: 1.3572 Accuracy: 48.24%\n",
      "Epoch  8, CIFAR-10 Batch 4:  Loss: 1.3748 Accuracy: 48.48%\n",
      "Epoch  8, CIFAR-10 Batch 5:  Loss: 1.4041 Accuracy: 48.80%\n",
      "0:00:04.933527\n",
      "Epoch  9, CIFAR-10 Batch 1:  Loss: 1.3680 Accuracy: 49.14%\n",
      "Epoch  9, CIFAR-10 Batch 2:  Loss: 1.3798 Accuracy: 48.98%\n",
      "Epoch  9, CIFAR-10 Batch 3:  Loss: 1.3230 Accuracy: 49.80%\n",
      "Epoch  9, CIFAR-10 Batch 4:  Loss: 1.3254 Accuracy: 50.40%\n",
      "Epoch  9, CIFAR-10 Batch 5:  Loss: 1.3575 Accuracy: 49.96%\n",
      "0:00:04.942886\n",
      "Epoch 10, CIFAR-10 Batch 1:  Loss: 1.3351 Accuracy: 50.82%\n",
      "Epoch 10, CIFAR-10 Batch 2:  Loss: 1.3272 Accuracy: 51.46%\n",
      "Epoch 10, CIFAR-10 Batch 3:  Loss: 1.2818 Accuracy: 51.38%\n",
      "Epoch 10, CIFAR-10 Batch 4:  Loss: 1.2850 Accuracy: 51.04%\n",
      "Epoch 10, CIFAR-10 Batch 5:  Loss: 1.3199 Accuracy: 51.60%\n",
      "0:00:04.928450\n",
      "Epoch 11, CIFAR-10 Batch 1:  Loss: 1.2995 Accuracy: 51.50%\n",
      "Epoch 11, CIFAR-10 Batch 2:  Loss: 1.2966 Accuracy: 52.26%\n",
      "Epoch 11, CIFAR-10 Batch 3:  Loss: 1.2535 Accuracy: 51.72%\n",
      "Epoch 11, CIFAR-10 Batch 4:  Loss: 1.2613 Accuracy: 51.96%\n",
      "Epoch 11, CIFAR-10 Batch 5:  Loss: 1.2882 Accuracy: 52.50%\n",
      "0:00:04.932409\n",
      "Epoch 12, CIFAR-10 Batch 1:  Loss: 1.2746 Accuracy: 53.00%\n",
      "Epoch 12, CIFAR-10 Batch 2:  Loss: 1.2791 Accuracy: 52.54%\n",
      "Epoch 12, CIFAR-10 Batch 3:  Loss: 1.2306 Accuracy: 52.56%\n",
      "Epoch 12, CIFAR-10 Batch 4:  Loss: 1.2411 Accuracy: 52.68%\n",
      "Epoch 12, CIFAR-10 Batch 5:  Loss: 1.2630 Accuracy: 52.90%\n",
      "0:00:04.928463\n",
      "Epoch 13, CIFAR-10 Batch 1:  Loss: 1.2431 Accuracy: 53.74%\n",
      "Epoch 13, CIFAR-10 Batch 2:  Loss: 1.2404 Accuracy: 53.96%\n",
      "Epoch 13, CIFAR-10 Batch 3:  Loss: 1.1866 Accuracy: 53.76%\n",
      "Epoch 13, CIFAR-10 Batch 4:  Loss: 1.2041 Accuracy: 53.68%\n",
      "Epoch 13, CIFAR-10 Batch 5:  Loss: 1.2216 Accuracy: 53.78%\n",
      "0:00:04.929582\n",
      "Epoch 14, CIFAR-10 Batch 1:  Loss: 1.2112 Accuracy: 54.48%\n",
      "Epoch 14, CIFAR-10 Batch 2:  Loss: 1.2104 Accuracy: 54.60%\n",
      "Epoch 14, CIFAR-10 Batch 3:  Loss: 1.1528 Accuracy: 54.80%\n",
      "Epoch 14, CIFAR-10 Batch 4:  Loss: 1.1736 Accuracy: 55.30%\n",
      "Epoch 14, CIFAR-10 Batch 5:  Loss: 1.1905 Accuracy: 53.94%\n",
      "0:00:04.923190\n",
      "Epoch 15, CIFAR-10 Batch 1:  Loss: 1.1873 Accuracy: 54.86%\n",
      "Epoch 15, CIFAR-10 Batch 2:  Loss: 1.1874 Accuracy: 54.72%\n",
      "Epoch 15, CIFAR-10 Batch 3:  Loss: 1.1309 Accuracy: 55.52%\n",
      "Epoch 15, CIFAR-10 Batch 4:  Loss: 1.1504 Accuracy: 55.82%\n",
      "Epoch 15, CIFAR-10 Batch 5:  Loss: 1.1566 Accuracy: 54.62%\n",
      "0:00:04.924015\n",
      "Epoch 16, CIFAR-10 Batch 1:  Loss: 1.1623 Accuracy: 55.64%\n",
      "Epoch 16, CIFAR-10 Batch 2:  Loss: 1.1599 Accuracy: 55.58%\n",
      "Epoch 16, CIFAR-10 Batch 3:  Loss: 1.1064 Accuracy: 56.00%\n",
      "Epoch 16, CIFAR-10 Batch 4:  Loss: 1.1298 Accuracy: 55.72%\n",
      "Epoch 16, CIFAR-10 Batch 5:  Loss: 1.1283 Accuracy: 55.56%\n",
      "0:00:04.931368\n",
      "Epoch 17, CIFAR-10 Batch 1:  Loss: 1.1399 Accuracy: 56.46%\n",
      "Epoch 17, CIFAR-10 Batch 2:  Loss: 1.1342 Accuracy: 56.52%\n",
      "Epoch 17, CIFAR-10 Batch 3:  Loss: 1.0855 Accuracy: 56.12%\n",
      "Epoch 17, CIFAR-10 Batch 4:  Loss: 1.1056 Accuracy: 56.24%\n",
      "Epoch 17, CIFAR-10 Batch 5:  Loss: 1.1068 Accuracy: 55.68%\n",
      "0:00:04.932911\n",
      "Epoch 18, CIFAR-10 Batch 1:  Loss: 1.1194 Accuracy: 56.46%\n",
      "Epoch 18, CIFAR-10 Batch 2:  Loss: 1.1119 Accuracy: 57.10%\n",
      "Epoch 18, CIFAR-10 Batch 3:  Loss: 1.0531 Accuracy: 56.84%\n",
      "Epoch 18, CIFAR-10 Batch 4:  Loss: 1.0791 Accuracy: 56.76%\n",
      "Epoch 18, CIFAR-10 Batch 5:  Loss: 1.0754 Accuracy: 57.16%\n",
      "0:00:04.930202\n",
      "Epoch 19, CIFAR-10 Batch 1:  Loss: 1.1056 Accuracy: 56.46%\n",
      "Epoch 19, CIFAR-10 Batch 2:  Loss: 1.0912 Accuracy: 57.62%\n",
      "Epoch 19, CIFAR-10 Batch 3:  Loss: 1.0384 Accuracy: 57.32%\n",
      "Epoch 19, CIFAR-10 Batch 4:  Loss: 1.0580 Accuracy: 58.00%\n",
      "Epoch 19, CIFAR-10 Batch 5:  Loss: 1.0539 Accuracy: 57.02%\n",
      "0:00:04.928543\n",
      "Epoch 20, CIFAR-10 Batch 1:  Loss: 1.0746 Accuracy: 57.24%\n",
      "Epoch 20, CIFAR-10 Batch 2:  Loss: 1.0647 Accuracy: 58.00%\n",
      "Epoch 20, CIFAR-10 Batch 3:  Loss: 1.0169 Accuracy: 57.88%\n",
      "Epoch 20, CIFAR-10 Batch 4:  Loss: 1.0422 Accuracy: 58.16%\n",
      "Epoch 20, CIFAR-10 Batch 5:  Loss: 1.0288 Accuracy: 57.50%\n",
      "0:00:04.925957\n",
      "Epoch 21, CIFAR-10 Batch 1:  Loss: 1.0599 Accuracy: 57.22%\n",
      "Epoch 21, CIFAR-10 Batch 2:  Loss: 1.0400 Accuracy: 58.48%\n",
      "Epoch 21, CIFAR-10 Batch 3:  Loss: 0.9903 Accuracy: 58.48%\n",
      "Epoch 21, CIFAR-10 Batch 4:  Loss: 1.0234 Accuracy: 58.06%\n",
      "Epoch 21, CIFAR-10 Batch 5:  Loss: 1.0070 Accuracy: 57.80%\n",
      "0:00:04.930473\n",
      "Epoch 22, CIFAR-10 Batch 1:  Loss: 1.0370 Accuracy: 57.72%\n",
      "Epoch 22, CIFAR-10 Batch 2:  Loss: 1.0180 Accuracy: 58.82%\n",
      "Epoch 22, CIFAR-10 Batch 3:  Loss: 0.9670 Accuracy: 58.72%\n",
      "Epoch 22, CIFAR-10 Batch 4:  Loss: 0.9944 Accuracy: 58.90%\n",
      "Epoch 22, CIFAR-10 Batch 5:  Loss: 0.9814 Accuracy: 58.56%\n",
      "0:00:04.924053\n",
      "Epoch 23, CIFAR-10 Batch 1:  Loss: 1.0102 Accuracy: 58.76%\n",
      "Epoch 23, CIFAR-10 Batch 2:  Loss: 1.0032 Accuracy: 59.32%\n",
      "Epoch 23, CIFAR-10 Batch 3:  Loss: 0.9475 Accuracy: 59.50%\n",
      "Epoch 23, CIFAR-10 Batch 4:  Loss: 0.9823 Accuracy: 59.02%\n",
      "Epoch 23, CIFAR-10 Batch 5:  Loss: 0.9664 Accuracy: 58.56%\n",
      "0:00:04.927015\n",
      "Epoch 24, CIFAR-10 Batch 1:  Loss: 0.9953 Accuracy: 58.88%\n",
      "Epoch 24, CIFAR-10 Batch 2:  Loss: 0.9858 Accuracy: 59.72%\n",
      "Epoch 24, CIFAR-10 Batch 3:  Loss: 0.9284 Accuracy: 59.24%\n",
      "Epoch 24, CIFAR-10 Batch 4:  Loss: 0.9522 Accuracy: 59.62%\n",
      "Epoch 24, CIFAR-10 Batch 5:  Loss: 0.9437 Accuracy: 58.98%\n",
      "0:00:04.924196\n",
      "Epoch 25, CIFAR-10 Batch 1:  Loss: 0.9723 Accuracy: 59.12%\n",
      "Epoch 25, CIFAR-10 Batch 2:  Loss: 0.9648 Accuracy: 60.04%\n",
      "Epoch 25, CIFAR-10 Batch 3:  Loss: 0.9161 Accuracy: 59.82%\n",
      "Epoch 25, CIFAR-10 Batch 4:  Loss: 0.9334 Accuracy: 59.84%\n",
      "Epoch 25, CIFAR-10 Batch 5:  Loss: 0.9204 Accuracy: 59.12%\n",
      "0:00:04.935484\n",
      "Epoch 26, CIFAR-10 Batch 1:  Loss: 0.9511 Accuracy: 59.80%\n",
      "Epoch 26, CIFAR-10 Batch 2:  Loss: 0.9412 Accuracy: 60.10%\n",
      "Epoch 26, CIFAR-10 Batch 3:  Loss: 0.8949 Accuracy: 59.72%\n",
      "Epoch 26, CIFAR-10 Batch 4:  Loss: 0.9145 Accuracy: 60.46%\n",
      "Epoch 26, CIFAR-10 Batch 5:  Loss: 0.9014 Accuracy: 59.62%\n",
      "0:00:04.930973\n",
      "Epoch 27, CIFAR-10 Batch 1:  Loss: 0.9378 Accuracy: 59.96%\n",
      "Epoch 27, CIFAR-10 Batch 2:  Loss: 0.9204 Accuracy: 60.08%\n",
      "Epoch 27, CIFAR-10 Batch 3:  Loss: 0.8693 Accuracy: 60.26%\n",
      "Epoch 27, CIFAR-10 Batch 4:  Loss: 0.8957 Accuracy: 60.64%\n",
      "Epoch 27, CIFAR-10 Batch 5:  Loss: 0.8829 Accuracy: 59.72%\n",
      "0:00:04.926800\n",
      "Epoch 28, CIFAR-10 Batch 1:  Loss: 0.9170 Accuracy: 60.60%\n",
      "Epoch 28, CIFAR-10 Batch 2:  Loss: 0.8988 Accuracy: 60.22%\n",
      "Epoch 28, CIFAR-10 Batch 3:  Loss: 0.8543 Accuracy: 60.74%\n",
      "Epoch 28, CIFAR-10 Batch 4:  Loss: 0.8820 Accuracy: 60.90%\n",
      "Epoch 28, CIFAR-10 Batch 5:  Loss: 0.8640 Accuracy: 59.84%\n",
      "0:00:04.939775\n",
      "Epoch 29, CIFAR-10 Batch 1:  Loss: 0.9033 Accuracy: 60.94%\n",
      "Epoch 29, CIFAR-10 Batch 2:  Loss: 0.8848 Accuracy: 60.66%\n",
      "Epoch 29, CIFAR-10 Batch 3:  Loss: 0.8371 Accuracy: 60.92%\n",
      "Epoch 29, CIFAR-10 Batch 4:  Loss: 0.8640 Accuracy: 61.30%\n",
      "Epoch 29, CIFAR-10 Batch 5:  Loss: 0.8521 Accuracy: 59.98%\n",
      "0:00:04.930995\n",
      "Epoch 30, CIFAR-10 Batch 1:  Loss: 0.8852 Accuracy: 60.84%\n",
      "Epoch 30, CIFAR-10 Batch 2:  Loss: 0.8701 Accuracy: 61.10%\n",
      "Epoch 30, CIFAR-10 Batch 3:  Loss: 0.8225 Accuracy: 61.48%\n",
      "Epoch 30, CIFAR-10 Batch 4:  Loss: 0.8407 Accuracy: 61.08%\n",
      "Epoch 30, CIFAR-10 Batch 5:  Loss: 0.8314 Accuracy: 60.44%\n",
      "0:00:04.934094\n",
      "Epoch 31, CIFAR-10 Batch 1:  Loss: 0.8771 Accuracy: 61.16%\n",
      "Epoch 31, CIFAR-10 Batch 2:  Loss: 0.8521 Accuracy: 61.62%\n",
      "Epoch 31, CIFAR-10 Batch 3:  Loss: 0.8023 Accuracy: 61.66%\n",
      "Epoch 31, CIFAR-10 Batch 4:  Loss: 0.8223 Accuracy: 61.80%\n",
      "Epoch 31, CIFAR-10 Batch 5:  Loss: 0.8121 Accuracy: 60.76%\n",
      "0:00:04.932134\n",
      "Epoch 32, CIFAR-10 Batch 1:  Loss: 0.8470 Accuracy: 61.28%\n",
      "Epoch 32, CIFAR-10 Batch 2:  Loss: 0.8343 Accuracy: 61.46%\n",
      "Epoch 32, CIFAR-10 Batch 3:  Loss: 0.7896 Accuracy: 61.88%\n",
      "Epoch 32, CIFAR-10 Batch 4:  Loss: 0.8094 Accuracy: 62.20%\n",
      "Epoch 32, CIFAR-10 Batch 5:  Loss: 0.7969 Accuracy: 60.60%\n",
      "0:00:04.929217\n",
      "Epoch 33, CIFAR-10 Batch 1:  Loss: 0.8467 Accuracy: 61.28%\n",
      "Epoch 33, CIFAR-10 Batch 2:  Loss: 0.8183 Accuracy: 61.72%\n",
      "Epoch 33, CIFAR-10 Batch 3:  Loss: 0.7793 Accuracy: 61.92%\n",
      "Epoch 33, CIFAR-10 Batch 4:  Loss: 0.7947 Accuracy: 62.10%\n",
      "Epoch 33, CIFAR-10 Batch 5:  Loss: 0.7844 Accuracy: 61.04%\n",
      "0:00:04.929258\n",
      "Epoch 34, CIFAR-10 Batch 1:  Loss: 0.8289 Accuracy: 61.70%\n",
      "Epoch 34, CIFAR-10 Batch 2:  Loss: 0.7976 Accuracy: 61.90%\n",
      "Epoch 34, CIFAR-10 Batch 3:  Loss: 0.7678 Accuracy: 62.32%\n",
      "Epoch 34, CIFAR-10 Batch 4:  Loss: 0.7974 Accuracy: 61.08%\n",
      "Epoch 34, CIFAR-10 Batch 5:  Loss: 0.7800 Accuracy: 61.02%\n",
      "0:00:04.929841\n",
      "Epoch 35, CIFAR-10 Batch 1:  Loss: 0.8174 Accuracy: 61.96%\n",
      "Epoch 35, CIFAR-10 Batch 2:  Loss: 0.7818 Accuracy: 62.18%\n",
      "Epoch 35, CIFAR-10 Batch 3:  Loss: 0.7507 Accuracy: 62.34%\n",
      "Epoch 35, CIFAR-10 Batch 4:  Loss: 0.7710 Accuracy: 61.96%\n",
      "Epoch 35, CIFAR-10 Batch 5:  Loss: 0.7440 Accuracy: 61.42%\n",
      "0:00:04.926040\n",
      "Epoch 36, CIFAR-10 Batch 1:  Loss: 0.7937 Accuracy: 62.26%\n",
      "Epoch 36, CIFAR-10 Batch 2:  Loss: 0.7742 Accuracy: 62.32%\n",
      "Epoch 36, CIFAR-10 Batch 3:  Loss: 0.7393 Accuracy: 62.66%\n",
      "Epoch 36, CIFAR-10 Batch 4:  Loss: 0.7532 Accuracy: 62.10%\n",
      "Epoch 36, CIFAR-10 Batch 5:  Loss: 0.7231 Accuracy: 61.86%\n",
      "0:00:04.930741\n",
      "Epoch 37, CIFAR-10 Batch 1:  Loss: 0.7743 Accuracy: 62.58%\n",
      "Epoch 37, CIFAR-10 Batch 2:  Loss: 0.7513 Accuracy: 62.54%\n",
      "Epoch 37, CIFAR-10 Batch 3:  Loss: 0.7297 Accuracy: 62.76%\n",
      "Epoch 37, CIFAR-10 Batch 4:  Loss: 0.7383 Accuracy: 61.82%\n",
      "Epoch 37, CIFAR-10 Batch 5:  Loss: 0.7204 Accuracy: 61.76%\n",
      "0:00:04.934630\n",
      "Epoch 38, CIFAR-10 Batch 1:  Loss: 0.7585 Accuracy: 62.74%\n",
      "Epoch 38, CIFAR-10 Batch 2:  Loss: 0.7380 Accuracy: 62.72%\n",
      "Epoch 38, CIFAR-10 Batch 3:  Loss: 0.7239 Accuracy: 61.98%\n",
      "Epoch 38, CIFAR-10 Batch 4:  Loss: 0.7345 Accuracy: 62.44%\n",
      "Epoch 38, CIFAR-10 Batch 5:  Loss: 0.7178 Accuracy: 61.30%\n",
      "0:00:04.931434\n",
      "Epoch 39, CIFAR-10 Batch 1:  Loss: 0.7635 Accuracy: 62.28%\n",
      "Epoch 39, CIFAR-10 Batch 2:  Loss: 0.7272 Accuracy: 62.80%\n",
      "Epoch 39, CIFAR-10 Batch 3:  Loss: 0.6998 Accuracy: 63.24%\n",
      "Epoch 39, CIFAR-10 Batch 4:  Loss: 0.7032 Accuracy: 62.84%\n",
      "Epoch 39, CIFAR-10 Batch 5:  Loss: 0.6843 Accuracy: 62.70%\n",
      "0:00:04.928999\n",
      "Epoch 40, CIFAR-10 Batch 1:  Loss: 0.7317 Accuracy: 62.88%\n",
      "Epoch 40, CIFAR-10 Batch 2:  Loss: 0.7208 Accuracy: 62.56%\n",
      "Epoch 40, CIFAR-10 Batch 3:  Loss: 0.6941 Accuracy: 62.66%\n",
      "Epoch 40, CIFAR-10 Batch 4:  Loss: 0.6961 Accuracy: 62.42%\n",
      "Epoch 40, CIFAR-10 Batch 5:  Loss: 0.6776 Accuracy: 62.32%\n",
      "0:00:04.929664\n",
      "Epoch 41, CIFAR-10 Batch 1:  Loss: 0.7401 Accuracy: 63.04%\n",
      "Epoch 41, CIFAR-10 Batch 2:  Loss: 0.6925 Accuracy: 63.12%\n",
      "Epoch 41, CIFAR-10 Batch 3:  Loss: 0.6779 Accuracy: 62.84%\n",
      "Epoch 41, CIFAR-10 Batch 4:  Loss: 0.6852 Accuracy: 62.68%\n",
      "Epoch 41, CIFAR-10 Batch 5:  Loss: 0.6538 Accuracy: 62.52%\n",
      "0:00:04.931775\n",
      "Epoch 42, CIFAR-10 Batch 1:  Loss: 0.7204 Accuracy: 63.12%\n",
      "Epoch 42, CIFAR-10 Batch 2:  Loss: 0.6866 Accuracy: 62.92%\n",
      "Epoch 42, CIFAR-10 Batch 3:  Loss: 0.6715 Accuracy: 63.20%\n",
      "Epoch 42, CIFAR-10 Batch 4:  Loss: 0.6585 Accuracy: 63.52%\n",
      "Epoch 42, CIFAR-10 Batch 5:  Loss: 0.6325 Accuracy: 63.30%\n",
      "0:00:04.932150\n",
      "Epoch 43, CIFAR-10 Batch 1:  Loss: 0.6975 Accuracy: 63.12%\n",
      "Epoch 43, CIFAR-10 Batch 2:  Loss: 0.6677 Accuracy: 63.58%\n",
      "Epoch 43, CIFAR-10 Batch 3:  Loss: 0.6535 Accuracy: 63.80%\n",
      "Epoch 43, CIFAR-10 Batch 4:  Loss: 0.6445 Accuracy: 64.06%\n",
      "Epoch 43, CIFAR-10 Batch 5:  Loss: 0.6135 Accuracy: 63.52%\n",
      "0:00:04.940867\n",
      "Epoch 44, CIFAR-10 Batch 1:  Loss: 0.6827 Accuracy: 63.96%\n",
      "Epoch 44, CIFAR-10 Batch 2:  Loss: 0.6557 Accuracy: 63.98%\n",
      "Epoch 44, CIFAR-10 Batch 3:  Loss: 0.6448 Accuracy: 63.96%\n",
      "Epoch 44, CIFAR-10 Batch 4:  Loss: 0.6282 Accuracy: 63.88%\n",
      "Epoch 44, CIFAR-10 Batch 5:  Loss: 0.6030 Accuracy: 63.66%\n",
      "0:00:04.930792\n",
      "Epoch 45, CIFAR-10 Batch 1:  Loss: 0.6736 Accuracy: 63.36%\n",
      "Epoch 45, CIFAR-10 Batch 2:  Loss: 0.6404 Accuracy: 63.92%\n",
      "Epoch 45, CIFAR-10 Batch 3:  Loss: 0.6252 Accuracy: 63.70%\n",
      "Epoch 45, CIFAR-10 Batch 4:  Loss: 0.6190 Accuracy: 63.84%\n",
      "Epoch 45, CIFAR-10 Batch 5:  Loss: 0.5899 Accuracy: 64.06%\n",
      "0:00:04.929864\n",
      "Epoch 46, CIFAR-10 Batch 1:  Loss: 0.6480 Accuracy: 63.58%\n",
      "Epoch 46, CIFAR-10 Batch 2:  Loss: 0.6358 Accuracy: 64.04%\n",
      "Epoch 46, CIFAR-10 Batch 3:  Loss: 0.6206 Accuracy: 63.72%\n",
      "Epoch 46, CIFAR-10 Batch 4:  Loss: 0.5974 Accuracy: 64.40%\n",
      "Epoch 46, CIFAR-10 Batch 5:  Loss: 0.5782 Accuracy: 63.72%\n",
      "0:00:04.928365\n",
      "Epoch 47, CIFAR-10 Batch 1:  Loss: 0.6408 Accuracy: 63.84%\n",
      "Epoch 47, CIFAR-10 Batch 2:  Loss: 0.6136 Accuracy: 63.96%\n",
      "Epoch 47, CIFAR-10 Batch 3:  Loss: 0.6038 Accuracy: 64.12%\n",
      "Epoch 47, CIFAR-10 Batch 4:  Loss: 0.5812 Accuracy: 64.64%\n",
      "Epoch 47, CIFAR-10 Batch 5:  Loss: 0.5663 Accuracy: 64.14%\n",
      "0:00:04.939497\n",
      "Epoch 48, CIFAR-10 Batch 1:  Loss: 0.6358 Accuracy: 63.96%\n",
      "Epoch 48, CIFAR-10 Batch 2:  Loss: 0.6056 Accuracy: 64.30%\n",
      "Epoch 48, CIFAR-10 Batch 3:  Loss: 0.5892 Accuracy: 64.18%\n",
      "Epoch 48, CIFAR-10 Batch 4:  Loss: 0.5760 Accuracy: 64.20%\n",
      "Epoch 48, CIFAR-10 Batch 5:  Loss: 0.5643 Accuracy: 63.84%\n",
      "0:00:04.932745\n",
      "Epoch 49, CIFAR-10 Batch 1:  Loss: 0.6126 Accuracy: 64.46%\n",
      "Epoch 49, CIFAR-10 Batch 2:  Loss: 0.5884 Accuracy: 64.78%\n",
      "Epoch 49, CIFAR-10 Batch 3:  Loss: 0.5867 Accuracy: 64.30%\n",
      "Epoch 49, CIFAR-10 Batch 4:  Loss: 0.5655 Accuracy: 64.60%\n",
      "Epoch 49, CIFAR-10 Batch 5:  Loss: 0.5470 Accuracy: 64.34%\n",
      "0:00:04.928066\n",
      "Epoch 50, CIFAR-10 Batch 1:  Loss: 0.6250 Accuracy: 64.00%\n",
      "Epoch 50, CIFAR-10 Batch 2:  Loss: 0.5883 Accuracy: 64.64%\n",
      "Epoch 50, CIFAR-10 Batch 3:  Loss: 0.5824 Accuracy: 63.62%\n",
      "Epoch 50, CIFAR-10 Batch 4:  Loss: 0.5570 Accuracy: 64.64%\n",
      "Epoch 50, CIFAR-10 Batch 5:  Loss: 0.5444 Accuracy: 64.10%\n",
      "0:00:04.927868\n"
     ]
    }
   ],
   "source": [
    "\"\"\"\n",
    "DON'T MODIFY ANYTHING IN THIS CELL\n",
    "\"\"\"\n",
    "save_model_path = './image_classification'\n",
    "\n",
    "print('Training...')\n",
    "with tf.Session() as sess:\n",
    "    # Initializing the variables\n",
    "    sess.run(tf.global_variables_initializer())\n",
    "    \n",
    "    # Training cycle\n",
    "    for epoch in range(epochs):\n",
    "        # Loop over all batches\n",
    "        start = datetime.datetime.now()\n",
    "        n_batches = 5\n",
    "        for batch_i in range(1, n_batches + 1):\n",
    "            for batch_features, batch_labels in helper.load_preprocess_training_batch(batch_i, batch_size):\n",
    "                train_neural_network(sess, optimizer, keep_probability, batch_features, batch_labels)\n",
    "            print('Epoch {:>2}, CIFAR-10 Batch {}:  '.format(epoch + 1, batch_i), end='')\n",
    "            print_stats(sess, batch_features, batch_labels, cost, accuracy)\n",
    "        end = datetime.datetime.now()\n",
    "        print (end-start)    \n",
    "    # Save Model\n",
    "    saver = tf.train.Saver()\n",
    "    save_path = saver.save(sess, save_model_path)"
   ]
  },
  {
   "cell_type": "markdown",
   "metadata": {
    "deletable": true,
    "editable": true
   },
   "source": [
    "# Checkpoint\n",
    "The model has been saved to disk.\n",
    "## Test Model\n",
    "Test your model against the test dataset.  This will be your final accuracy. You should have an accuracy greater than 50%. If you don't, keep tweaking the model architecture and parameters."
   ]
  },
  {
   "cell_type": "code",
   "execution_count": 13,
   "metadata": {
    "collapsed": false,
    "deletable": true,
    "editable": true
   },
   "outputs": [
    {
     "name": "stdout",
     "output_type": "stream",
     "text": [
      "Testing Accuracy: 0.6375786423683166\n",
      "\n"
     ]
    },
    {
     "data": {
      "image/png": "[encoded data removed]",
      "text/plain": [
       "<matplotlib.figure.Figure at 0x7f6891f2cf28>"
      ]
     },
     "metadata": {
      "image/png": {
       "height": 319,
       "width": 355
      }
     },
     "output_type": "display_data"
    }
   ],
   "source": [
    "\"\"\"\n",
    "DON'T MODIFY ANYTHING IN THIS CELL\n",
    "\"\"\"\n",
    "%matplotlib inline\n",
    "%config InlineBackend.figure_format = 'retina'\n",
    "\n",
    "import tensorflow as tf\n",
    "import pickle\n",
    "import helper\n",
    "import random\n",
    "\n",
    "# Set batch size if not already set\n",
    "try:\n",
    "    if batch_size:\n",
    "        pass\n",
    "except NameError:\n",
    "    batch_size = 64\n",
    "\n",
    "save_model_path = './image_classification'\n",
    "n_samples = 4\n",
    "top_n_predictions = 3\n",
    "\n",
    "def test_model():\n",
    "    \"\"\"\n",
    "    Test the saved model against the test dataset\n",
    "    \"\"\"\n",
    "\n",
    "    test_features, test_labels = pickle.load(open('preprocess_training.p', mode='rb'))\n",
    "    loaded_graph = tf.Graph()\n",
    "\n",
    "    with tf.Session(graph=loaded_graph) as sess:\n",
    "        # Load model\n",
    "        loader = tf.train.import_meta_graph(save_model_path + '.meta')\n",
    "        loader.restore(sess, save_model_path)\n",
    "\n",
    "        # Get Tensors from loaded model\n",
    "        loaded_x = loaded_graph.get_tensor_by_name('x:0')\n",
    "        loaded_y = loaded_graph.get_tensor_by_name('y:0')\n",
    "        loaded_keep_prob = loaded_graph.get_tensor_by_name('keep_prob:0')\n",
    "        loaded_logits = loaded_graph.get_tensor_by_name('logits:0')\n",
    "        loaded_acc = loaded_graph.get_tensor_by_name('accuracy:0')\n",
    "        \n",
    "        # Get accuracy in batches for memory limitations\n",
    "        test_batch_acc_total = 0\n",
    "        test_batch_count = 0\n",
    "        \n",
    "        for train_feature_batch, train_label_batch in helper.batch_features_labels(test_features, test_labels, batch_size):\n",
    "            test_batch_acc_total += sess.run(\n",
    "                loaded_acc,\n",
    "                feed_dict={loaded_x: train_feature_batch, loaded_y: train_label_batch, loaded_keep_prob: 1.0})\n",
    "            test_batch_count += 1\n",
    "\n",
    "        print('Testing Accuracy: {}\\n'.format(test_batch_acc_total/test_batch_count))\n",
    "\n",
    "        # Print Random Samples\n",
    "        random_test_features, random_test_labels = tuple(zip(*random.sample(list(zip(test_features, test_labels)), n_samples)))\n",
    "        random_test_predictions = sess.run(\n",
    "            tf.nn.top_k(tf.nn.softmax(loaded_logits), top_n_predictions),\n",
    "            feed_dict={loaded_x: random_test_features, loaded_y: random_test_labels, loaded_keep_prob: 1.0})\n",
    "        helper.display_image_predictions(random_test_features, random_test_labels, random_test_predictions)\n",
    "\n",
    "\n",
    "test_model()"
   ]
  },
  {
   "cell_type": "markdown",
   "metadata": {
    "deletable": true,
    "editable": true
   },
   "source": [
    "## Why 50-70% Accuracy?\n",
    "You might be wondering why you can't get an accuracy any higher. First things first, 50% isn't bad for a simple CNN.  Pure guessing would get you 10% accuracy. However, you might notice people are getting scores [well above 70%](http://rodrigob.github.io/are_we_there_yet/build/classification_datasets_results.html#43494641522d3130).  That's because we haven't taught you all there is to know about neural networks. We still need to cover a few more techniques.\n",
    "## Submitting This Project\n",
    "When submitting this project, make sure to run all the cells before saving the notebook.  Save the notebook file as \"dlnd_image_classification.ipynb\" and save it as a HTML file under \"File\" -> \"Download as\".  Include the \"helper.py\" and \"problem_unittests.py\" files in your submission."
   ]
  }
 ],
 "metadata": {
  "anaconda-cloud": {},
  "kernelspec": {
   "display_name": "Python 3",
   "language": "python",
   "name": "python3"
  },
  "language_info": {
   "codemirror_mode": {
    "name": "ipython",
    "version": 3
   },
   "file_extension": ".py",
   "mimetype": "text/x-python",
   "name": "python",
   "nbconvert_exporter": "python",
   "pygments_lexer": "ipython3",
   "version": "3.5.2"
  },
  "widgets": {
   "state": {},
   "version": "1.1.2"
  }
 },
 "nbformat": 4,
 "nbformat_minor": 0
}
