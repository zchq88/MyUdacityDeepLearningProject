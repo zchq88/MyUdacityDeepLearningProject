{
 "cells": [
  {
   "cell_type": "markdown",
   "metadata": {
    "collapsed": true,
    "deletable": true,
    "editable": true
   },
   "source": [
    "# Image Classification\n",
    "In this project, you'll classify images from the [CIFAR-10 dataset](https://www.cs.toronto.edu/~kriz/cifar.html).  The dataset consists of airplanes, dogs, cats, and other objects. You'll preprocess the images, then train a convolutional neural network on all the samples. The images need to be normalized and the labels need to be one-hot encoded.  You'll get to apply what you learned and build a convolutional, max pooling, dropout, and fully connected layers.  At the end, you'll get to see your neural network's predictions on the sample images.\n",
    "## Get the Data\n",
    "Run the following cell to download the [CIFAR-10 dataset for python](https://www.cs.toronto.edu/~kriz/cifar-10-python.tar.gz)."
   ]
  },
  {
   "cell_type": "code",
   "execution_count": 1,
   "metadata": {
    "collapsed": false,
    "deletable": true,
    "editable": true
   },
   "outputs": [
    {
     "name": "stdout",
     "output_type": "stream",
     "text": [
      "All files found!\n"
     ]
    }
   ],
   "source": [
    "\"\"\"\n",
    "DON'T MODIFY ANYTHING IN THIS CELL THAT IS BELOW THIS LINE\n",
    "\"\"\"\n",
    "from urllib.request import urlretrieve\n",
    "from os.path import isfile, isdir\n",
    "from tqdm import tqdm\n",
    "import problem_unittests as tests\n",
    "import tarfile\n",
    "\n",
    "cifar10_dataset_folder_path = 'cifar-10-batches-py'\n",
    "\n",
    "class DLProgress(tqdm):\n",
    "    last_block = 0\n",
    "\n",
    "    def hook(self, block_num=1, block_size=1, total_size=None):\n",
    "        self.total = total_size\n",
    "        self.update((block_num - self.last_block) * block_size)\n",
    "        self.last_block = block_num\n",
    "\n",
    "if not isfile('cifar-10-python.tar.gz'):\n",
    "    with DLProgress(unit='B', unit_scale=True, miniters=1, desc='CIFAR-10 Dataset') as pbar:\n",
    "        urlretrieve(\n",
    "            'https://www.cs.toronto.edu/~kriz/cifar-10-python.tar.gz',\n",
    "            'cifar-10-python.tar.gz',\n",
    "            pbar.hook)\n",
    "\n",
    "if not isdir(cifar10_dataset_folder_path):\n",
    "    with tarfile.open('cifar-10-python.tar.gz') as tar:\n",
    "        tar.extractall()\n",
    "        tar.close()\n",
    "\n",
    "\n",
    "tests.test_folder_path(cifar10_dataset_folder_path)"
   ]
  },
  {
   "cell_type": "markdown",
   "metadata": {
    "deletable": true,
    "editable": true
   },
   "source": [
    "## Explore the Data\n",
    "The dataset is broken into batches to prevent your machine from running out of memory.  The CIFAR-10 dataset consists of 5 batches, named `data_batch_1`, `data_batch_2`, etc.. Each batch contains the labels and images that are one of the following:\n",
    "* airplane\n",
    "* automobile\n",
    "* bird\n",
    "* cat\n",
    "* deer\n",
    "* dog\n",
    "* frog\n",
    "* horse\n",
    "* ship\n",
    "* truck\n",
    "\n",
    "Understanding a dataset is part of making predictions on the data.  Play around with the code cell below by changing the `batch_id` and `sample_id`. The `batch_id` is the id for a batch (1-5). The `sample_id` is the id for a image and label pair in the batch.\n",
    "\n",
    "Ask yourself \"What are all possible labels?\", \"What is the range of values for the image data?\", \"Are the labels in order or random?\".  Answers to questions like these will help you preprocess the data and end up with better predictions."
   ]
  },
  {
   "cell_type": "code",
   "execution_count": 2,
   "metadata": {
    "collapsed": false,
    "deletable": true,
    "editable": true
   },
   "outputs": [
    {
     "name": "stdout",
     "output_type": "stream",
     "text": [
      "\n",
      "Stats of batch 1:\n",
      "Samples: 10000\n",
      "Label Counts: {0: 1005, 1: 974, 2: 1032, 3: 1016, 4: 999, 5: 937, 6: 1030, 7: 1001, 8: 1025, 9: 981}\n",
      "First 20 Labels: [6, 9, 9, 4, 1, 1, 2, 7, 8, 3, 4, 7, 7, 2, 9, 9, 9, 3, 2, 6]\n",
      "\n",
      "Example of Image 5:\n",
      "Image - Min Value: 0 Max Value: 252\n",
      "Image - Shape: (32, 32, 3)\n",
      "Label - Label Id: 1 Name: automobile\n"
     ]
    },
    {
     "data": {
      "image/png": "[encoded data removed]",
      "text/plain": [
       "<matplotlib.figure.Figure at 0x7f4ab19a0668>"
      ]
     },
     "metadata": {
      "image/png": {
       "height": 250,
       "width": 253
      }
     },
     "output_type": "display_data"
    }
   ],
   "source": [
    "%matplotlib inline\n",
    "%config InlineBackend.figure_format = 'retina'\n",
    "\n",
    "import helper\n",
    "import numpy as np\n",
    "\n",
    "# Explore the dataset\n",
    "batch_id = 1\n",
    "sample_id = 5\n",
    "helper.display_stats(cifar10_dataset_folder_path, batch_id, sample_id)"
   ]
  },
  {
   "cell_type": "markdown",
   "metadata": {
    "deletable": true,
    "editable": true
   },
   "source": [
    "## Implement Preprocess Functions\n",
    "### Normalize\n",
    "In the cell below, implement the `normalize` function to take in image data, `x`, and return it as a normalized Numpy array. The values should be in the range of 0 to 1, inclusive.  The return object should be the same shape as `x`."
   ]
  },
  {
   "cell_type": "code",
   "execution_count": 3,
   "metadata": {
    "collapsed": false,
    "deletable": true,
    "editable": true
   },
   "outputs": [
    {
     "name": "stdout",
     "output_type": "stream",
     "text": [
      "Tests Passed\n"
     ]
    }
   ],
   "source": [
    "def normalize(x):\n",
    "    \"\"\"\n",
    "    Normalize a list of sample image data in the range of 0 to 1\n",
    "    : x: List of image data.  The image shape is (32, 32, 3)\n",
    "    : return: Numpy array of normalize data\n",
    "    \"\"\"\n",
    "    # TODO: Implement Function\n",
    "    ret=x/(x.max()-x.min())\n",
    "\n",
    "    return ret\n",
    "\n",
    "\n",
    "\"\"\"\n",
    "DON'T MODIFY ANYTHING IN THIS CELL THAT IS BELOW THIS LINE\n",
    "\"\"\"\n",
    "tests.test_normalize(normalize)"
   ]
  },
  {
   "cell_type": "markdown",
   "metadata": {
    "deletable": true,
    "editable": true
   },
   "source": [
    "### One-hot encode\n",
    "Just like the previous code cell, you'll be implementing a function for preprocessing.  This time, you'll implement the `one_hot_encode` function. The input, `x`, are a list of labels.  Implement the function to return the list of labels as One-Hot encoded Numpy array.  The possible values for labels are 0 to 9. The one-hot encoding function should return the same encoding for each value between each call to `one_hot_encode`.  Make sure to save the map of encodings outside the function.\n",
    "\n",
    "Hint: Don't reinvent the wheel."
   ]
  },
  {
   "cell_type": "code",
   "execution_count": 4,
   "metadata": {
    "collapsed": false,
    "deletable": true,
    "editable": true
   },
   "outputs": [
    {
     "name": "stdout",
     "output_type": "stream",
     "text": [
      "3\n",
      "[ 0.  0.  0.  1.  0.  0.  0.  0.  0.  0.]\n",
      "----------\n",
      "7\n",
      "[ 0.  0.  0.  0.  0.  0.  0.  1.  0.  0.]\n",
      "----------\n",
      "Tests Passed\n"
     ]
    }
   ],
   "source": [
    "def one_hot_encode(x):\n",
    "    \"\"\"\n",
    "    One hot encode a list of sample labels. Return a one-hot encoded vector for each label.\n",
    "    : x: List of sample Labels\n",
    "    : return: Numpy array of one-hot encoded labels\n",
    "    \"\"\"\n",
    "    # TODO: Implement Function    \n",
    "    n_labels = len(x)\n",
    "    n_unique_labels = 10\n",
    "    one_hot_encode = np.zeros((n_labels,n_unique_labels))\n",
    "    for itme in range(n_labels):\n",
    "        one_hot_encode[itme, x[itme]] = 1\n",
    "    print(x[0])\n",
    "    print(one_hot_encode[0])\n",
    "    print('----------')\n",
    "    return one_hot_encode\n",
    "\n",
    "\n",
    "\"\"\"\n",
    "DON'T MODIFY ANYTHING IN THIS CELL THAT IS BELOW THIS LINE\n",
    "\"\"\"\n",
    "tests.test_one_hot_encode(one_hot_encode)"
   ]
  },
  {
   "cell_type": "markdown",
   "metadata": {
    "deletable": true,
    "editable": true
   },
   "source": [
    "### Randomize Data\n",
    "As you saw from exploring the data above, the order of the samples are randomized.  It doesn't hurt to randomize it again, but you don't need to for this dataset."
   ]
  },
  {
   "cell_type": "markdown",
   "metadata": {
    "deletable": true,
    "editable": true
   },
   "source": [
    "## Preprocess all the data and save it\n",
    "Running the code cell below will preprocess all the CIFAR-10 data and save it to file. The code below also uses 10% of the training data for validation."
   ]
  },
  {
   "cell_type": "code",
   "execution_count": 5,
   "metadata": {
    "collapsed": false,
    "deletable": true,
    "editable": true
   },
   "outputs": [
    {
     "name": "stdout",
     "output_type": "stream",
     "text": [
      "6\n",
      "[ 0.  0.  0.  0.  0.  0.  1.  0.  0.  0.]\n",
      "----------\n",
      "1\n",
      "[ 0.  1.  0.  0.  0.  0.  0.  0.  0.  0.]\n",
      "----------\n",
      "8\n",
      "[ 0.  0.  0.  0.  0.  0.  0.  0.  1.  0.]\n",
      "----------\n",
      "0\n",
      "[ 1.  0.  0.  0.  0.  0.  0.  0.  0.  0.]\n",
      "----------\n",
      "1\n",
      "[ 0.  1.  0.  0.  0.  0.  0.  0.  0.  0.]\n",
      "----------\n",
      "4\n",
      "[ 0.  0.  0.  0.  1.  0.  0.  0.  0.  0.]\n",
      "----------\n",
      "3\n",
      "[ 0.  0.  0.  1.  0.  0.  0.  0.  0.  0.]\n",
      "----------\n"
     ]
    }
   ],
   "source": [
    "\"\"\"\n",
    "DON'T MODIFY ANYTHING IN THIS CELL\n",
    "\"\"\"\n",
    "# Preprocess Training, Validation, and Testing Data\n",
    "helper.preprocess_and_save_data(cifar10_dataset_folder_path, normalize, one_hot_encode)"
   ]
  },
  {
   "cell_type": "markdown",
   "metadata": {
    "deletable": true,
    "editable": true
   },
   "source": [
    "# Check Point\n",
    "This is your first checkpoint.  If you ever decide to come back to this notebook or have to restart the notebook, you can start from here.  The preprocessed data has been saved to disk."
   ]
  },
  {
   "cell_type": "code",
   "execution_count": 1,
   "metadata": {
    "collapsed": true,
    "deletable": true,
    "editable": true
   },
   "outputs": [],
   "source": [
    "\"\"\"\n",
    "DON'T MODIFY ANYTHING IN THIS CELL\n",
    "\"\"\"\n",
    "import pickle\n",
    "import problem_unittests as tests\n",
    "import helper\n",
    "\n",
    "# Load the Preprocessed Validation data\n",
    "valid_features, valid_labels = pickle.load(open('preprocess_validation.p', mode='rb'))"
   ]
  },
  {
   "cell_type": "markdown",
   "metadata": {
    "deletable": true,
    "editable": true
   },
   "source": [
    "## Build the network\n",
    "For the neural network, you'll build each layer into a function.  Most of the code you've seen has been outside of functions. To test your code more thoroughly, we require that you put each layer in a function.  This allows us to give you better feedback and test for simple mistakes using our unittests before you submit your project.\n",
    "\n",
    "If you're finding it hard to dedicate enough time for this course a week, we've provided a small shortcut to this part of the project. In the next couple of problems, you'll have the option to use [TensorFlow Layers](https://www.tensorflow.org/api_docs/python/tf/layers) or [TensorFlow Layers (contrib)](https://www.tensorflow.org/api_guides/python/contrib.layers) to build each layer, except \"Convolutional & Max Pooling\" layer.  TF Layers is similar to Keras's and TFLearn's abstraction to layers, so it's easy to pickup.\n",
    "\n",
    "If you would like to get the most of this course, try to solve all the problems without TF Layers.  Let's begin!\n",
    "### Input\n",
    "The neural network needs to read the image data, one-hot encoded labels, and dropout keep probability. Implement the following functions\n",
    "* Implement `neural_net_image_input`\n",
    " * Return a [TF Placeholder](https://www.tensorflow.org/api_docs/python/tf/placeholder)\n",
    " * Set the shape using `image_shape` with batch size set to `None`.\n",
    " * Name the TensorFlow placeholder \"x\" using the TensorFlow `name` parameter in the [TF Placeholder](https://www.tensorflow.org/api_docs/python/tf/placeholder).\n",
    "* Implement `neural_net_label_input`\n",
    " * Return a [TF Placeholder](https://www.tensorflow.org/api_docs/python/tf/placeholder)\n",
    " * Set the shape using `n_classes` with batch size set to `None`.\n",
    " * Name the TensorFlow placeholder \"y\" using the TensorFlow `name` parameter in the [TF Placeholder](https://www.tensorflow.org/api_docs/python/tf/placeholder).\n",
    "* Implement `neural_net_keep_prob_input`\n",
    " * Return a [TF Placeholder](https://www.tensorflow.org/api_docs/python/tf/placeholder) for dropout keep probability.\n",
    " * Name the TensorFlow placeholder \"keep_prob\" using the TensorFlow `name` parameter in the [TF Placeholder](https://www.tensorflow.org/api_docs/python/tf/placeholder).\n",
    "\n",
    "These names will be used at the end of the project to load your saved model.\n",
    "\n",
    "Note: `None` for shapes in TensorFlow allow for a dynamic size."
   ]
  },
  {
   "cell_type": "code",
   "execution_count": 2,
   "metadata": {
    "collapsed": false,
    "deletable": true,
    "editable": true
   },
   "outputs": [
    {
     "name": "stdout",
     "output_type": "stream",
     "text": [
      "Image Input Tests Passed.\n",
      "Label Input Tests Passed.\n",
      "Keep Prob Tests Passed.\n"
     ]
    }
   ],
   "source": [
    "import tensorflow as tf\n",
    "\n",
    "def neural_net_image_input(image_shape):\n",
    "    \"\"\"\n",
    "    Return a Tensor for a bach of image input\n",
    "    : image_shape: Shape of the images\n",
    "    : return: Tensor for image input.\n",
    "    \"\"\"\n",
    "    # TODO: Implement Function\n",
    "    #print(image_shape)\n",
    "    x = tf.placeholder(\"float\", shape=[None, image_shape[0], image_shape[1], image_shape[2]], name='x')\n",
    "    #print(x.name)\n",
    "    return x\n",
    "\n",
    "\n",
    "def neural_net_label_input(n_classes):\n",
    "    \"\"\"\n",
    "    Return a Tensor for a batch of label input\n",
    "    : n_classes: Number of classes\n",
    "    : return: Tensor for label input.\n",
    "    \"\"\"\n",
    "    # TODO: Implement Function\n",
    "    #print(n_classes)\n",
    "    x = tf.placeholder(\"float\", shape=[None, n_classes],name='y')\n",
    "    return x\n",
    "\n",
    "\n",
    "def neural_net_keep_prob_input():\n",
    "    \"\"\"\n",
    "    Return a Tensor for keep probability\n",
    "    : return: Tensor for keep probability.\n",
    "    \"\"\"\n",
    "    # TODO: Implement Function\n",
    "    x = tf.placeholder(\"float\",name='keep_prob')\n",
    "    return x\n",
    "\n",
    "\n",
    "\"\"\"\n",
    "DON'T MODIFY ANYTHING IN THIS CELL THAT IS BELOW THIS LINE\n",
    "\"\"\"\n",
    "tf.reset_default_graph()\n",
    "tests.test_nn_image_inputs(neural_net_image_input)\n",
    "tests.test_nn_label_inputs(neural_net_label_input)\n",
    "tests.test_nn_keep_prob_inputs(neural_net_keep_prob_input)"
   ]
  },
  {
   "cell_type": "markdown",
   "metadata": {
    "deletable": true,
    "editable": true
   },
   "source": [
    "### Convolution and Max Pooling Layer\n",
    "Convolution layers have a lot of success with images. For this code cell, you should implement the function `conv2d_maxpool` to apply convolution then max pooling:\n",
    "* Create the weight and bias using `conv_ksize`, `conv_num_outputs` and the shape of `x_tensor`.\n",
    "* Apply a convolution to `x_tensor` using weight and `conv_strides`.\n",
    " * We recommend you use same padding, but you're welcome to use any padding.\n",
    "* Add bias\n",
    "* Add a nonlinear activation to the convolution.\n",
    "* Apply Max Pooling using `pool_ksize` and `pool_strides`.\n",
    " * We recommend you use same padding, but you're welcome to use any padding.\n",
    "\n",
    "Note: You **can't** use [TensorFlow Layers](https://www.tensorflow.org/api_docs/python/tf/layers) or [TensorFlow Layers (contrib)](https://www.tensorflow.org/api_guides/python/contrib.layers) for this layer.  You're free to use any TensorFlow package for all the other layers."
   ]
  },
  {
   "cell_type": "code",
   "execution_count": 3,
   "metadata": {
    "collapsed": false,
    "deletable": true,
    "editable": true
   },
   "outputs": [
    {
     "name": "stdout",
     "output_type": "stream",
     "text": [
      "Tests Passed\n"
     ]
    }
   ],
   "source": [
    "def conv2d_maxpool(x_tensor, conv_num_outputs, conv_ksize, conv_strides, pool_ksize, pool_strides):\n",
    "    \"\"\"\n",
    "    Apply convolution then max pooling to x_tensor\n",
    "    :param x_tensor: TensorFlow Tensor\n",
    "    :param conv_num_outputs: Number of outputs for the convolutional layer\n",
    "    :param conv_strides: Stride 2-D Tuple for convolution\n",
    "    :param pool_ksize: kernal size 2-D Tuple for pool\n",
    "    :param pool_strides: Stride 2-D Tuple for pool\n",
    "    : return: A tensor that represents convolution and max pooling of x_tensor\n",
    "    \"\"\"\n",
    "    # TODO: Implement Function\n",
    "    #print(x_tensor.shape)\n",
    "    x, x_h, x_w, x_depth = x_tensor.shape\n",
    "    #print(conv_num_outputs)\n",
    "    #print(conv_ksize)\n",
    "    conv_h,conv_w = conv_ksize\n",
    "    #print(conv_strides)\n",
    "    s_h,s_w = conv_strides\n",
    "    #print(pool_ksize)\n",
    "    pool_h, pool_w = pool_ksize\n",
    "    #print(pool_strides)\n",
    "    pool_h_s,pool_w_s = pool_strides\n",
    "\n",
    "    #weights\n",
    "    \n",
    "    fw = tf.Variable(tf.truncated_normal(shape=(int(conv_h), int(conv_w), int(x_depth), int(conv_num_outputs)),stddev=0.05, mean = 0))\n",
    "    #bias                             \n",
    "    fb = tf.Variable(tf.zeros(conv_num_outputs))                             \n",
    "    padding = 'VALID'\n",
    "    conv = tf.nn.conv2d(x_tensor, fw, strides=[1, int(s_h), int(s_w), 1], padding=padding) + fb\n",
    "    conv = tf.nn.relu(conv)\n",
    "    conv = tf.nn.max_pool(conv, ksize=[1, int(pool_h), int(pool_w), 1],strides=[1, int(pool_h_s), int(pool_w_s), 1],padding=padding)\n",
    "    conv.get_shape().as_list()\n",
    "    return conv\n",
    "\n",
    "\n",
    "\"\"\"\n",
    "DON'T MODIFY ANYTHING IN THIS CELL THAT IS BELOW THIS LINE\n",
    "\"\"\"\n",
    "tests.test_con_pool(conv2d_maxpool)"
   ]
  },
  {
   "cell_type": "markdown",
   "metadata": {
    "deletable": true,
    "editable": true
   },
   "source": [
    "### Flatten Layer\n",
    "Implement the `flatten` function to change the dimension of `x_tensor` from a 4-D tensor to a 2-D tensor.  The output should be the shape (*Batch Size*, *Flattened Image Size*). You can use [TensorFlow Layers](https://www.tensorflow.org/api_docs/python/tf/layers) or [TensorFlow Layers (contrib)](https://www.tensorflow.org/api_guides/python/contrib.layers) for this layer."
   ]
  },
  {
   "cell_type": "code",
   "execution_count": 4,
   "metadata": {
    "collapsed": false,
    "deletable": true,
    "editable": true
   },
   "outputs": [
    {
     "name": "stdout",
     "output_type": "stream",
     "text": [
      "Tests Passed\n"
     ]
    }
   ],
   "source": [
    "def flatten(x_tensor):\n",
    "    \"\"\"\n",
    "    Flatten x_tensor to (Batch Size, Flattened Image Size)\n",
    "    : x_tensor: A tensor of size (Batch Size, ...), where ... are the image dimensions.\n",
    "    : return: A tensor of size (Batch Size, Flattened Image Size).\n",
    "    \"\"\"\n",
    "    # TODO: Implement Function\n",
    "    #print(x_tensor.shape)\n",
    "    x, x_h, x_w, x_depth = x_tensor.shape\n",
    "    return tf.reshape(x_tensor, [-1, int(x_h)*int(x_w)*int(x_depth)])\n",
    "\n",
    "\n",
    "\"\"\"\n",
    "DON'T MODIFY ANYTHING IN THIS CELL THAT IS BELOW THIS LINE\n",
    "\"\"\"\n",
    "tests.test_flatten(flatten)"
   ]
  },
  {
   "cell_type": "markdown",
   "metadata": {
    "deletable": true,
    "editable": true
   },
   "source": [
    "### Fully-Connected Layer\n",
    "Implement the `fully_conn` function to apply a fully connected layer to `x_tensor` with the shape (*Batch Size*, *num_outputs*). You can use [TensorFlow Layers](https://www.tensorflow.org/api_docs/python/tf/layers) or [TensorFlow Layers (contrib)](https://www.tensorflow.org/api_guides/python/contrib.layers) for this layer."
   ]
  },
  {
   "cell_type": "code",
   "execution_count": 5,
   "metadata": {
    "collapsed": false,
    "deletable": true,
    "editable": true
   },
   "outputs": [
    {
     "name": "stdout",
     "output_type": "stream",
     "text": [
      "Tests Passed\n"
     ]
    }
   ],
   "source": [
    "def fully_conn(x_tensor, num_outputs):\n",
    "    \"\"\"\n",
    "    Apply a fully connected layer to x_tensor using weight and bias\n",
    "    : x_tensor: A 2-D tensor where the first dimension is batch size.\n",
    "    : num_outputs: The number of output that the new tensor should be.\n",
    "    : return: A 2-D tensor where the second dimension is num_outputs.\n",
    "    \"\"\"\n",
    "    # TODO: Implement Function\n",
    "    #print(x_tensor.shape)\n",
    "    #print(num_outputs)\n",
    "    w = tf.Variable(tf.truncated_normal(shape=(int(x_tensor.shape[1]), int(num_outputs)),stddev=0.05, mean = 0))\n",
    "    b = tf.Variable(tf.zeros([num_outputs]))\n",
    "    y = tf.nn.relu(tf.add(tf.matmul(x_tensor, w), b))\n",
    "    return y\n",
    "\n",
    "\n",
    "\"\"\"\n",
    "DON'T MODIFY ANYTHING IN THIS CELL THAT IS BELOW THIS LINE\n",
    "\"\"\"\n",
    "tests.test_fully_conn(fully_conn)"
   ]
  },
  {
   "cell_type": "markdown",
   "metadata": {
    "deletable": true,
    "editable": true
   },
   "source": [
    "### Output Layer\n",
    "Implement the `output` function to apply a fully connected layer to `x_tensor` with the shape (*Batch Size*, *num_outputs*). You can use [TensorFlow Layers](https://www.tensorflow.org/api_docs/python/tf/layers) or [TensorFlow Layers (contrib)](https://www.tensorflow.org/api_guides/python/contrib.layers) for this layer.\n",
    "\n",
    "Note: Activation, softmax, or cross entropy shouldn't be applied to this."
   ]
  },
  {
   "cell_type": "code",
   "execution_count": 6,
   "metadata": {
    "collapsed": false,
    "deletable": true,
    "editable": true
   },
   "outputs": [
    {
     "name": "stdout",
     "output_type": "stream",
     "text": [
      "Tests Passed\n"
     ]
    }
   ],
   "source": [
    "def output(x_tensor, num_outputs):\n",
    "    \"\"\"\n",
    "    Apply a output layer to x_tensor using weight and bias\n",
    "    : x_tensor: A 2-D tensor where the first dimension is batch size.\n",
    "    : num_outputs: The number of output that the new tensor should be.\n",
    "    : return: A 2-D tensor where the second dimension is num_outputs.\n",
    "    \"\"\"\n",
    "    # TODO: Implement Function\n",
    "    #print(x_tensor.shape)\n",
    "    #print(num_outputs)\n",
    "    w = tf.Variable(tf.truncated_normal((int(x_tensor.shape[1]), int(num_outputs)),stddev=0.05, mean = 0))\n",
    "    b = tf.Variable(tf.zeros([num_outputs]))\n",
    "    y = tf.add(tf.matmul(x_tensor, w), b)\n",
    "    return y\n",
    "\n",
    "\n",
    "\"\"\"\n",
    "DON'T MODIFY ANYTHING IN THIS CELL THAT IS BELOW THIS LINE\n",
    "\"\"\"\n",
    "tests.test_output(output)"
   ]
  },
  {
   "cell_type": "markdown",
   "metadata": {
    "deletable": true,
    "editable": true
   },
   "source": [
    "### Create Convolutional Model\n",
    "Implement the function `conv_net` to create a convolutional neural network model. The function takes in a batch of images, `x`, and outputs logits.  Use the layers you created above to create this model:\n",
    "\n",
    "* Apply 1, 2, or 3 Convolution and Max Pool layers\n",
    "* Apply a Flatten Layer\n",
    "* Apply 1, 2, or 3 Fully Connected Layers\n",
    "* Apply an Output Layer\n",
    "* Return the output\n",
    "* Apply [TensorFlow's Dropout](https://www.tensorflow.org/api_docs/python/tf/nn/dropout) to one or more layers in the model using `keep_prob`. "
   ]
  },
  {
   "cell_type": "code",
   "execution_count": 7,
   "metadata": {
    "collapsed": false,
    "deletable": true,
    "editable": true
   },
   "outputs": [
    {
     "name": "stdout",
     "output_type": "stream",
     "text": [
      "Neural Network Built!\n"
     ]
    }
   ],
   "source": [
    "def conv_net(x, keep_prob):\n",
    "    \"\"\"\n",
    "    Create a convolutional neural network model\n",
    "    : x: Placeholder tensor that holds image data.\n",
    "    : keep_prob: Placeholder tensor that hold dropout keep probability.\n",
    "    : return: Tensor that represents logits\n",
    "    \"\"\"\n",
    "    # TODO: Apply 1, 2, or 3 Convolution and Max Pool layers\n",
    "    #    Play around with different number of outputs, kernel size and stride\n",
    "    # Function Definition from Above:\n",
    "    #    conv2d_maxpool(x_tensor, conv_num_outputs, conv_ksize, conv_strides, pool_ksize, pool_strides)\n",
    "    conv = conv2d_maxpool(x_tensor=x,\n",
    "                          conv_num_outputs=50,\n",
    "                          conv_ksize=(3,3),\n",
    "                          conv_strides=(1,1),\n",
    "                          pool_ksize=(3,3),\n",
    "                          pool_strides=(2,2))\n",
    "    conv = conv2d_maxpool(x_tensor=x,\n",
    "                          conv_num_outputs=25,\n",
    "                          conv_ksize=(3,3),\n",
    "                          conv_strides=(1,1),\n",
    "                          pool_ksize=(3,3),\n",
    "                          pool_strides=(2,2))\n",
    "    \n",
    "    \"\"\"\n",
    "    conv = conv2d_maxpool(x_tensor=x,\n",
    "                          conv_num_outputs=10,\n",
    "                          conv_ksize=(3,3),\n",
    "                          conv_strides=(1,1),\n",
    "                          pool_ksize=(3,3),\n",
    "                          pool_strides=(2,2))\n",
    "    #\"\"\"\n",
    "    \n",
    "    \n",
    "\n",
    "    # TODO: Apply a Flatten Layer\n",
    "    # Function Definition from Above:\n",
    "    #   flatten(x_tensor)\n",
    "    flat_layer = flatten(conv)\n",
    "    \n",
    "\n",
    "    # TODO: Apply 1, 2, or 3 Fully Connected Layers\n",
    "    #    Play around with different number of outputs\n",
    "    # Function Definition from Above:\n",
    "    #   fully_conn(x_tensor, num_outputs)\n",
    "    fc = fully_conn(flat_layer, 120)\n",
    "    fc = tf.nn.dropout(fc, keep_prob)\n",
    "    fc = fully_conn(fc, 60)\n",
    "    fc = tf.nn.dropout(fc, keep_prob)\n",
    "    \n",
    "    # TODO: Apply an Output Layer\n",
    "    #    Set this to the number of classes\n",
    "    # Function Definition from Above:\n",
    "    #   output(x_tensor, num_outputs)\n",
    "    output_layer = output(fc, 10)\n",
    "    \n",
    "    # TODO: return output\n",
    "    return output_layer\n",
    "\n",
    "\n",
    "\"\"\"\n",
    "DON'T MODIFY ANYTHING IN THIS CELL THAT IS BELOW THIS LINE\n",
    "\"\"\"\n",
    "\n",
    "##############################\n",
    "## Build the Neural Network ##\n",
    "##############################\n",
    "\n",
    "# Remove previous weights, bias, inputs, etc..\n",
    "tf.reset_default_graph()\n",
    "\n",
    "# Inputs\n",
    "x = neural_net_image_input((32, 32, 3))\n",
    "y = neural_net_label_input(10)\n",
    "keep_prob = neural_net_keep_prob_input()\n",
    "\n",
    "# Model\n",
    "logits = conv_net(x, keep_prob)\n",
    "\n",
    "# Name logits Tensor, so that is can be loaded from disk after training\n",
    "logits = tf.identity(logits, name='logits')\n",
    "\n",
    "# Loss and Optimizer\n",
    "cost = tf.reduce_mean(tf.nn.softmax_cross_entropy_with_logits(logits=logits, labels=y))\n",
    "optimizer = tf.train.AdamOptimizer().minimize(cost)\n",
    "\n",
    "# Accuracy\n",
    "correct_pred = tf.equal(tf.argmax(logits, 1), tf.argmax(y, 1))\n",
    "accuracy = tf.reduce_mean(tf.cast(correct_pred, tf.float32), name='accuracy')\n",
    "\n",
    "tests.test_conv_net(conv_net)"
   ]
  },
  {
   "cell_type": "markdown",
   "metadata": {
    "deletable": true,
    "editable": true
   },
   "source": [
    "## Train the Neural Network\n",
    "### Single Optimization\n",
    "Implement the function `train_neural_network` to do a single optimization.  The optimization should use `optimizer` to optimize in `session` with a `feed_dict` of the following:\n",
    "* `x` for image input\n",
    "* `y` for labels\n",
    "* `keep_prob` for keep probability for dropout\n",
    "\n",
    "This function will be called for each batch, so `tf.global_variables_initializer()` has already been called.\n",
    "\n",
    "Note: Nothing needs to be returned. This function is only optimizing the neural network."
   ]
  },
  {
   "cell_type": "code",
   "execution_count": 8,
   "metadata": {
    "collapsed": false,
    "deletable": true,
    "editable": true
   },
   "outputs": [
    {
     "name": "stdout",
     "output_type": "stream",
     "text": [
      "Tests Passed\n"
     ]
    }
   ],
   "source": [
    "def train_neural_network(session, optimizer, keep_probability, feature_batch, label_batch):\n",
    "    \"\"\"\n",
    "    Optimize the session on a batch of images and labels\n",
    "    : session: Current TensorFlow session\n",
    "    : optimizer: TensorFlow optimizer function\n",
    "    : keep_probability: keep probability\n",
    "    : feature_batch: Batch of Numpy image data\n",
    "    : label_batch: Batch of Numpy label data\n",
    "    \"\"\"\n",
    "    # TODO: Implement Function\n",
    "    session.run(optimizer, feed_dict={\n",
    "                x: feature_batch,\n",
    "                y: label_batch,\n",
    "                keep_prob: keep_probability})\n",
    "\n",
    "\n",
    "\"\"\"\n",
    "DON'T MODIFY ANYTHING IN THIS CELL THAT IS BELOW THIS LINE\n",
    "\"\"\"\n",
    "tests.test_train_nn(train_neural_network)"
   ]
  },
  {
   "cell_type": "markdown",
   "metadata": {
    "deletable": true,
    "editable": true
   },
   "source": [
    "### Show Stats\n",
    "Implement the function `print_stats` to print loss and validation accuracy.  Use the global variables `valid_features` and `valid_labels` to calculate validation accuracy.  Use a keep probability of `1.0` to calculate the loss and validation accuracy."
   ]
  },
  {
   "cell_type": "code",
   "execution_count": 9,
   "metadata": {
    "collapsed": false,
    "deletable": true,
    "editable": true
   },
   "outputs": [],
   "source": [
    "def print_stats(session, feature_batch, label_batch, cost, accuracy):\n",
    "    \"\"\"\n",
    "    Print information about loss and validation accuracy\n",
    "    : session: Current TensorFlow session\n",
    "    : feature_batch: Batch of Numpy image data\n",
    "    : label_batch: Batch of Numpy label data\n",
    "    : cost: TensorFlow cost function\n",
    "    : accuracy: TensorFlow accuracy function\n",
    "    \"\"\"\n",
    "    # TODO: Implement Function\n",
    "    loss = session.run(cost, feed_dict={\n",
    "                x: feature_batch,\n",
    "                y: label_batch,\n",
    "                keep_prob: 1.})\n",
    "    \n",
    "    accuracy = session.run(accuracy, feed_dict={\n",
    "                x: valid_features,\n",
    "                y: valid_labels,\n",
    "                keep_prob: 1.})\n",
    "    print('Loss: {:.4f} Accuracy: {:.2f}%'.format(loss, accuracy*100))"
   ]
  },
  {
   "cell_type": "markdown",
   "metadata": {
    "deletable": true,
    "editable": true
   },
   "source": [
    "### Hyperparameters\n",
    "Tune the following parameters:\n",
    "* Set `epochs` to the number of iterations until the network stops learning or start overfitting\n",
    "* Set `batch_size` to the highest number that your machine has memory for.  Most people set them to common sizes of memory:\n",
    " * 64\n",
    " * 128\n",
    " * 256\n",
    " * ...\n",
    "* Set `keep_probability` to the probability of keeping a node using dropout"
   ]
  },
  {
   "cell_type": "code",
   "execution_count": 10,
   "metadata": {
    "collapsed": true,
    "deletable": true,
    "editable": true
   },
   "outputs": [],
   "source": [
    "# TODO: Tune Parameters\n",
    "epochs = 50\n",
    "batch_size = 2048\n",
    "keep_probability = 0.9"
   ]
  },
  {
   "cell_type": "markdown",
   "metadata": {
    "deletable": true,
    "editable": true
   },
   "source": [
    "### Train on a Single CIFAR-10 Batch\n",
    "Instead of training the neural network on all the CIFAR-10 batches of data, let's use a single batch. This should save time while you iterate on the model to get a better accuracy.  Once the final validation accuracy is 50% or greater, run the model on all the data in the next section."
   ]
  },
  {
   "cell_type": "code",
   "execution_count": 11,
   "metadata": {
    "collapsed": false,
    "deletable": true,
    "editable": true
   },
   "outputs": [
    {
     "name": "stdout",
     "output_type": "stream",
     "text": [
      "Checking the Training on a Single Batch...\n",
      "Epoch  1, CIFAR-10 Batch 1:  Loss: 2.2700 Accuracy: 16.44%\n",
      "0:00:05.810420\n",
      "Epoch  2, CIFAR-10 Batch 1:  Loss: 2.2033 Accuracy: 18.74%\n",
      "0:00:01.009851\n",
      "Epoch  3, CIFAR-10 Batch 1:  Loss: 2.1104 Accuracy: 22.14%\n",
      "0:00:01.010203\n",
      "Epoch  4, CIFAR-10 Batch 1:  Loss: 2.0307 Accuracy: 26.62%\n",
      "0:00:01.005295\n",
      "Epoch  5, CIFAR-10 Batch 1:  Loss: 1.9940 Accuracy: 27.68%\n",
      "0:00:01.009468\n",
      "Epoch  6, CIFAR-10 Batch 1:  Loss: 1.9718 Accuracy: 28.84%\n",
      "0:00:01.006797\n",
      "Epoch  7, CIFAR-10 Batch 1:  Loss: 1.9445 Accuracy: 30.02%\n",
      "0:00:01.011351\n",
      "Epoch  8, CIFAR-10 Batch 1:  Loss: 1.9095 Accuracy: 30.94%\n",
      "0:00:01.006150\n",
      "Epoch  9, CIFAR-10 Batch 1:  Loss: 1.8748 Accuracy: 32.26%\n",
      "0:00:01.010534\n",
      "Epoch 10, CIFAR-10 Batch 1:  Loss: 1.8344 Accuracy: 33.48%\n",
      "0:00:01.007771\n",
      "Epoch 11, CIFAR-10 Batch 1:  Loss: 1.8006 Accuracy: 33.90%\n",
      "0:00:01.010773\n",
      "Epoch 12, CIFAR-10 Batch 1:  Loss: 1.7544 Accuracy: 36.36%\n",
      "0:00:01.006459\n",
      "Epoch 13, CIFAR-10 Batch 1:  Loss: 1.7173 Accuracy: 36.78%\n",
      "0:00:01.010680\n",
      "Epoch 14, CIFAR-10 Batch 1:  Loss: 1.6825 Accuracy: 38.34%\n",
      "0:00:01.007412\n",
      "Epoch 15, CIFAR-10 Batch 1:  Loss: 1.6458 Accuracy: 39.42%\n",
      "0:00:01.012287\n",
      "Epoch 16, CIFAR-10 Batch 1:  Loss: 1.6124 Accuracy: 40.02%\n",
      "0:00:01.006786\n",
      "Epoch 17, CIFAR-10 Batch 1:  Loss: 1.5818 Accuracy: 41.08%\n",
      "0:00:01.012380\n",
      "Epoch 18, CIFAR-10 Batch 1:  Loss: 1.5548 Accuracy: 41.94%\n",
      "0:00:01.005488\n",
      "Epoch 19, CIFAR-10 Batch 1:  Loss: 1.5271 Accuracy: 42.24%\n",
      "0:00:01.012024\n",
      "Epoch 20, CIFAR-10 Batch 1:  Loss: 1.5044 Accuracy: 42.96%\n",
      "0:00:01.006259\n",
      "Epoch 21, CIFAR-10 Batch 1:  Loss: 1.4801 Accuracy: 43.58%\n",
      "0:00:01.011718\n",
      "Epoch 22, CIFAR-10 Batch 1:  Loss: 1.4649 Accuracy: 42.88%\n",
      "0:00:01.004232\n",
      "Epoch 23, CIFAR-10 Batch 1:  Loss: 1.4327 Accuracy: 44.96%\n",
      "0:00:01.012290\n",
      "Epoch 24, CIFAR-10 Batch 1:  Loss: 1.4158 Accuracy: 44.54%\n",
      "0:00:01.007038\n",
      "Epoch 25, CIFAR-10 Batch 1:  Loss: 1.3905 Accuracy: 45.62%\n",
      "0:00:01.012902\n",
      "Epoch 26, CIFAR-10 Batch 1:  Loss: 1.3807 Accuracy: 45.94%\n",
      "0:00:01.007123\n",
      "Epoch 27, CIFAR-10 Batch 1:  Loss: 1.3777 Accuracy: 44.92%\n",
      "0:00:01.012139\n",
      "Epoch 28, CIFAR-10 Batch 1:  Loss: 1.3588 Accuracy: 46.12%\n",
      "0:00:01.006132\n",
      "Epoch 29, CIFAR-10 Batch 1:  Loss: 1.3383 Accuracy: 46.02%\n",
      "0:00:01.010883\n",
      "Epoch 30, CIFAR-10 Batch 1:  Loss: 1.3275 Accuracy: 46.38%\n",
      "0:00:01.005414\n",
      "Epoch 31, CIFAR-10 Batch 1:  Loss: 1.2951 Accuracy: 47.36%\n",
      "0:00:01.011861\n",
      "Epoch 32, CIFAR-10 Batch 1:  Loss: 1.2752 Accuracy: 47.38%\n",
      "0:00:01.004749\n",
      "Epoch 33, CIFAR-10 Batch 1:  Loss: 1.2557 Accuracy: 47.78%\n",
      "0:00:01.011717\n",
      "Epoch 34, CIFAR-10 Batch 1:  Loss: 1.2405 Accuracy: 48.08%\n",
      "0:00:01.006309\n",
      "Epoch 35, CIFAR-10 Batch 1:  Loss: 1.2288 Accuracy: 48.84%\n",
      "0:00:01.010006\n",
      "Epoch 36, CIFAR-10 Batch 1:  Loss: 1.2169 Accuracy: 48.70%\n",
      "0:00:01.005072\n",
      "Epoch 37, CIFAR-10 Batch 1:  Loss: 1.2091 Accuracy: 48.50%\n",
      "0:00:01.011518\n",
      "Epoch 38, CIFAR-10 Batch 1:  Loss: 1.1888 Accuracy: 49.28%\n",
      "0:00:01.005696\n",
      "Epoch 39, CIFAR-10 Batch 1:  Loss: 1.1732 Accuracy: 49.78%\n",
      "0:00:01.014527\n",
      "Epoch 40, CIFAR-10 Batch 1:  Loss: 1.1614 Accuracy: 49.34%\n",
      "0:00:01.005810\n",
      "Epoch 41, CIFAR-10 Batch 1:  Loss: 1.1473 Accuracy: 49.96%\n",
      "0:00:01.012908\n",
      "Epoch 42, CIFAR-10 Batch 1:  Loss: 1.1451 Accuracy: 49.36%\n",
      "0:00:01.006278\n",
      "Epoch 43, CIFAR-10 Batch 1:  Loss: 1.1206 Accuracy: 49.72%\n",
      "0:00:01.011355\n",
      "Epoch 44, CIFAR-10 Batch 1:  Loss: 1.1357 Accuracy: 50.42%\n",
      "0:00:01.005628\n",
      "Epoch 45, CIFAR-10 Batch 1:  Loss: 1.1131 Accuracy: 49.88%\n",
      "0:00:01.010501\n",
      "Epoch 46, CIFAR-10 Batch 1:  Loss: 1.0788 Accuracy: 50.70%\n",
      "0:00:01.008139\n",
      "Epoch 47, CIFAR-10 Batch 1:  Loss: 1.0639 Accuracy: 50.38%\n",
      "0:00:01.011437\n",
      "Epoch 48, CIFAR-10 Batch 1:  Loss: 1.0495 Accuracy: 50.64%\n",
      "0:00:01.006462\n",
      "Epoch 49, CIFAR-10 Batch 1:  Loss: 1.0358 Accuracy: 51.00%\n",
      "0:00:01.011852\n",
      "Epoch 50, CIFAR-10 Batch 1:  Loss: 1.0244 Accuracy: 51.10%\n",
      "0:00:01.007426\n"
     ]
    }
   ],
   "source": [
    "\"\"\"\n",
    "DON'T MODIFY ANYTHING IN THIS CELL\n",
    "\"\"\"\n",
    "import datetime\n",
    "print('Checking the Training on a Single Batch...')\n",
    "with tf.Session() as sess:\n",
    "    # Initializing the variables\n",
    "    sess.run(tf.global_variables_initializer())\n",
    "    \n",
    "    # Training cycle\n",
    "    for epoch in range(epochs):\n",
    "        batch_i = 1\n",
    "        start = datetime.datetime.now()\n",
    "        for batch_features, batch_labels in helper.load_preprocess_training_batch(batch_i, batch_size):            \n",
    "            train_neural_network(sess, optimizer, keep_probability, batch_features, batch_labels)            \n",
    "        print('Epoch {:>2}, CIFAR-10 Batch {}:  '.format(epoch + 1, batch_i), end='')\n",
    "        print_stats(sess, batch_features, batch_labels, cost, accuracy)\n",
    "        end = datetime.datetime.now()\n",
    "        print (end-start)"
   ]
  },
  {
   "cell_type": "markdown",
   "metadata": {
    "deletable": true,
    "editable": true
   },
   "source": [
    "### Fully Train the Model\n",
    "Now that you got a good accuracy with a single CIFAR-10 batch, try it with all five batches."
   ]
  },
  {
   "cell_type": "code",
   "execution_count": 12,
   "metadata": {
    "collapsed": false,
    "deletable": true,
    "editable": true
   },
   "outputs": [
    {
     "name": "stdout",
     "output_type": "stream",
     "text": [
      "Training...\n",
      "Epoch  1, CIFAR-10 Batch 1:  Loss: 2.2667 Accuracy: 21.76%\n",
      "Epoch  1, CIFAR-10 Batch 2:  Loss: 2.1885 Accuracy: 23.22%\n",
      "Epoch  1, CIFAR-10 Batch 3:  Loss: 2.0998 Accuracy: 25.24%\n",
      "Epoch  1, CIFAR-10 Batch 4:  Loss: 1.9874 Accuracy: 26.52%\n",
      "Epoch  1, CIFAR-10 Batch 5:  Loss: 1.9712 Accuracy: 25.72%\n",
      "0:00:11.573600\n",
      "Epoch  2, CIFAR-10 Batch 1:  Loss: 1.9783 Accuracy: 27.26%\n",
      "Epoch  2, CIFAR-10 Batch 2:  Loss: 1.9121 Accuracy: 29.18%\n",
      "Epoch  2, CIFAR-10 Batch 3:  Loss: 1.8471 Accuracy: 30.94%\n",
      "Epoch  2, CIFAR-10 Batch 4:  Loss: 1.7961 Accuracy: 32.40%\n",
      "Epoch  2, CIFAR-10 Batch 5:  Loss: 1.8178 Accuracy: 33.22%\n",
      "0:00:05.057454\n",
      "Epoch  3, CIFAR-10 Batch 1:  Loss: 1.7886 Accuracy: 34.64%\n",
      "Epoch  3, CIFAR-10 Batch 2:  Loss: 1.7455 Accuracy: 35.30%\n",
      "Epoch  3, CIFAR-10 Batch 3:  Loss: 1.6859 Accuracy: 36.92%\n",
      "Epoch  3, CIFAR-10 Batch 4:  Loss: 1.6637 Accuracy: 38.02%\n",
      "Epoch  3, CIFAR-10 Batch 5:  Loss: 1.7050 Accuracy: 38.18%\n",
      "0:00:05.039494\n",
      "Epoch  4, CIFAR-10 Batch 1:  Loss: 1.6790 Accuracy: 39.38%\n",
      "Epoch  4, CIFAR-10 Batch 2:  Loss: 1.6403 Accuracy: 40.14%\n",
      "Epoch  4, CIFAR-10 Batch 3:  Loss: 1.6249 Accuracy: 38.64%\n",
      "Epoch  4, CIFAR-10 Batch 4:  Loss: 1.5820 Accuracy: 40.02%\n",
      "Epoch  4, CIFAR-10 Batch 5:  Loss: 1.6311 Accuracy: 40.58%\n",
      "0:00:05.034162\n",
      "Epoch  5, CIFAR-10 Batch 1:  Loss: 1.6025 Accuracy: 41.72%\n",
      "Epoch  5, CIFAR-10 Batch 2:  Loss: 1.5708 Accuracy: 41.78%\n",
      "Epoch  5, CIFAR-10 Batch 3:  Loss: 1.5149 Accuracy: 43.08%\n",
      "Epoch  5, CIFAR-10 Batch 4:  Loss: 1.5236 Accuracy: 42.16%\n",
      "Epoch  5, CIFAR-10 Batch 5:  Loss: 1.5564 Accuracy: 43.74%\n",
      "0:00:05.051481\n",
      "Epoch  6, CIFAR-10 Batch 1:  Loss: 1.5290 Accuracy: 44.22%\n",
      "Epoch  6, CIFAR-10 Batch 2:  Loss: 1.5179 Accuracy: 43.52%\n",
      "Epoch  6, CIFAR-10 Batch 3:  Loss: 1.4508 Accuracy: 44.64%\n",
      "Epoch  6, CIFAR-10 Batch 4:  Loss: 1.4564 Accuracy: 44.40%\n",
      "Epoch  6, CIFAR-10 Batch 5:  Loss: 1.5087 Accuracy: 45.36%\n",
      "0:00:05.053171\n",
      "Epoch  7, CIFAR-10 Batch 1:  Loss: 1.4843 Accuracy: 45.08%\n",
      "Epoch  7, CIFAR-10 Batch 2:  Loss: 1.4570 Accuracy: 45.86%\n",
      "Epoch  7, CIFAR-10 Batch 3:  Loss: 1.3980 Accuracy: 46.54%\n",
      "Epoch  7, CIFAR-10 Batch 4:  Loss: 1.4016 Accuracy: 46.20%\n",
      "Epoch  7, CIFAR-10 Batch 5:  Loss: 1.4488 Accuracy: 47.16%\n",
      "0:00:05.042829\n",
      "Epoch  8, CIFAR-10 Batch 1:  Loss: 1.4261 Accuracy: 46.92%\n",
      "Epoch  8, CIFAR-10 Batch 2:  Loss: 1.4111 Accuracy: 47.16%\n",
      "Epoch  8, CIFAR-10 Batch 3:  Loss: 1.3465 Accuracy: 48.24%\n",
      "Epoch  8, CIFAR-10 Batch 4:  Loss: 1.3609 Accuracy: 48.30%\n",
      "Epoch  8, CIFAR-10 Batch 5:  Loss: 1.4014 Accuracy: 48.58%\n",
      "0:00:05.050802\n",
      "Epoch  9, CIFAR-10 Batch 1:  Loss: 1.3781 Accuracy: 48.26%\n",
      "Epoch  9, CIFAR-10 Batch 2:  Loss: 1.3715 Accuracy: 48.40%\n",
      "Epoch  9, CIFAR-10 Batch 3:  Loss: 1.3121 Accuracy: 49.44%\n",
      "Epoch  9, CIFAR-10 Batch 4:  Loss: 1.3164 Accuracy: 50.06%\n",
      "Epoch  9, CIFAR-10 Batch 5:  Loss: 1.3548 Accuracy: 49.24%\n",
      "0:00:05.053053\n",
      "Epoch 10, CIFAR-10 Batch 1:  Loss: 1.3369 Accuracy: 50.18%\n",
      "Epoch 10, CIFAR-10 Batch 2:  Loss: 1.3227 Accuracy: 50.24%\n",
      "Epoch 10, CIFAR-10 Batch 3:  Loss: 1.2652 Accuracy: 50.94%\n",
      "Epoch 10, CIFAR-10 Batch 4:  Loss: 1.2792 Accuracy: 51.14%\n",
      "Epoch 10, CIFAR-10 Batch 5:  Loss: 1.3155 Accuracy: 51.28%\n",
      "0:00:05.042252\n",
      "Epoch 11, CIFAR-10 Batch 1:  Loss: 1.3035 Accuracy: 51.24%\n",
      "Epoch 11, CIFAR-10 Batch 2:  Loss: 1.2874 Accuracy: 51.18%\n",
      "Epoch 11, CIFAR-10 Batch 3:  Loss: 1.2232 Accuracy: 52.52%\n",
      "Epoch 11, CIFAR-10 Batch 4:  Loss: 1.2482 Accuracy: 52.18%\n",
      "Epoch 11, CIFAR-10 Batch 5:  Loss: 1.2753 Accuracy: 52.22%\n",
      "0:00:05.039507\n",
      "Epoch 12, CIFAR-10 Batch 1:  Loss: 1.2650 Accuracy: 52.84%\n",
      "Epoch 12, CIFAR-10 Batch 2:  Loss: 1.2595 Accuracy: 52.08%\n",
      "Epoch 12, CIFAR-10 Batch 3:  Loss: 1.1969 Accuracy: 53.42%\n",
      "Epoch 12, CIFAR-10 Batch 4:  Loss: 1.2159 Accuracy: 53.46%\n",
      "Epoch 12, CIFAR-10 Batch 5:  Loss: 1.2406 Accuracy: 52.70%\n",
      "0:00:05.037416\n",
      "Epoch 13, CIFAR-10 Batch 1:  Loss: 1.2364 Accuracy: 53.64%\n",
      "Epoch 13, CIFAR-10 Batch 2:  Loss: 1.2321 Accuracy: 52.96%\n",
      "Epoch 13, CIFAR-10 Batch 3:  Loss: 1.1705 Accuracy: 54.04%\n",
      "Epoch 13, CIFAR-10 Batch 4:  Loss: 1.1996 Accuracy: 54.02%\n",
      "Epoch 13, CIFAR-10 Batch 5:  Loss: 1.2092 Accuracy: 53.22%\n",
      "0:00:05.039639\n",
      "Epoch 14, CIFAR-10 Batch 1:  Loss: 1.2143 Accuracy: 54.20%\n",
      "Epoch 14, CIFAR-10 Batch 2:  Loss: 1.1976 Accuracy: 54.28%\n",
      "Epoch 14, CIFAR-10 Batch 3:  Loss: 1.1598 Accuracy: 54.18%\n",
      "Epoch 14, CIFAR-10 Batch 4:  Loss: 1.1771 Accuracy: 55.10%\n",
      "Epoch 14, CIFAR-10 Batch 5:  Loss: 1.1806 Accuracy: 53.50%\n",
      "0:00:05.039231\n",
      "Epoch 15, CIFAR-10 Batch 1:  Loss: 1.1951 Accuracy: 55.04%\n",
      "Epoch 15, CIFAR-10 Batch 2:  Loss: 1.1715 Accuracy: 54.72%\n",
      "Epoch 15, CIFAR-10 Batch 3:  Loss: 1.1221 Accuracy: 55.16%\n",
      "Epoch 15, CIFAR-10 Batch 4:  Loss: 1.1386 Accuracy: 55.66%\n",
      "Epoch 15, CIFAR-10 Batch 5:  Loss: 1.1372 Accuracy: 55.42%\n",
      "0:00:05.037133\n",
      "Epoch 16, CIFAR-10 Batch 1:  Loss: 1.1541 Accuracy: 55.80%\n",
      "Epoch 16, CIFAR-10 Batch 2:  Loss: 1.1415 Accuracy: 55.64%\n",
      "Epoch 16, CIFAR-10 Batch 3:  Loss: 1.0889 Accuracy: 56.16%\n",
      "Epoch 16, CIFAR-10 Batch 4:  Loss: 1.1173 Accuracy: 56.20%\n",
      "Epoch 16, CIFAR-10 Batch 5:  Loss: 1.1072 Accuracy: 55.86%\n",
      "0:00:05.038566\n",
      "Epoch 17, CIFAR-10 Batch 1:  Loss: 1.1334 Accuracy: 56.26%\n",
      "Epoch 17, CIFAR-10 Batch 2:  Loss: 1.1185 Accuracy: 55.90%\n",
      "Epoch 17, CIFAR-10 Batch 3:  Loss: 1.0671 Accuracy: 56.84%\n",
      "Epoch 17, CIFAR-10 Batch 4:  Loss: 1.0931 Accuracy: 57.18%\n",
      "Epoch 17, CIFAR-10 Batch 5:  Loss: 1.0849 Accuracy: 56.08%\n",
      "0:00:05.039025\n",
      "Epoch 18, CIFAR-10 Batch 1:  Loss: 1.1096 Accuracy: 56.78%\n",
      "Epoch 18, CIFAR-10 Batch 2:  Loss: 1.0998 Accuracy: 56.74%\n",
      "Epoch 18, CIFAR-10 Batch 3:  Loss: 1.0441 Accuracy: 57.46%\n",
      "Epoch 18, CIFAR-10 Batch 4:  Loss: 1.0672 Accuracy: 57.52%\n",
      "Epoch 18, CIFAR-10 Batch 5:  Loss: 1.0551 Accuracy: 57.22%\n",
      "0:00:05.038755\n",
      "Epoch 19, CIFAR-10 Batch 1:  Loss: 1.0769 Accuracy: 57.54%\n",
      "Epoch 19, CIFAR-10 Batch 2:  Loss: 1.0665 Accuracy: 57.58%\n",
      "Epoch 19, CIFAR-10 Batch 3:  Loss: 1.0248 Accuracy: 57.90%\n",
      "Epoch 19, CIFAR-10 Batch 4:  Loss: 1.0464 Accuracy: 57.92%\n",
      "Epoch 19, CIFAR-10 Batch 5:  Loss: 1.0303 Accuracy: 57.90%\n",
      "0:00:05.039779\n",
      "Epoch 20, CIFAR-10 Batch 1:  Loss: 1.0562 Accuracy: 57.78%\n",
      "Epoch 20, CIFAR-10 Batch 2:  Loss: 1.0447 Accuracy: 57.86%\n",
      "Epoch 20, CIFAR-10 Batch 3:  Loss: 0.9973 Accuracy: 58.18%\n",
      "Epoch 20, CIFAR-10 Batch 4:  Loss: 1.0249 Accuracy: 58.80%\n",
      "Epoch 20, CIFAR-10 Batch 5:  Loss: 1.0029 Accuracy: 58.50%\n",
      "0:00:05.037651\n",
      "Epoch 21, CIFAR-10 Batch 1:  Loss: 1.0354 Accuracy: 58.72%\n",
      "Epoch 21, CIFAR-10 Batch 2:  Loss: 1.0186 Accuracy: 58.54%\n",
      "Epoch 21, CIFAR-10 Batch 3:  Loss: 0.9756 Accuracy: 59.16%\n",
      "Epoch 21, CIFAR-10 Batch 4:  Loss: 0.9972 Accuracy: 59.36%\n",
      "Epoch 21, CIFAR-10 Batch 5:  Loss: 0.9782 Accuracy: 58.42%\n",
      "0:00:05.040207\n",
      "Epoch 22, CIFAR-10 Batch 1:  Loss: 1.0088 Accuracy: 58.68%\n",
      "Epoch 22, CIFAR-10 Batch 2:  Loss: 0.9984 Accuracy: 58.56%\n",
      "Epoch 22, CIFAR-10 Batch 3:  Loss: 0.9613 Accuracy: 59.40%\n",
      "Epoch 22, CIFAR-10 Batch 4:  Loss: 0.9716 Accuracy: 59.98%\n",
      "Epoch 22, CIFAR-10 Batch 5:  Loss: 0.9619 Accuracy: 58.40%\n",
      "0:00:05.034553\n",
      "Epoch 23, CIFAR-10 Batch 1:  Loss: 0.9906 Accuracy: 59.44%\n",
      "Epoch 23, CIFAR-10 Batch 2:  Loss: 0.9717 Accuracy: 59.00%\n",
      "Epoch 23, CIFAR-10 Batch 3:  Loss: 0.9327 Accuracy: 59.56%\n",
      "Epoch 23, CIFAR-10 Batch 4:  Loss: 0.9562 Accuracy: 60.20%\n",
      "Epoch 23, CIFAR-10 Batch 5:  Loss: 0.9377 Accuracy: 59.42%\n",
      "0:00:05.037108\n",
      "Epoch 24, CIFAR-10 Batch 1:  Loss: 0.9610 Accuracy: 59.66%\n",
      "Epoch 24, CIFAR-10 Batch 2:  Loss: 0.9466 Accuracy: 59.30%\n",
      "Epoch 24, CIFAR-10 Batch 3:  Loss: 0.9164 Accuracy: 60.04%\n",
      "Epoch 24, CIFAR-10 Batch 4:  Loss: 0.9319 Accuracy: 60.82%\n",
      "Epoch 24, CIFAR-10 Batch 5:  Loss: 0.9094 Accuracy: 60.22%\n",
      "0:00:05.044159\n",
      "Epoch 25, CIFAR-10 Batch 1:  Loss: 0.9367 Accuracy: 60.06%\n",
      "Epoch 25, CIFAR-10 Batch 2:  Loss: 0.9290 Accuracy: 59.92%\n",
      "Epoch 25, CIFAR-10 Batch 3:  Loss: 0.8945 Accuracy: 60.14%\n",
      "Epoch 25, CIFAR-10 Batch 4:  Loss: 0.9117 Accuracy: 60.84%\n",
      "Epoch 25, CIFAR-10 Batch 5:  Loss: 0.8982 Accuracy: 60.30%\n",
      "0:00:05.049646\n",
      "Epoch 26, CIFAR-10 Batch 1:  Loss: 0.9127 Accuracy: 60.74%\n",
      "Epoch 26, CIFAR-10 Batch 2:  Loss: 0.9011 Accuracy: 60.46%\n",
      "Epoch 26, CIFAR-10 Batch 3:  Loss: 0.8624 Accuracy: 60.88%\n",
      "Epoch 26, CIFAR-10 Batch 4:  Loss: 0.8923 Accuracy: 61.44%\n",
      "Epoch 26, CIFAR-10 Batch 5:  Loss: 0.8725 Accuracy: 61.10%\n",
      "0:00:05.039857\n",
      "Epoch 27, CIFAR-10 Batch 1:  Loss: 0.8979 Accuracy: 60.80%\n",
      "Epoch 27, CIFAR-10 Batch 2:  Loss: 0.8802 Accuracy: 60.86%\n",
      "Epoch 27, CIFAR-10 Batch 3:  Loss: 0.8399 Accuracy: 61.12%\n",
      "Epoch 27, CIFAR-10 Batch 4:  Loss: 0.8760 Accuracy: 61.98%\n",
      "Epoch 27, CIFAR-10 Batch 5:  Loss: 0.8492 Accuracy: 61.76%\n",
      "0:00:05.040587\n",
      "Epoch 28, CIFAR-10 Batch 1:  Loss: 0.8782 Accuracy: 61.40%\n",
      "Epoch 28, CIFAR-10 Batch 2:  Loss: 0.8592 Accuracy: 61.04%\n",
      "Epoch 28, CIFAR-10 Batch 3:  Loss: 0.8187 Accuracy: 61.70%\n",
      "Epoch 28, CIFAR-10 Batch 4:  Loss: 0.8521 Accuracy: 61.92%\n",
      "Epoch 28, CIFAR-10 Batch 5:  Loss: 0.8270 Accuracy: 61.88%\n",
      "0:00:05.050877\n",
      "Epoch 29, CIFAR-10 Batch 1:  Loss: 0.8572 Accuracy: 61.72%\n",
      "Epoch 29, CIFAR-10 Batch 2:  Loss: 0.8410 Accuracy: 61.16%\n",
      "Epoch 29, CIFAR-10 Batch 3:  Loss: 0.7975 Accuracy: 61.64%\n",
      "Epoch 29, CIFAR-10 Batch 4:  Loss: 0.8350 Accuracy: 61.90%\n",
      "Epoch 29, CIFAR-10 Batch 5:  Loss: 0.8068 Accuracy: 62.38%\n",
      "0:00:05.041622\n",
      "Epoch 30, CIFAR-10 Batch 1:  Loss: 0.8347 Accuracy: 62.08%\n",
      "Epoch 30, CIFAR-10 Batch 2:  Loss: 0.8309 Accuracy: 60.94%\n",
      "Epoch 30, CIFAR-10 Batch 3:  Loss: 0.8044 Accuracy: 61.10%\n",
      "Epoch 30, CIFAR-10 Batch 4:  Loss: 0.8159 Accuracy: 62.30%\n",
      "Epoch 30, CIFAR-10 Batch 5:  Loss: 0.7905 Accuracy: 62.42%\n",
      "0:00:05.041302\n",
      "Epoch 31, CIFAR-10 Batch 1:  Loss: 0.8208 Accuracy: 61.76%\n",
      "Epoch 31, CIFAR-10 Batch 2:  Loss: 0.8106 Accuracy: 61.34%\n",
      "Epoch 31, CIFAR-10 Batch 3:  Loss: 0.7727 Accuracy: 61.90%\n",
      "Epoch 31, CIFAR-10 Batch 4:  Loss: 0.8047 Accuracy: 62.28%\n",
      "Epoch 31, CIFAR-10 Batch 5:  Loss: 0.7776 Accuracy: 62.16%\n",
      "0:00:05.038071\n",
      "Epoch 32, CIFAR-10 Batch 1:  Loss: 0.7989 Accuracy: 62.46%\n",
      "Epoch 32, CIFAR-10 Batch 2:  Loss: 0.7838 Accuracy: 62.06%\n",
      "Epoch 32, CIFAR-10 Batch 3:  Loss: 0.7482 Accuracy: 62.52%\n",
      "Epoch 32, CIFAR-10 Batch 4:  Loss: 0.7722 Accuracy: 62.98%\n",
      "Epoch 32, CIFAR-10 Batch 5:  Loss: 0.7556 Accuracy: 62.50%\n",
      "0:00:05.040558\n",
      "Epoch 33, CIFAR-10 Batch 1:  Loss: 0.7854 Accuracy: 62.82%\n",
      "Epoch 33, CIFAR-10 Batch 2:  Loss: 0.7647 Accuracy: 62.52%\n",
      "Epoch 33, CIFAR-10 Batch 3:  Loss: 0.7196 Accuracy: 62.68%\n",
      "Epoch 33, CIFAR-10 Batch 4:  Loss: 0.7577 Accuracy: 63.04%\n",
      "Epoch 33, CIFAR-10 Batch 5:  Loss: 0.7397 Accuracy: 62.94%\n",
      "0:00:05.040619\n",
      "Epoch 34, CIFAR-10 Batch 1:  Loss: 0.7664 Accuracy: 63.26%\n",
      "Epoch 34, CIFAR-10 Batch 2:  Loss: 0.7468 Accuracy: 62.72%\n",
      "Epoch 34, CIFAR-10 Batch 3:  Loss: 0.7178 Accuracy: 62.98%\n",
      "Epoch 34, CIFAR-10 Batch 4:  Loss: 0.7385 Accuracy: 63.54%\n",
      "Epoch 34, CIFAR-10 Batch 5:  Loss: 0.7191 Accuracy: 62.98%\n",
      "0:00:05.037109\n",
      "Epoch 35, CIFAR-10 Batch 1:  Loss: 0.7484 Accuracy: 63.10%\n",
      "Epoch 35, CIFAR-10 Batch 2:  Loss: 0.7362 Accuracy: 62.82%\n",
      "Epoch 35, CIFAR-10 Batch 3:  Loss: 0.6961 Accuracy: 62.96%\n",
      "Epoch 35, CIFAR-10 Batch 4:  Loss: 0.7227 Accuracy: 63.34%\n",
      "Epoch 35, CIFAR-10 Batch 5:  Loss: 0.7029 Accuracy: 63.46%\n",
      "0:00:05.035503\n",
      "Epoch 36, CIFAR-10 Batch 1:  Loss: 0.7349 Accuracy: 63.20%\n",
      "Epoch 36, CIFAR-10 Batch 2:  Loss: 0.7205 Accuracy: 62.84%\n",
      "Epoch 36, CIFAR-10 Batch 3:  Loss: 0.6864 Accuracy: 62.86%\n",
      "Epoch 36, CIFAR-10 Batch 4:  Loss: 0.7122 Accuracy: 63.72%\n",
      "Epoch 36, CIFAR-10 Batch 5:  Loss: 0.6888 Accuracy: 63.08%\n",
      "0:00:05.046338\n",
      "Epoch 37, CIFAR-10 Batch 1:  Loss: 0.7303 Accuracy: 63.28%\n",
      "Epoch 37, CIFAR-10 Batch 2:  Loss: 0.6971 Accuracy: 63.42%\n",
      "Epoch 37, CIFAR-10 Batch 3:  Loss: 0.6638 Accuracy: 63.42%\n",
      "Epoch 37, CIFAR-10 Batch 4:  Loss: 0.6942 Accuracy: 64.04%\n",
      "Epoch 37, CIFAR-10 Batch 5:  Loss: 0.6760 Accuracy: 63.44%\n",
      "0:00:05.038908\n",
      "Epoch 38, CIFAR-10 Batch 1:  Loss: 0.7141 Accuracy: 62.70%\n",
      "Epoch 38, CIFAR-10 Batch 2:  Loss: 0.6996 Accuracy: 63.48%\n",
      "Epoch 38, CIFAR-10 Batch 3:  Loss: 0.6562 Accuracy: 63.72%\n",
      "Epoch 38, CIFAR-10 Batch 4:  Loss: 0.6801 Accuracy: 63.98%\n",
      "Epoch 38, CIFAR-10 Batch 5:  Loss: 0.6765 Accuracy: 63.88%\n",
      "0:00:05.036311\n",
      "Epoch 39, CIFAR-10 Batch 1:  Loss: 0.6885 Accuracy: 63.82%\n",
      "Epoch 39, CIFAR-10 Batch 2:  Loss: 0.6716 Accuracy: 63.24%\n",
      "Epoch 39, CIFAR-10 Batch 3:  Loss: 0.6494 Accuracy: 63.88%\n",
      "Epoch 39, CIFAR-10 Batch 4:  Loss: 0.6669 Accuracy: 64.42%\n",
      "Epoch 39, CIFAR-10 Batch 5:  Loss: 0.6452 Accuracy: 63.96%\n",
      "0:00:05.041471\n",
      "Epoch 40, CIFAR-10 Batch 1:  Loss: 0.6714 Accuracy: 63.78%\n",
      "Epoch 40, CIFAR-10 Batch 2:  Loss: 0.6532 Accuracy: 63.70%\n",
      "Epoch 40, CIFAR-10 Batch 3:  Loss: 0.6321 Accuracy: 64.06%\n",
      "Epoch 40, CIFAR-10 Batch 4:  Loss: 0.6433 Accuracy: 64.34%\n",
      "Epoch 40, CIFAR-10 Batch 5:  Loss: 0.6354 Accuracy: 64.34%\n",
      "0:00:05.039067\n",
      "Epoch 41, CIFAR-10 Batch 1:  Loss: 0.6642 Accuracy: 63.88%\n",
      "Epoch 41, CIFAR-10 Batch 2:  Loss: 0.6464 Accuracy: 63.62%\n",
      "Epoch 41, CIFAR-10 Batch 3:  Loss: 0.6257 Accuracy: 64.30%\n",
      "Epoch 41, CIFAR-10 Batch 4:  Loss: 0.6230 Accuracy: 65.12%\n",
      "Epoch 41, CIFAR-10 Batch 5:  Loss: 0.6071 Accuracy: 64.74%\n",
      "0:00:05.035368\n",
      "Epoch 42, CIFAR-10 Batch 1:  Loss: 0.6465 Accuracy: 64.46%\n",
      "Epoch 42, CIFAR-10 Batch 2:  Loss: 0.6256 Accuracy: 63.82%\n",
      "Epoch 42, CIFAR-10 Batch 3:  Loss: 0.6031 Accuracy: 64.36%\n",
      "Epoch 42, CIFAR-10 Batch 4:  Loss: 0.6275 Accuracy: 65.08%\n",
      "Epoch 42, CIFAR-10 Batch 5:  Loss: 0.5940 Accuracy: 64.58%\n",
      "0:00:05.040492\n",
      "Epoch 43, CIFAR-10 Batch 1:  Loss: 0.6215 Accuracy: 64.84%\n",
      "Epoch 43, CIFAR-10 Batch 2:  Loss: 0.6149 Accuracy: 63.72%\n",
      "Epoch 43, CIFAR-10 Batch 3:  Loss: 0.6032 Accuracy: 64.36%\n",
      "Epoch 43, CIFAR-10 Batch 4:  Loss: 0.6071 Accuracy: 65.26%\n",
      "Epoch 43, CIFAR-10 Batch 5:  Loss: 0.5989 Accuracy: 64.04%\n",
      "0:00:05.038863\n",
      "Epoch 44, CIFAR-10 Batch 1:  Loss: 0.6260 Accuracy: 64.04%\n",
      "Epoch 44, CIFAR-10 Batch 2:  Loss: 0.5964 Accuracy: 64.46%\n",
      "Epoch 44, CIFAR-10 Batch 3:  Loss: 0.5726 Accuracy: 64.26%\n",
      "Epoch 44, CIFAR-10 Batch 4:  Loss: 0.6072 Accuracy: 64.48%\n",
      "Epoch 44, CIFAR-10 Batch 5:  Loss: 0.5826 Accuracy: 64.90%\n",
      "0:00:05.048263\n",
      "Epoch 45, CIFAR-10 Batch 1:  Loss: 0.6082 Accuracy: 64.50%\n",
      "Epoch 45, CIFAR-10 Batch 2:  Loss: 0.5894 Accuracy: 64.66%\n",
      "Epoch 45, CIFAR-10 Batch 3:  Loss: 0.5779 Accuracy: 65.20%\n",
      "Epoch 45, CIFAR-10 Batch 4:  Loss: 0.5718 Accuracy: 65.28%\n",
      "Epoch 45, CIFAR-10 Batch 5:  Loss: 0.5612 Accuracy: 64.80%\n",
      "0:00:05.042212\n",
      "Epoch 46, CIFAR-10 Batch 1:  Loss: 0.5918 Accuracy: 64.36%\n",
      "Epoch 46, CIFAR-10 Batch 2:  Loss: 0.5886 Accuracy: 64.08%\n",
      "Epoch 46, CIFAR-10 Batch 3:  Loss: 0.5758 Accuracy: 64.58%\n",
      "Epoch 46, CIFAR-10 Batch 4:  Loss: 0.5829 Accuracy: 64.70%\n",
      "Epoch 46, CIFAR-10 Batch 5:  Loss: 0.5454 Accuracy: 64.74%\n",
      "0:00:05.040303\n",
      "Epoch 47, CIFAR-10 Batch 1:  Loss: 0.5978 Accuracy: 64.22%\n",
      "Epoch 47, CIFAR-10 Batch 2:  Loss: 0.5674 Accuracy: 64.44%\n",
      "Epoch 47, CIFAR-10 Batch 3:  Loss: 0.5471 Accuracy: 65.18%\n",
      "Epoch 47, CIFAR-10 Batch 4:  Loss: 0.5739 Accuracy: 64.70%\n",
      "Epoch 47, CIFAR-10 Batch 5:  Loss: 0.5430 Accuracy: 65.42%\n",
      "0:00:05.032772\n",
      "Epoch 48, CIFAR-10 Batch 1:  Loss: 0.5808 Accuracy: 64.86%\n",
      "Epoch 48, CIFAR-10 Batch 2:  Loss: 0.5519 Accuracy: 64.56%\n",
      "Epoch 48, CIFAR-10 Batch 3:  Loss: 0.5396 Accuracy: 65.38%\n",
      "Epoch 48, CIFAR-10 Batch 4:  Loss: 0.5541 Accuracy: 65.18%\n",
      "Epoch 48, CIFAR-10 Batch 5:  Loss: 0.5375 Accuracy: 65.26%\n",
      "0:00:05.037823\n",
      "Epoch 49, CIFAR-10 Batch 1:  Loss: 0.5965 Accuracy: 64.94%\n",
      "Epoch 49, CIFAR-10 Batch 2:  Loss: 0.5393 Accuracy: 64.84%\n",
      "Epoch 49, CIFAR-10 Batch 3:  Loss: 0.5418 Accuracy: 64.20%\n",
      "Epoch 49, CIFAR-10 Batch 4:  Loss: 0.5479 Accuracy: 64.60%\n",
      "Epoch 49, CIFAR-10 Batch 5:  Loss: 0.5530 Accuracy: 63.36%\n",
      "0:00:05.047001\n",
      "Epoch 50, CIFAR-10 Batch 1:  Loss: 0.5944 Accuracy: 63.92%\n",
      "Epoch 50, CIFAR-10 Batch 2:  Loss: 0.5955 Accuracy: 63.60%\n",
      "Epoch 50, CIFAR-10 Batch 3:  Loss: 0.5787 Accuracy: 63.32%\n",
      "Epoch 50, CIFAR-10 Batch 4:  Loss: 0.6189 Accuracy: 62.82%\n",
      "Epoch 50, CIFAR-10 Batch 5:  Loss: 0.5608 Accuracy: 63.06%\n",
      "0:00:05.034443\n"
     ]
    }
   ],
   "source": [
    "\"\"\"\n",
    "DON'T MODIFY ANYTHING IN THIS CELL\n",
    "\"\"\"\n",
    "save_model_path = './image_classification'\n",
    "\n",
    "print('Training...')\n",
    "with tf.Session() as sess:\n",
    "    # Initializing the variables\n",
    "    sess.run(tf.global_variables_initializer())\n",
    "    \n",
    "    # Training cycle\n",
    "    for epoch in range(epochs):\n",
    "        # Loop over all batches\n",
    "        start = datetime.datetime.now()\n",
    "        n_batches = 5\n",
    "        for batch_i in range(1, n_batches + 1):\n",
    "            for batch_features, batch_labels in helper.load_preprocess_training_batch(batch_i, batch_size):\n",
    "                train_neural_network(sess, optimizer, keep_probability, batch_features, batch_labels)\n",
    "            print('Epoch {:>2}, CIFAR-10 Batch {}:  '.format(epoch + 1, batch_i), end='')\n",
    "            print_stats(sess, batch_features, batch_labels, cost, accuracy)\n",
    "        end = datetime.datetime.now()\n",
    "        print (end-start)    \n",
    "    # Save Model\n",
    "    saver = tf.train.Saver()\n",
    "    save_path = saver.save(sess, save_model_path)"
   ]
  },
  {
   "cell_type": "markdown",
   "metadata": {
    "deletable": true,
    "editable": true
   },
   "source": [
    "# Checkpoint\n",
    "The model has been saved to disk.\n",
    "## Test Model\n",
    "Test your model against the test dataset.  This will be your final accuracy. You should have an accuracy greater than 50%. If you don't, keep tweaking the model architecture and parameters."
   ]
  },
  {
   "cell_type": "code",
   "execution_count": 14,
   "metadata": {
    "collapsed": false,
    "deletable": true,
    "editable": true
   },
   "outputs": [
    {
     "name": "stdout",
     "output_type": "stream",
     "text": [
      "Testing Accuracy: 0.6415030479431152\n",
      "\n"
     ]
    },
    {
     "data": {
      "image/png": "[encoded data removed]",
      "text/plain": [
       "<matplotlib.figure.Figure at 0x7f3937a5b390>"
      ]
     },
     "metadata": {
      "image/png": {
       "height": 319,
       "width": 355
      }
     },
     "output_type": "display_data"
    }
   ],
   "source": [
    "\"\"\"\n",
    "DON'T MODIFY ANYTHING IN THIS CELL\n",
    "\"\"\"\n",
    "%matplotlib inline\n",
    "%config InlineBackend.figure_format = 'retina'\n",
    "\n",
    "import tensorflow as tf\n",
    "import pickle\n",
    "import helper\n",
    "import random\n",
    "\n",
    "# Set batch size if not already set\n",
    "try:\n",
    "    if batch_size:\n",
    "        pass\n",
    "except NameError:\n",
    "    batch_size = 64\n",
    "\n",
    "save_model_path = './image_classification'\n",
    "n_samples = 4\n",
    "top_n_predictions = 3\n",
    "\n",
    "def test_model():\n",
    "    \"\"\"\n",
    "    Test the saved model against the test dataset\n",
    "    \"\"\"\n",
    "\n",
    "    test_features, test_labels = pickle.load(open('preprocess_training.p', mode='rb'))\n",
    "    loaded_graph = tf.Graph()\n",
    "\n",
    "    with tf.Session(graph=loaded_graph) as sess:\n",
    "        # Load model\n",
    "        loader = tf.train.import_meta_graph(save_model_path + '.meta')\n",
    "        loader.restore(sess, save_model_path)\n",
    "\n",
    "        # Get Tensors from loaded model\n",
    "        loaded_x = loaded_graph.get_tensor_by_name('x:0')\n",
    "        loaded_y = loaded_graph.get_tensor_by_name('y:0')\n",
    "        loaded_keep_prob = loaded_graph.get_tensor_by_name('keep_prob:0')\n",
    "        loaded_logits = loaded_graph.get_tensor_by_name('logits:0')\n",
    "        loaded_acc = loaded_graph.get_tensor_by_name('accuracy:0')\n",
    "        \n",
    "        # Get accuracy in batches for memory limitations\n",
    "        test_batch_acc_total = 0\n",
    "        test_batch_count = 0\n",
    "        \n",
    "        for train_feature_batch, train_label_batch in helper.batch_features_labels(test_features, test_labels, batch_size):\n",
    "            test_batch_acc_total += sess.run(\n",
    "                loaded_acc,\n",
    "                feed_dict={loaded_x: train_feature_batch, loaded_y: train_label_batch, loaded_keep_prob: 1.0})\n",
    "            test_batch_count += 1\n",
    "\n",
    "        print('Testing Accuracy: {}\\n'.format(test_batch_acc_total/test_batch_count))\n",
    "\n",
    "        # Print Random Samples\n",
    "        random_test_features, random_test_labels = tuple(zip(*random.sample(list(zip(test_features, test_labels)), n_samples)))\n",
    "        random_test_predictions = sess.run(\n",
    "            tf.nn.top_k(tf.nn.softmax(loaded_logits), top_n_predictions),\n",
    "            feed_dict={loaded_x: random_test_features, loaded_y: random_test_labels, loaded_keep_prob: 1.0})\n",
    "        helper.display_image_predictions(random_test_features, random_test_labels, random_test_predictions)\n",
    "\n",
    "\n",
    "test_model()"
   ]
  },
  {
   "cell_type": "markdown",
   "metadata": {
    "deletable": true,
    "editable": true
   },
   "source": [
    "## Why 50-70% Accuracy?\n",
    "You might be wondering why you can't get an accuracy any higher. First things first, 50% isn't bad for a simple CNN.  Pure guessing would get you 10% accuracy. However, you might notice people are getting scores [well above 70%](http://rodrigob.github.io/are_we_there_yet/build/classification_datasets_results.html#43494641522d3130).  That's because we haven't taught you all there is to know about neural networks. We still need to cover a few more techniques.\n",
    "## Submitting This Project\n",
    "When submitting this project, make sure to run all the cells before saving the notebook.  Save the notebook file as \"dlnd_image_classification.ipynb\" and save it as a HTML file under \"File\" -> \"Download as\".  Include the \"helper.py\" and \"problem_unittests.py\" files in your submission."
   ]
  }
 ],
 "metadata": {
  "anaconda-cloud": {},
  "kernelspec": {
   "display_name": "Python 3",
   "language": "python",
   "name": "python3"
  },
  "language_info": {
   "codemirror_mode": {
    "name": "ipython",
    "version": 3
   },
   "file_extension": ".py",
   "mimetype": "text/x-python",
   "name": "python",
   "nbconvert_exporter": "python",
   "pygments_lexer": "ipython3",
   "version": "3.5.2"
  },
  "widgets": {
   "state": {},
   "version": "1.1.2"
  }
 },
 "nbformat": 4,
 "nbformat_minor": 0
}
