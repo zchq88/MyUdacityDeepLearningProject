{
 "cells": [
  {
   "cell_type": "markdown",
   "metadata": {
    "deletable": true,
    "editable": true
   },
   "source": [
    "# TV Script Generation\n",
    "In this project, you'll generate your own [Simpsons](https://en.wikipedia.org/wiki/The_Simpsons) TV scripts using RNNs.  You'll be using part of the [Simpsons dataset](https://www.kaggle.com/wcukierski/the-simpsons-by-the-data) of scripts from 27 seasons.  The Neural Network you'll build will generate a new TV script for a scene at [Moe's Tavern](https://simpsonswiki.com/wiki/Moe's_Tavern).\n",
    "## Get the Data\n",
    "The data is already provided for you.  You'll be using a subset of the original dataset.  It consists of only the scenes in Moe's Tavern.  This doesn't include other versions of the tavern, like \"Moe's Cavern\", \"Flaming Moe's\", \"Uncle Moe's Family Feed-Bag\", etc.."
   ]
  },
  {
   "cell_type": "code",
   "execution_count": 1,
   "metadata": {
    "collapsed": false,
    "deletable": true,
    "editable": true
   },
   "outputs": [],
   "source": [
    "\"\"\"\n",
    "DON'T MODIFY ANYTHING IN THIS CELL\n",
    "\"\"\"\n",
    "import helper\n",
    "\n",
    "data_dir = './data/simpsons/moes_tavern_lines.txt'\n",
    "text = helper.load_data(data_dir)\n",
    "# Ignore notice, since we don't use it for analysing the data\n",
    "text = text[81:]"
   ]
  },
  {
   "cell_type": "markdown",
   "metadata": {
    "deletable": true,
    "editable": true
   },
   "source": [
    "## Explore the Data\n",
    "Play around with `view_sentence_range` to view different parts of the data."
   ]
  },
  {
   "cell_type": "code",
   "execution_count": 2,
   "metadata": {
    "collapsed": false,
    "deletable": true,
    "editable": true
   },
   "outputs": [
    {
     "name": "stdout",
     "output_type": "stream",
     "text": [
      "Dataset Stats\n",
      "Roughly the number of unique words: 11492\n",
      "Number of scenes: 262\n",
      "Average number of sentences in each scene: 15.248091603053435\n",
      "Number of lines: 4257\n",
      "Average number of words in each line: 11.50434578341555\n",
      "\n",
      "The sentences 0 to 10:\n",
      "Moe_Szyslak: (INTO PHONE) Moe's Tavern. Where the elite meet to drink.\n",
      "Bart_Simpson: Eh, yeah, hello, is Mike there? Last name, Rotch.\n",
      "Moe_Szyslak: (INTO PHONE) Hold on, I'll check. (TO BARFLIES) Mike Rotch. Mike Rotch. Hey, has anybody seen Mike Rotch, lately?\n",
      "Moe_Szyslak: (INTO PHONE) Listen you little puke. One of these days I'm gonna catch you, and I'm gonna carve my name on your back with an ice pick.\n",
      "Moe_Szyslak: What's the matter Homer? You're not your normal effervescent self.\n",
      "Homer_Simpson: I got my problems, Moe. Give me another one.\n",
      "Moe_Szyslak: Homer, hey, you should not drink to forget your problems.\n",
      "Barney_Gumble: Yeah, you should only drink to enhance your social skills.\n",
      "\n",
      "\n"
     ]
    }
   ],
   "source": [
    "view_sentence_range = (0, 10)\n",
    "\n",
    "\"\"\"\n",
    "DON'T MODIFY ANYTHING IN THIS CELL\n",
    "\"\"\"\n",
    "import numpy as np\n",
    "\n",
    "print('Dataset Stats')\n",
    "print('Roughly the number of unique words: {}'.format(len({word: None for word in text.split()})))\n",
    "scenes = text.split('\\n\\n')\n",
    "print('Number of scenes: {}'.format(len(scenes)))\n",
    "sentence_count_scene = [scene.count('\\n') for scene in scenes]\n",
    "print('Average number of sentences in each scene: {}'.format(np.average(sentence_count_scene)))\n",
    "\n",
    "sentences = [sentence for scene in scenes for sentence in scene.split('\\n')]\n",
    "print('Number of lines: {}'.format(len(sentences)))\n",
    "word_count_sentence = [len(sentence.split()) for sentence in sentences]\n",
    "print('Average number of words in each line: {}'.format(np.average(word_count_sentence)))\n",
    "\n",
    "print()\n",
    "print('The sentences {} to {}:'.format(*view_sentence_range))\n",
    "print('\\n'.join(text.split('\\n')[view_sentence_range[0]:view_sentence_range[1]]))"
   ]
  },
  {
   "cell_type": "markdown",
   "metadata": {
    "deletable": true,
    "editable": true
   },
   "source": [
    "## Implement Preprocessing Functions\n",
    "The first thing to do to any dataset is preprocessing.  Implement the following preprocessing functions below:\n",
    "- Lookup Table\n",
    "- Tokenize Punctuation\n",
    "\n",
    "### Lookup Table\n",
    "To create a word embedding, you first need to transform the words to ids.  In this function, create two dictionaries:\n",
    "- Dictionary to go from the words to an id, we'll call `vocab_to_int`\n",
    "- Dictionary to go from the id to word, we'll call `int_to_vocab`\n",
    "\n",
    "Return these dictionaries in the following tuple `(vocab_to_int, int_to_vocab)`"
   ]
  },
  {
   "cell_type": "code",
   "execution_count": 3,
   "metadata": {
    "collapsed": false,
    "deletable": true,
    "editable": true
   },
   "outputs": [
    {
     "name": "stdout",
     "output_type": "stream",
     "text": [
      "Tests Passed\n"
     ]
    }
   ],
   "source": [
    "import numpy as np\n",
    "import problem_unittests as tests\n",
    "\n",
    "def create_lookup_tables(text):\n",
    "    \"\"\"\n",
    "    Create lookup tables for vocabulary\n",
    "    :param text: The text of tv scripts split into words\n",
    "    :return: A tuple of dicts (vocab_to_int, int_to_vocab)\n",
    "    \"\"\"    \n",
    "    # TODO: Implement Function\n",
    "    \"\"\"\n",
    "    vocab_to_int = {}\n",
    "    int_to_vocab = {}\n",
    "    i=0\n",
    "    for word in text:\n",
    "        if vocab_to_int.get(word)==None:\n",
    "            vocab_to_int[word]=i\n",
    "            int_to_vocab[i]=word\n",
    "            i+=1\n",
    "    #\"\"\"\n",
    "    vocab = set(text)\n",
    "    vocab_to_int = {c: i for i, c in enumerate(vocab)}\n",
    "    int_to_vocab = dict(enumerate(vocab))\n",
    "    return vocab_to_int, int_to_vocab\n",
    "\n",
    "\n",
    "\"\"\"\n",
    "DON'T MODIFY ANYTHING IN THIS CELL THAT IS BELOW THIS LINE\n",
    "\"\"\"\n",
    "tests.test_create_lookup_tables(create_lookup_tables)"
   ]
  },
  {
   "cell_type": "markdown",
   "metadata": {
    "deletable": true,
    "editable": true
   },
   "source": [
    "### Tokenize Punctuation\n",
    "We'll be splitting the script into a word array using spaces as delimiters.  However, punctuations like periods and exclamation marks make it hard for the neural network to distinguish between the word \"bye\" and \"bye!\".\n",
    "\n",
    "Implement the function `token_lookup` to return a dict that will be used to tokenize symbols like \"!\" into \"||Exclamation_Mark||\".  Create a dictionary for the following symbols where the symbol is the key and value is the token:\n",
    "- Period ( . )\n",
    "- Comma ( , )\n",
    "- Quotation Mark ( \" )\n",
    "- Semicolon ( ; )\n",
    "- Exclamation mark ( ! )\n",
    "- Question mark ( ? )\n",
    "- Left Parentheses ( ( )\n",
    "- Right Parentheses ( ) )\n",
    "- Dash ( -- )\n",
    "- Return ( \\n )\n",
    "\n",
    "This dictionary will be used to token the symbols and add the delimiter (space) around it.  This separates the symbols as it's own word, making it easier for the neural network to predict on the next word. Make sure you don't use a token that could be confused as a word. Instead of using the token \"dash\", try using something like \"||dash||\"."
   ]
  },
  {
   "cell_type": "code",
   "execution_count": 4,
   "metadata": {
    "collapsed": false,
    "deletable": true,
    "editable": true
   },
   "outputs": [
    {
     "name": "stdout",
     "output_type": "stream",
     "text": [
      "Tests Passed\n"
     ]
    }
   ],
   "source": [
    "def token_lookup():\n",
    "    \"\"\"\n",
    "    Generate a dict to turn punctuation into a token.\n",
    "    :return: Tokenize dictionary where the key is the punctuation and the value is the token\n",
    "    \"\"\"\n",
    "    # TODO: Implement Function\n",
    "    Punctuation = { \".\" :\"||Period||\",\n",
    "                   \",\" :\"||Comma||\",\n",
    "                   \"\\\"\":\"||Quotation_Mark||\",\n",
    "                   \";\" :\"||Semicolon||\",\n",
    "                   \"!\" :\"||Exclamation_Mark||\",\n",
    "                   \"?\" :\"||Question_Mark||\",\n",
    "                   \"(\" :\"||Left_Parentheses||\",\n",
    "                   \")\" :\"||Right_Parentheses||\",\n",
    "                   \"--\" :\"||Dash||\",\n",
    "                   \"\\n\" :\"||Return||\",}   \n",
    "    return Punctuation\n",
    "\n",
    "\"\"\"\n",
    "DON'T MODIFY ANYTHING IN THIS CELL THAT IS BELOW THIS LINE\n",
    "\"\"\"\n",
    "tests.test_tokenize(token_lookup)"
   ]
  },
  {
   "cell_type": "markdown",
   "metadata": {
    "deletable": true,
    "editable": true
   },
   "source": [
    "## Preprocess all the data and save it\n",
    "Running the code cell below will preprocess all the data and save it to file."
   ]
  },
  {
   "cell_type": "code",
   "execution_count": 5,
   "metadata": {
    "collapsed": false,
    "deletable": true,
    "editable": true
   },
   "outputs": [],
   "source": [
    "\"\"\"\n",
    "DON'T MODIFY ANYTHING IN THIS CELL\n",
    "\"\"\"\n",
    "# Preprocess Training, Validation, and Testing Data\n",
    "helper.preprocess_and_save_data(data_dir, token_lookup, create_lookup_tables)"
   ]
  },
  {
   "cell_type": "markdown",
   "metadata": {
    "deletable": true,
    "editable": true
   },
   "source": [
    "# Check Point\n",
    "This is your first checkpoint. If you ever decide to come back to this notebook or have to restart the notebook, you can start from here. The preprocessed data has been saved to disk."
   ]
  },
  {
   "cell_type": "code",
   "execution_count": 6,
   "metadata": {
    "collapsed": false,
    "deletable": true,
    "editable": true
   },
   "outputs": [],
   "source": [
    "\"\"\"\n",
    "DON'T MODIFY ANYTHING IN THIS CELL\n",
    "\"\"\"\n",
    "import helper\n",
    "import numpy as np\n",
    "import problem_unittests as tests\n",
    "\n",
    "int_text, vocab_to_int, int_to_vocab, token_dict = helper.load_preprocess()"
   ]
  },
  {
   "cell_type": "markdown",
   "metadata": {
    "deletable": true,
    "editable": true
   },
   "source": [
    "## Build the Neural Network\n",
    "You'll build the components necessary to build a RNN by implementing the following functions below:\n",
    "- get_inputs\n",
    "- get_init_cell\n",
    "- get_embed\n",
    "- build_rnn\n",
    "- build_nn\n",
    "- get_batches\n",
    "\n",
    "### Check the Version of TensorFlow and Access to GPU"
   ]
  },
  {
   "cell_type": "code",
   "execution_count": 7,
   "metadata": {
    "collapsed": false,
    "deletable": true,
    "editable": true
   },
   "outputs": [
    {
     "name": "stdout",
     "output_type": "stream",
     "text": [
      "TensorFlow Version: 1.0.0-rc0\n",
      "Default GPU Device: /gpu:0\n"
     ]
    }
   ],
   "source": [
    "\"\"\"\n",
    "DON'T MODIFY ANYTHING IN THIS CELL\n",
    "\"\"\"\n",
    "from distutils.version import LooseVersion\n",
    "import warnings\n",
    "import tensorflow as tf\n",
    "\n",
    "# Check TensorFlow Version\n",
    "assert LooseVersion(tf.__version__) >= LooseVersion('1.0'), 'Please use TensorFlow version 1.0 or newer'\n",
    "print('TensorFlow Version: {}'.format(tf.__version__))\n",
    "\n",
    "# Check for a GPU\n",
    "if not tf.test.gpu_device_name():\n",
    "    warnings.warn('No GPU found. Please use a GPU to train your neural network.')\n",
    "else:\n",
    "    print('Default GPU Device: {}'.format(tf.test.gpu_device_name()))"
   ]
  },
  {
   "cell_type": "markdown",
   "metadata": {
    "deletable": true,
    "editable": true
   },
   "source": [
    "### Input\n",
    "Implement the `get_inputs()` function to create TF Placeholders for the Neural Network.  It should create the following placeholders:\n",
    "- Input text placeholder named \"input\" using the [TF Placeholder](https://www.tensorflow.org/api_docs/python/tf/placeholder) `name` parameter.\n",
    "- Targets placeholder\n",
    "- Learning Rate placeholder\n",
    "\n",
    "Return the placeholders in the following the tuple `(Input, Targets, LearingRate)`"
   ]
  },
  {
   "cell_type": "code",
   "execution_count": 8,
   "metadata": {
    "collapsed": false,
    "deletable": true,
    "editable": true
   },
   "outputs": [
    {
     "name": "stdout",
     "output_type": "stream",
     "text": [
      "Tests Passed\n"
     ]
    }
   ],
   "source": [
    "def get_inputs():\n",
    "    \"\"\"\n",
    "    Create TF Placeholders for input, targets, and learning rate.\n",
    "    :return: Tuple (input, targets, learning rate)\n",
    "    \"\"\"\n",
    "    # TODO: Implement Function\n",
    "    _input = tf.placeholder(tf.int32,shape=[None, None],name=\"input\")\n",
    "    _targets = tf.placeholder(tf.int32,shape=[None, None],name='targets')\n",
    "    _lr = tf.placeholder(tf.float32,name='learing_rate')\n",
    "    return _input, _targets, _lr\n",
    "\n",
    "\n",
    "\"\"\"\n",
    "DON'T MODIFY ANYTHING IN THIS CELL THAT IS BELOW THIS LINE\n",
    "\"\"\"\n",
    "tests.test_get_inputs(get_inputs)"
   ]
  },
  {
   "cell_type": "markdown",
   "metadata": {
    "deletable": true,
    "editable": true
   },
   "source": [
    "### Build RNN Cell and Initialize\n",
    "Stack one or more [`BasicLSTMCells`](https://www.tensorflow.org/api_docs/python/tf/contrib/rnn/BasicLSTMCell) in a [`MultiRNNCell`](https://www.tensorflow.org/api_docs/python/tf/contrib/rnn/MultiRNNCell).\n",
    "- The Rnn size should be set using `rnn_size`\n",
    "- Initalize Cell State using the MultiRNNCell's [`zero_state()`](https://www.tensorflow.org/api_docs/python/tf/contrib/rnn/MultiRNNCell#zero_state) function\n",
    "    - Apply the name \"initial_state\" to the initial state using [`tf.identity()`](https://www.tensorflow.org/api_docs/python/tf/identity)\n",
    "\n",
    "Return the cell and initial state in the following tuple `(Cell, InitialState)`"
   ]
  },
  {
   "cell_type": "code",
   "execution_count": 9,
   "metadata": {
    "collapsed": false,
    "deletable": true,
    "editable": true
   },
   "outputs": [
    {
     "name": "stdout",
     "output_type": "stream",
     "text": [
      "Tests Passed\n"
     ]
    }
   ],
   "source": [
    "def get_init_cell(batch_size, rnn_size):\n",
    "    \"\"\"\n",
    "    Create an RNN Cell and initialize it.\n",
    "    :param batch_size: Size of batches\n",
    "    :param rnn_size: Size of RNNs\n",
    "    :return: Tuple (cell, initialize state)\n",
    "    \"\"\"\n",
    "    #print(batch_size,rnn_size)\n",
    "    # TODO: Implement Function\n",
    "    \n",
    "    num_layers = 2\n",
    "    lstm = tf.contrib.rnn.BasicLSTMCell(rnn_size)\n",
    "    #cell = tf.contrib.rnn.MultiRNNCell([lstm] * num_layers)\n",
    "    \n",
    "    keep_prob = 0.5\n",
    "    drop = tf.contrib.rnn.DropoutWrapper(lstm, output_keep_prob=keep_prob)\n",
    "    cell = tf.contrib.rnn.MultiRNNCell([drop] * num_layers)\n",
    "    \n",
    "    initial_state = cell.zero_state(batch_size, tf.float32)\n",
    "    initial_state = tf.identity(initial_state, name='initial_state')\n",
    "    return cell, initial_state\n",
    "\n",
    "\n",
    "\"\"\"\n",
    "DON'T MODIFY ANYTHING IN THIS CELL THAT IS BELOW THIS LINE\n",
    "\"\"\"\n",
    "tests.test_get_init_cell(get_init_cell)"
   ]
  },
  {
   "cell_type": "markdown",
   "metadata": {
    "deletable": true,
    "editable": true
   },
   "source": [
    "### Word Embedding\n",
    "Apply embedding to `input_data` using TensorFlow.  Return the embedded sequence."
   ]
  },
  {
   "cell_type": "code",
   "execution_count": 10,
   "metadata": {
    "collapsed": false,
    "deletable": true,
    "editable": true
   },
   "outputs": [
    {
     "name": "stdout",
     "output_type": "stream",
     "text": [
      "Tests Passed\n"
     ]
    }
   ],
   "source": [
    "def get_embed(input_data, vocab_size, embed_dim):\n",
    "    \"\"\"\n",
    "    Create embedding for <input_data>.\n",
    "    :param input_data: TF placeholder for text input.\n",
    "    :param vocab_size: Number of words in vocabulary.\n",
    "    :param embed_dim: Number of embedding dimensions\n",
    "    :return: Embedded input.\n",
    "    \"\"\"\n",
    "    # TODO: Implement Function\n",
    "    #embedding = tf.get_variable(\"embedding\", [vocab_size, embed_dim])    \n",
    "    embedding = tf.Variable(tf.random_uniform([vocab_size, embed_dim],-1,1))    \n",
    "    _inputs = tf.nn.embedding_lookup(embedding, input_data)\n",
    "    return _inputs\n",
    "\n",
    "\n",
    "\"\"\"\n",
    "DON'T MODIFY ANYTHING IN THIS CELL THAT IS BELOW THIS LINE\n",
    "\"\"\"\n",
    "tests.test_get_embed(get_embed)"
   ]
  },
  {
   "cell_type": "markdown",
   "metadata": {
    "deletable": true,
    "editable": true
   },
   "source": [
    "### Build RNN\n",
    "You created a RNN Cell in the `get_init_cell()` function.  Time to use the cell to create a RNN.\n",
    "- Build the RNN using the [`tf.nn.dynamic_rnn()`](https://www.tensorflow.org/api_docs/python/tf/nn/dynamic_rnn)\n",
    " - Apply the name \"final_state\" to the final state using [`tf.identity()`](https://www.tensorflow.org/api_docs/python/tf/identity)\n",
    "\n",
    "Return the outputs and final_state state in the following tuple `(Outputs, FinalState)` "
   ]
  },
  {
   "cell_type": "code",
   "execution_count": 11,
   "metadata": {
    "collapsed": false,
    "deletable": true,
    "editable": true
   },
   "outputs": [
    {
     "name": "stdout",
     "output_type": "stream",
     "text": [
      "Tests Passed\n"
     ]
    }
   ],
   "source": [
    "def build_rnn(cell, inputs):\n",
    "    \"\"\"\n",
    "    Create a RNN using a RNN Cell\n",
    "    :param cell: RNN Cell\n",
    "    :param inputs: Input text data\n",
    "    :return: Tuple (Outputs, Final State)\n",
    "    \"\"\"\n",
    "    # TODO: Implement Function\n",
    "    outputs, final_state = tf.nn.dynamic_rnn(cell, inputs, dtype = tf.float32)\n",
    "    final_state=tf.identity(final_state, name='final_state')\n",
    "    return outputs, final_state \n",
    "\n",
    "\n",
    "\"\"\"\n",
    "DON'T MODIFY ANYTHING IN THIS CELL THAT IS BELOW THIS LINE\n",
    "\"\"\"\n",
    "tests.test_build_rnn(build_rnn)"
   ]
  },
  {
   "cell_type": "markdown",
   "metadata": {
    "deletable": true,
    "editable": true
   },
   "source": [
    "### Build the Neural Network\n",
    "Apply the functions you implemented above to:\n",
    "- Apply embedding to `input_data` using your `get_embed(input_data, vocab_size, embed_dim)` function.\n",
    "- Build RNN using `cell` and your `build_rnn(cell, inputs)` function.\n",
    "- Apply a fully connected layer with a linear activation and `vocab_size` as the number of outputs.\n",
    "\n",
    "Return the logits and final state in the following tuple (Logits, FinalState) "
   ]
  },
  {
   "cell_type": "code",
   "execution_count": 12,
   "metadata": {
    "collapsed": false,
    "deletable": true,
    "editable": true
   },
   "outputs": [
    {
     "name": "stdout",
     "output_type": "stream",
     "text": [
      "Tests Passed\n"
     ]
    }
   ],
   "source": [
    "def build_nn(cell, rnn_size, input_data, vocab_size):\n",
    "    \"\"\"\n",
    "    Build part of the neural network\n",
    "    :param cell: RNN cell\n",
    "    :param rnn_size: Size of rnns\n",
    "    :param input_data: Input data\n",
    "    :param vocab_size: Vocabulary size\n",
    "    :return: Tuple (Logits, FinalState)\n",
    "    \"\"\"\n",
    "    \n",
    "    # TODO: Implement Function\n",
    "    inputs = get_embed(input_data,vocab_size,rnn_size)\n",
    "    cell,final_state = build_rnn(cell, inputs)    \n",
    "    #logits = tf.contrib.layers.fully_connected(cell, vocab_size)\n",
    "    logits = tf.contrib.layers.fully_connected(cell, vocab_size, activation_fn = None)\n",
    "    return logits, final_state\n",
    "\n",
    "\n",
    "\"\"\"\n",
    "DON'T MODIFY ANYTHING IN THIS CELL THAT IS BELOW THIS LINE\n",
    "\"\"\"\n",
    "tests.test_build_nn(build_nn)"
   ]
  },
  {
   "cell_type": "markdown",
   "metadata": {
    "deletable": true,
    "editable": true
   },
   "source": [
    "### Batches\n",
    "Implement `get_batches` to create batches of input and targets using `int_text`.  The batches should be a Numpy array with the shape `(number of batches, 2, batch size, sequence length)`. Each batch contains two elements:\n",
    "- The first element is a single batch of **input** with the shape `[batch size, sequence length]`\n",
    "- The second element is a single batch of **targets** with the shape `[batch size, sequence length]`\n",
    "\n",
    "If you can't fill the last batch with enough data, drop the last batch.\n",
    "\n",
    "For exmple, `get_batches([1, 2, 3, 4, 5, 6, 7, 8, 9, 10, 11, 12, 13, 14, 15], 2, 3)` would return a Numpy array of the following:\n",
    "```\n",
    "[\n",
    "  # First Batch\n",
    "  [\n",
    "    # Batch of Input\n",
    "    [[ 1  2  3], [ 7  8  9]],\n",
    "    # Batch of targets\n",
    "    [[ 2  3  4], [ 8  9 10]]\n",
    "  ],\n",
    " \n",
    "  # Second Batch\n",
    "  [\n",
    "    # Batch of Input\n",
    "    [[ 4  5  6], [10 11 12]],\n",
    "    # Batch of targets\n",
    "    [[ 5  6  7], [11 12 13]]\n",
    "  ]\n",
    "]\n",
    "```"
   ]
  },
  {
   "cell_type": "code",
   "execution_count": 13,
   "metadata": {
    "collapsed": false,
    "deletable": true,
    "editable": true
   },
   "outputs": [
    {
     "name": "stdout",
     "output_type": "stream",
     "text": [
      "Tests Passed\n"
     ]
    }
   ],
   "source": [
    "def get_batches(int_text, batch_size, seq_length):\n",
    "    \"\"\"\n",
    "    Return batches of input and target\n",
    "    :param int_text: Text with the words replaced by their ids\n",
    "    :param batch_size: The size of batch\n",
    "    :param seq_length: The length of sequence\n",
    "    :return: Batches as a Numpy array\n",
    "    \"\"\"\n",
    "    # TODO: Implement Function\n",
    "    '''\n",
    "    \n",
    "    int_text=np.array(int_text)\n",
    "    slice_size = batch_size * seq_length\n",
    "    n_batches = int(len(int_text) / slice_size)\n",
    "    batches=np.zeros((n_batches,2,batch_size,seq_length))\n",
    "    x = int_text[: n_batches*slice_size]\n",
    "    y = int_text[1: n_batches*slice_size + 1]\n",
    "    x = np.split(x, batch_size *n_batches)\n",
    "    y = np.split(y, batch_size *n_batches)\n",
    "    for i in range(n_batches):\n",
    "        outx=np.zeros((batch_size,seq_length))\n",
    "        outy=np.zeros((batch_size,seq_length))\n",
    "        for j in range(batch_size):\n",
    "            outx[j] = x[i+j*n_batches]\n",
    "            outy[j] = y[i+j*n_batches]\n",
    "        batches[i][0]=outx\n",
    "        batches[i][1]=outy\n",
    "    return batches\n",
    "    '''\n",
    "    slice_size = int(len(int_text)/batch_size)\n",
    "    X_train = np.asarray(int_text[:-1])\n",
    "    y_train = np.asarray(int_text[1:])\n",
    "    n_batches = int(slice_size/seq_length)\n",
    "    \n",
    "    # Drop the last few characters to make only full batches\n",
    "    xdata = np.array(int_text[: n_batches * batch_size * seq_length])\n",
    "    ydata = np.array(int_text[1: n_batches * batch_size * seq_length + 1])\n",
    "\n",
    "    x_batches = np.split(xdata.reshape(batch_size, -1), n_batches, 1)\n",
    "    y_batches = np.split(ydata.reshape(batch_size, -1), n_batches, 1)\n",
    "\n",
    "    return np.array(list(zip(x_batches, y_batches)))\n",
    "    \n",
    "\"\"\"\n",
    "DON'T MODIFY ANYTHING IN THIS CELL THAT IS BELOW THIS LINE\n",
    "\"\"\"\n",
    "tests.test_get_batches(get_batches)"
   ]
  },
  {
   "cell_type": "markdown",
   "metadata": {
    "deletable": true,
    "editable": true
   },
   "source": [
    "## Neural Network Training\n",
    "### Hyperparameters\n",
    "Tune the following parameters:\n",
    "\n",
    "- Set `num_epochs` to the number of epochs.\n",
    "- Set `batch_size` to the batch size.\n",
    "- Set `rnn_size` to the size of the RNNs.\n",
    "- Set `seq_length` to the length of sequence.\n",
    "- Set `learning_rate` to the learning rate.\n",
    "- Set `show_every_n_batches` to the number of batches the neural network should print progress."
   ]
  },
  {
   "cell_type": "code",
   "execution_count": 14,
   "metadata": {
    "collapsed": true,
    "deletable": true,
    "editable": true
   },
   "outputs": [],
   "source": [
    "# Number of Epochs\n",
    "num_epochs = 300\n",
    "# Batch Size\n",
    "batch_size = 23\n",
    "# RNN Size\n",
    "rnn_size = 256\n",
    "# Sequence Length\n",
    "seq_length = 33\n",
    "# Learning Rate\n",
    "learning_rate = 0.005\n",
    "# Show stats for every n number of batches\n",
    "show_every_n_batches = 100\n",
    "\n",
    "\"\"\"\n",
    "DON'T MODIFY ANYTHING IN THIS CELL THAT IS BELOW THIS LINE\n",
    "\"\"\"\n",
    "save_dir = './save'"
   ]
  },
  {
   "cell_type": "markdown",
   "metadata": {
    "deletable": true,
    "editable": true
   },
   "source": [
    "### Build the Graph\n",
    "Build the graph using the neural network you implemented."
   ]
  },
  {
   "cell_type": "code",
   "execution_count": 15,
   "metadata": {
    "collapsed": false,
    "deletable": true,
    "editable": true
   },
   "outputs": [],
   "source": [
    "\"\"\"\n",
    "DON'T MODIFY ANYTHING IN THIS CELL\n",
    "\"\"\"\n",
    "from tensorflow.contrib import seq2seq\n",
    "\n",
    "train_graph = tf.Graph()\n",
    "with train_graph.as_default():\n",
    "    vocab_size = len(int_to_vocab)\n",
    "    input_text, targets, lr = get_inputs()\n",
    "    input_data_shape = tf.shape(input_text)\n",
    "    cell, initial_state = get_init_cell(input_data_shape[0], rnn_size)\n",
    "    logits, final_state = build_nn(cell, rnn_size, input_text, vocab_size)\n",
    "\n",
    "    # Probabilities for generating words\n",
    "    probs = tf.nn.softmax(logits, name='probs')\n",
    "\n",
    "    # Loss function\n",
    "    cost = seq2seq.sequence_loss(\n",
    "        logits,\n",
    "        targets,\n",
    "        tf.ones([input_data_shape[0], input_data_shape[1]]))\n",
    "\n",
    "    # Optimizer\n",
    "    optimizer = tf.train.AdamOptimizer(lr)\n",
    "\n",
    "    # Gradient Clipping\n",
    "    gradients = optimizer.compute_gradients(cost)\n",
    "    capped_gradients = [(tf.clip_by_value(grad, -1., 1.), var) for grad, var in gradients]\n",
    "    train_op = optimizer.apply_gradients(capped_gradients)"
   ]
  },
  {
   "cell_type": "markdown",
   "metadata": {
    "deletable": true,
    "editable": true
   },
   "source": [
    "## Train\n",
    "Train the neural network on the preprocessed data.  If you have a hard time getting a good loss, check the [forms](https://discussions.udacity.com/) to see if anyone is having the same problem."
   ]
  },
  {
   "cell_type": "code",
   "execution_count": 16,
   "metadata": {
    "collapsed": false,
    "deletable": true,
    "editable": true
   },
   "outputs": [
    {
     "name": "stdout",
     "output_type": "stream",
     "text": [
      "Epoch   0 Batch    0/91   train_loss = 8.822  time = 0:00:00.270911\n",
      "Epoch   1 Batch    9/91   train_loss = 6.105  time = 0:00:08.440676\n",
      "Epoch   2 Batch   18/91   train_loss = 6.170  time = 0:00:08.425972\n",
      "Epoch   3 Batch   27/91   train_loss = 5.294  time = 0:00:08.412292\n",
      "Epoch   4 Batch   36/91   train_loss = 4.952  time = 0:00:08.422411\n",
      "Epoch   5 Batch   45/91   train_loss = 4.980  time = 0:00:08.436094\n",
      "Epoch   6 Batch   54/91   train_loss = 4.612  time = 0:00:08.425869\n",
      "Epoch   7 Batch   63/91   train_loss = 4.584  time = 0:00:08.450833\n",
      "Epoch   8 Batch   72/91   train_loss = 4.353  time = 0:00:08.432362\n",
      "Epoch   9 Batch   81/91   train_loss = 4.298  time = 0:00:08.445728\n",
      "Epoch  10 Batch   90/91   train_loss = 4.279  time = 0:00:08.439618\n",
      "Epoch  12 Batch    8/91   train_loss = 3.999  time = 0:00:08.429061\n",
      "Epoch  13 Batch   17/91   train_loss = 3.899  time = 0:00:08.439821\n",
      "Epoch  14 Batch   26/91   train_loss = 3.945  time = 0:00:08.439422\n",
      "Epoch  15 Batch   35/91   train_loss = 3.820  time = 0:00:08.436036\n",
      "Epoch  16 Batch   44/91   train_loss = 3.858  time = 0:00:08.440959\n",
      "Epoch  17 Batch   53/91   train_loss = 3.915  time = 0:00:08.436386\n",
      "Epoch  18 Batch   62/91   train_loss = 3.498  time = 0:00:08.422161\n",
      "Epoch  19 Batch   71/91   train_loss = 3.619  time = 0:00:08.508492\n",
      "Epoch  20 Batch   80/91   train_loss = 3.668  time = 0:00:08.421371\n",
      "Epoch  21 Batch   89/91   train_loss = 3.570  time = 0:00:08.419867\n",
      "Epoch  23 Batch    7/91   train_loss = 3.671  time = 0:00:08.437681\n",
      "Epoch  24 Batch   16/91   train_loss = 3.286  time = 0:00:08.401506\n",
      "Epoch  25 Batch   25/91   train_loss = 3.441  time = 0:00:08.425259\n",
      "Epoch  26 Batch   34/91   train_loss = 3.317  time = 0:00:08.396422\n",
      "Epoch  27 Batch   43/91   train_loss = 3.357  time = 0:00:08.438007\n",
      "Epoch  28 Batch   52/91   train_loss = 3.257  time = 0:00:08.430095\n",
      "Epoch  29 Batch   61/91   train_loss = 3.152  time = 0:00:08.459510\n",
      "Epoch  30 Batch   70/91   train_loss = 3.264  time = 0:00:08.428802\n",
      "Epoch  31 Batch   79/91   train_loss = 3.067  time = 0:00:08.429487\n",
      "Epoch  32 Batch   88/91   train_loss = 3.032  time = 0:00:08.432050\n",
      "Epoch  34 Batch    6/91   train_loss = 3.090  time = 0:00:08.459618\n",
      "Epoch  35 Batch   15/91   train_loss = 3.079  time = 0:00:08.436299\n",
      "Epoch  36 Batch   24/91   train_loss = 3.062  time = 0:00:08.412113\n",
      "Epoch  37 Batch   33/91   train_loss = 3.037  time = 0:00:08.415505\n",
      "Epoch  38 Batch   42/91   train_loss = 3.085  time = 0:00:08.394500\n",
      "Epoch  39 Batch   51/91   train_loss = 3.009  time = 0:00:08.430127\n",
      "Epoch  40 Batch   60/91   train_loss = 2.822  time = 0:00:08.412458\n",
      "Epoch  41 Batch   69/91   train_loss = 2.877  time = 0:00:08.401421\n",
      "Epoch  42 Batch   78/91   train_loss = 2.869  time = 0:00:08.428575\n",
      "Epoch  43 Batch   87/91   train_loss = 2.783  time = 0:00:08.436461\n",
      "Epoch  45 Batch    5/91   train_loss = 2.866  time = 0:00:08.429485\n",
      "Epoch  46 Batch   14/91   train_loss = 2.714  time = 0:00:08.425874\n",
      "Epoch  47 Batch   23/91   train_loss = 2.706  time = 0:00:08.394580\n",
      "Epoch  48 Batch   32/91   train_loss = 2.741  time = 0:00:08.427998\n",
      "Epoch  49 Batch   41/91   train_loss = 2.784  time = 0:00:08.442486\n",
      "Epoch  50 Batch   50/91   train_loss = 2.691  time = 0:00:08.398138\n",
      "Epoch  51 Batch   59/91   train_loss = 2.825  time = 0:00:08.423487\n",
      "Epoch  52 Batch   68/91   train_loss = 2.825  time = 0:00:08.426220\n",
      "Epoch  53 Batch   77/91   train_loss = 2.727  time = 0:00:08.409617\n",
      "Epoch  54 Batch   86/91   train_loss = 2.618  time = 0:00:08.437108\n",
      "Epoch  56 Batch    4/91   train_loss = 2.616  time = 0:00:08.421026\n",
      "Epoch  57 Batch   13/91   train_loss = 2.690  time = 0:00:08.405087\n",
      "Epoch  58 Batch   22/91   train_loss = 2.645  time = 0:00:08.417832\n",
      "Epoch  59 Batch   31/91   train_loss = 2.655  time = 0:00:08.421288\n",
      "Epoch  60 Batch   40/91   train_loss = 2.530  time = 0:00:08.416637\n",
      "Epoch  61 Batch   49/91   train_loss = 2.804  time = 0:00:08.425717\n",
      "Epoch  62 Batch   58/91   train_loss = 2.514  time = 0:00:08.412197\n",
      "Epoch  63 Batch   67/91   train_loss = 2.644  time = 0:00:08.412762\n",
      "Epoch  64 Batch   76/91   train_loss = 2.645  time = 0:00:08.430528\n",
      "Epoch  65 Batch   85/91   train_loss = 2.539  time = 0:00:08.453127\n",
      "Epoch  67 Batch    3/91   train_loss = 2.548  time = 0:00:08.435357\n",
      "Epoch  68 Batch   12/91   train_loss = 2.533  time = 0:00:08.428492\n",
      "Epoch  69 Batch   21/91   train_loss = 2.414  time = 0:00:08.452478\n",
      "Epoch  70 Batch   30/91   train_loss = 2.590  time = 0:00:08.416747\n",
      "Epoch  71 Batch   39/91   train_loss = 2.452  time = 0:00:08.451617\n",
      "Epoch  72 Batch   48/91   train_loss = 2.456  time = 0:00:08.412087\n",
      "Epoch  73 Batch   57/91   train_loss = 2.207  time = 0:00:08.430232\n",
      "Epoch  74 Batch   66/91   train_loss = 2.512  time = 0:00:08.410706\n",
      "Epoch  75 Batch   75/91   train_loss = 2.510  time = 0:00:08.432257\n",
      "Epoch  76 Batch   84/91   train_loss = 2.589  time = 0:00:08.436893\n",
      "Epoch  78 Batch    2/91   train_loss = 2.531  time = 0:00:08.397162\n",
      "Epoch  79 Batch   11/91   train_loss = 2.355  time = 0:00:08.416921\n",
      "Epoch  80 Batch   20/91   train_loss = 2.510  time = 0:00:08.409869\n",
      "Epoch  81 Batch   29/91   train_loss = 2.425  time = 0:00:08.463800\n",
      "Epoch  82 Batch   38/91   train_loss = 2.385  time = 0:00:08.434636\n",
      "Epoch  83 Batch   47/91   train_loss = 2.444  time = 0:00:08.441252\n",
      "Epoch  84 Batch   56/91   train_loss = 2.380  time = 0:00:08.404960\n",
      "Epoch  85 Batch   65/91   train_loss = 2.466  time = 0:00:08.412790\n",
      "Epoch  86 Batch   74/91   train_loss = 2.310  time = 0:00:08.456320\n",
      "Epoch  87 Batch   83/91   train_loss = 2.544  time = 0:00:08.393868\n",
      "Epoch  89 Batch    1/91   train_loss = 2.400  time = 0:00:08.450056\n",
      "Epoch  90 Batch   10/91   train_loss = 2.462  time = 0:00:08.402327\n",
      "Epoch  91 Batch   19/91   train_loss = 2.480  time = 0:00:08.453082\n",
      "Epoch  92 Batch   28/91   train_loss = 2.563  time = 0:00:08.408538\n",
      "Epoch  93 Batch   37/91   train_loss = 2.278  time = 0:00:08.459932\n",
      "Epoch  94 Batch   46/91   train_loss = 2.295  time = 0:00:08.410455\n",
      "Epoch  95 Batch   55/91   train_loss = 2.310  time = 0:00:08.432022\n",
      "Epoch  96 Batch   64/91   train_loss = 2.325  time = 0:00:08.410907\n",
      "Epoch  97 Batch   73/91   train_loss = 2.201  time = 0:00:08.451871\n",
      "Epoch  98 Batch   82/91   train_loss = 2.423  time = 0:00:08.448457\n",
      "Epoch 100 Batch    0/91   train_loss = 2.321  time = 0:00:08.409934\n",
      "Epoch 101 Batch    9/91   train_loss = 2.324  time = 0:00:08.421409\n",
      "Epoch 102 Batch   18/91   train_loss = 2.249  time = 0:00:08.390104\n",
      "Epoch 103 Batch   27/91   train_loss = 2.323  time = 0:00:08.436638\n",
      "Epoch 104 Batch   36/91   train_loss = 2.228  time = 0:00:08.419711\n",
      "Epoch 105 Batch   45/91   train_loss = 2.271  time = 0:00:08.430664\n",
      "Epoch 106 Batch   54/91   train_loss = 2.267  time = 0:00:08.430169\n",
      "Epoch 107 Batch   63/91   train_loss = 2.255  time = 0:00:08.440403\n",
      "Epoch 108 Batch   72/91   train_loss = 2.329  time = 0:00:08.409363\n",
      "Epoch 109 Batch   81/91   train_loss = 2.260  time = 0:00:08.431041\n",
      "Epoch 110 Batch   90/91   train_loss = 2.370  time = 0:00:08.430018\n",
      "Epoch 112 Batch    8/91   train_loss = 2.137  time = 0:00:08.398242\n",
      "Epoch 113 Batch   17/91   train_loss = 2.120  time = 0:00:08.450407\n",
      "Epoch 114 Batch   26/91   train_loss = 2.403  time = 0:00:08.426627\n",
      "Epoch 115 Batch   35/91   train_loss = 2.225  time = 0:00:08.412000\n",
      "Epoch 116 Batch   44/91   train_loss = 2.206  time = 0:00:08.433727\n",
      "Epoch 117 Batch   53/91   train_loss = 2.281  time = 0:00:08.432539\n",
      "Epoch 118 Batch   62/91   train_loss = 2.220  time = 0:00:08.407532\n",
      "Epoch 119 Batch   71/91   train_loss = 2.255  time = 0:00:08.410934\n",
      "Epoch 120 Batch   80/91   train_loss = 2.294  time = 0:00:08.424943\n",
      "Epoch 121 Batch   89/91   train_loss = 2.252  time = 0:00:08.436590\n",
      "Epoch 123 Batch    7/91   train_loss = 2.324  time = 0:00:08.436493\n",
      "Epoch 124 Batch   16/91   train_loss = 2.156  time = 0:00:08.410809\n",
      "Epoch 125 Batch   25/91   train_loss = 2.362  time = 0:00:08.444610\n",
      "Epoch 126 Batch   34/91   train_loss = 2.138  time = 0:00:08.434608\n",
      "Epoch 127 Batch   43/91   train_loss = 2.230  time = 0:00:08.424620\n",
      "Epoch 128 Batch   52/91   train_loss = 2.269  time = 0:00:08.434594\n",
      "Epoch 129 Batch   61/91   train_loss = 2.179  time = 0:00:08.420277\n",
      "Epoch 130 Batch   70/91   train_loss = 2.250  time = 0:00:08.439671\n",
      "Epoch 131 Batch   79/91   train_loss = 2.191  time = 0:00:08.424516\n",
      "Epoch 132 Batch   88/91   train_loss = 2.018  time = 0:00:08.420531\n",
      "Epoch 134 Batch    6/91   train_loss = 2.189  time = 0:00:08.438033\n",
      "Epoch 135 Batch   15/91   train_loss = 2.241  time = 0:00:08.430563\n",
      "Epoch 136 Batch   24/91   train_loss = 2.208  time = 0:00:08.409831\n",
      "Epoch 137 Batch   33/91   train_loss = 2.173  time = 0:00:08.422084\n",
      "Epoch 138 Batch   42/91   train_loss = 2.347  time = 0:00:08.461743\n",
      "Epoch 139 Batch   51/91   train_loss = 2.279  time = 0:00:08.454443\n",
      "Epoch 140 Batch   60/91   train_loss = 2.121  time = 0:00:08.438489\n",
      "Epoch 141 Batch   69/91   train_loss = 1.984  time = 0:00:08.392990\n",
      "Epoch 142 Batch   78/91   train_loss = 2.098  time = 0:00:08.451253\n",
      "Epoch 143 Batch   87/91   train_loss = 2.009  time = 0:00:08.407755\n",
      "Epoch 145 Batch    5/91   train_loss = 2.143  time = 0:00:08.439807\n",
      "Epoch 146 Batch   14/91   train_loss = 2.085  time = 0:00:08.448659\n",
      "Epoch 147 Batch   23/91   train_loss = 2.116  time = 0:00:08.461660\n",
      "Epoch 148 Batch   32/91   train_loss = 2.141  time = 0:00:08.427987\n",
      "Epoch 149 Batch   41/91   train_loss = 2.166  time = 0:00:08.440871\n",
      "Epoch 150 Batch   50/91   train_loss = 2.123  time = 0:00:08.440553\n",
      "Epoch 151 Batch   59/91   train_loss = 2.164  time = 0:00:08.425654\n",
      "Epoch 152 Batch   68/91   train_loss = 2.231  time = 0:00:08.435258\n",
      "Epoch 153 Batch   77/91   train_loss = 2.087  time = 0:00:08.442201\n",
      "Epoch 154 Batch   86/91   train_loss = 2.172  time = 0:00:08.432353\n",
      "Epoch 156 Batch    4/91   train_loss = 2.076  time = 0:00:08.418095\n",
      "Epoch 157 Batch   13/91   train_loss = 2.241  time = 0:00:08.428918\n",
      "Epoch 158 Batch   22/91   train_loss = 2.144  time = 0:00:08.432818\n",
      "Epoch 159 Batch   31/91   train_loss = 2.271  time = 0:00:08.441540\n",
      "Epoch 160 Batch   40/91   train_loss = 2.162  time = 0:00:08.439799\n",
      "Epoch 161 Batch   49/91   train_loss = 2.375  time = 0:00:08.446844\n",
      "Epoch 162 Batch   58/91   train_loss = 2.126  time = 0:00:08.446334\n",
      "Epoch 163 Batch   67/91   train_loss = 2.223  time = 0:00:09.018878\n",
      "Epoch 164 Batch   76/91   train_loss = 2.141  time = 0:00:08.847738\n",
      "Epoch 165 Batch   85/91   train_loss = 2.159  time = 0:00:08.474582\n",
      "Epoch 167 Batch    3/91   train_loss = 2.118  time = 0:00:08.435827\n",
      "Epoch 168 Batch   12/91   train_loss = 2.069  time = 0:00:08.459750\n",
      "Epoch 169 Batch   21/91   train_loss = 2.067  time = 0:00:08.469191\n",
      "Epoch 170 Batch   30/91   train_loss = 2.152  time = 0:00:08.474346\n",
      "Epoch 171 Batch   39/91   train_loss = 2.066  time = 0:00:08.429252\n",
      "Epoch 172 Batch   48/91   train_loss = 2.191  time = 0:00:08.458727\n",
      "Epoch 173 Batch   57/91   train_loss = 2.039  time = 0:00:08.426286\n",
      "Epoch 174 Batch   66/91   train_loss = 2.233  time = 0:00:08.444273\n",
      "Epoch 175 Batch   75/91   train_loss = 2.115  time = 0:00:08.445059\n",
      "Epoch 176 Batch   84/91   train_loss = 2.185  time = 0:00:08.429711\n",
      "Epoch 178 Batch    2/91   train_loss = 2.235  time = 0:00:08.437963\n",
      "Epoch 179 Batch   11/91   train_loss = 2.049  time = 0:00:08.442528\n",
      "Epoch 180 Batch   20/91   train_loss = 2.150  time = 0:00:08.449801\n",
      "Epoch 181 Batch   29/91   train_loss = 2.074  time = 0:00:08.430541\n",
      "Epoch 182 Batch   38/91   train_loss = 2.115  time = 0:00:08.413258\n",
      "Epoch 183 Batch   47/91   train_loss = 2.048  time = 0:00:08.464709\n",
      "Epoch 184 Batch   56/91   train_loss = 2.010  time = 0:00:08.445430\n",
      "Epoch 185 Batch   65/91   train_loss = 2.321  time = 0:00:08.459003\n",
      "Epoch 186 Batch   74/91   train_loss = 1.951  time = 0:00:08.431033\n",
      "Epoch 187 Batch   83/91   train_loss = 2.293  time = 0:00:08.444090\n",
      "Epoch 189 Batch    1/91   train_loss = 2.008  time = 0:00:08.419742\n",
      "Epoch 190 Batch   10/91   train_loss = 2.156  time = 0:00:08.447660\n",
      "Epoch 191 Batch   19/91   train_loss = 2.135  time = 0:00:08.437716\n",
      "Epoch 192 Batch   28/91   train_loss = 2.289  time = 0:00:08.424578\n",
      "Epoch 193 Batch   37/91   train_loss = 2.031  time = 0:00:08.450885\n",
      "Epoch 194 Batch   46/91   train_loss = 1.928  time = 0:00:08.424496\n",
      "Epoch 195 Batch   55/91   train_loss = 1.989  time = 0:00:08.459894\n",
      "Epoch 196 Batch   64/91   train_loss = 2.112  time = 0:00:08.445608\n",
      "Epoch 197 Batch   73/91   train_loss = 1.940  time = 0:00:08.425433\n",
      "Epoch 198 Batch   82/91   train_loss = 2.204  time = 0:00:08.453581\n",
      "Epoch 200 Batch    0/91   train_loss = 2.008  time = 0:00:08.428402\n",
      "Epoch 201 Batch    9/91   train_loss = 2.029  time = 0:00:08.476920\n",
      "Epoch 202 Batch   18/91   train_loss = 1.975  time = 0:00:08.446816\n",
      "Epoch 203 Batch   27/91   train_loss = 2.068  time = 0:00:08.433427\n",
      "Epoch 204 Batch   36/91   train_loss = 1.894  time = 0:00:08.444892\n",
      "Epoch 205 Batch   45/91   train_loss = 2.099  time = 0:00:08.455895\n",
      "Epoch 206 Batch   54/91   train_loss = 2.098  time = 0:00:08.452202\n",
      "Epoch 207 Batch   63/91   train_loss = 2.111  time = 0:00:08.456140\n",
      "Epoch 208 Batch   72/91   train_loss = 2.124  time = 0:00:08.445883\n",
      "Epoch 209 Batch   81/91   train_loss = 2.083  time = 0:00:08.480751\n",
      "Epoch 210 Batch   90/91   train_loss = 2.163  time = 0:00:08.457247\n",
      "Epoch 212 Batch    8/91   train_loss = 1.897  time = 0:00:08.460942\n",
      "Epoch 213 Batch   17/91   train_loss = 1.970  time = 0:00:08.679072\n",
      "Epoch 214 Batch   26/91   train_loss = 2.159  time = 0:00:08.534824\n",
      "Epoch 215 Batch   35/91   train_loss = 1.991  time = 0:00:08.450013\n",
      "Epoch 216 Batch   44/91   train_loss = 2.035  time = 0:00:08.475624\n",
      "Epoch 217 Batch   53/91   train_loss = 1.929  time = 0:00:08.466632\n",
      "Epoch 218 Batch   62/91   train_loss = 2.066  time = 0:00:08.468941\n",
      "Epoch 219 Batch   71/91   train_loss = 2.143  time = 0:00:08.457098\n",
      "Epoch 220 Batch   80/91   train_loss = 2.083  time = 0:00:08.515187\n",
      "Epoch 221 Batch   89/91   train_loss = 2.206  time = 0:00:08.485655\n",
      "Epoch 223 Batch    7/91   train_loss = 2.087  time = 0:00:08.469466\n",
      "Epoch 224 Batch   16/91   train_loss = 2.062  time = 0:00:08.464450\n",
      "Epoch 225 Batch   25/91   train_loss = 2.218  time = 0:00:08.464905\n",
      "Epoch 226 Batch   34/91   train_loss = 2.029  time = 0:00:08.461709\n",
      "Epoch 227 Batch   43/91   train_loss = 2.137  time = 0:00:08.437925\n",
      "Epoch 228 Batch   52/91   train_loss = 2.071  time = 0:00:08.460639\n",
      "Epoch 229 Batch   61/91   train_loss = 2.022  time = 0:00:08.472651\n",
      "Epoch 230 Batch   70/91   train_loss = 2.177  time = 0:00:08.474184\n",
      "Epoch 231 Batch   79/91   train_loss = 2.107  time = 0:00:08.454058\n",
      "Epoch 232 Batch   88/91   train_loss = 1.869  time = 0:00:08.433403\n",
      "Epoch 234 Batch    6/91   train_loss = 2.032  time = 0:00:08.434320\n",
      "Epoch 235 Batch   15/91   train_loss = 2.012  time = 0:00:08.485807\n",
      "Epoch 236 Batch   24/91   train_loss = 2.067  time = 0:00:08.436848\n",
      "Epoch 237 Batch   33/91   train_loss = 2.062  time = 0:00:08.420855\n",
      "Epoch 238 Batch   42/91   train_loss = 2.160  time = 0:00:08.461003\n",
      "Epoch 239 Batch   51/91   train_loss = 2.092  time = 0:00:08.424071\n",
      "Epoch 240 Batch   60/91   train_loss = 1.904  time = 0:00:08.449715\n",
      "Epoch 241 Batch   69/91   train_loss = 1.889  time = 0:00:08.470059\n",
      "Epoch 242 Batch   78/91   train_loss = 2.032  time = 0:00:08.448705\n",
      "Epoch 243 Batch   87/91   train_loss = 1.945  time = 0:00:08.467302\n",
      "Epoch 245 Batch    5/91   train_loss = 2.026  time = 0:00:08.442207\n",
      "Epoch 246 Batch   14/91   train_loss = 1.838  time = 0:00:08.463029\n",
      "Epoch 247 Batch   23/91   train_loss = 1.884  time = 0:00:08.475679\n",
      "Epoch 248 Batch   32/91   train_loss = 2.081  time = 0:00:08.461853\n",
      "Epoch 249 Batch   41/91   train_loss = 2.108  time = 0:00:08.492182\n",
      "Epoch 250 Batch   50/91   train_loss = 2.042  time = 0:00:08.463748\n",
      "Epoch 251 Batch   59/91   train_loss = 2.023  time = 0:00:08.461752\n",
      "Epoch 252 Batch   68/91   train_loss = 2.131  time = 0:00:08.471147\n",
      "Epoch 253 Batch   77/91   train_loss = 2.092  time = 0:00:08.452437\n",
      "Epoch 254 Batch   86/91   train_loss = 2.106  time = 0:00:08.435684\n",
      "Epoch 256 Batch    4/91   train_loss = 2.002  time = 0:00:08.438812\n",
      "Epoch 257 Batch   13/91   train_loss = 2.086  time = 0:00:08.432196\n",
      "Epoch 258 Batch   22/91   train_loss = 1.903  time = 0:00:08.420492\n",
      "Epoch 259 Batch   31/91   train_loss = 2.025  time = 0:00:08.456743\n",
      "Epoch 260 Batch   40/91   train_loss = 1.991  time = 0:00:08.425726\n",
      "Epoch 261 Batch   49/91   train_loss = 2.117  time = 0:00:08.437422\n",
      "Epoch 262 Batch   58/91   train_loss = 2.013  time = 0:00:08.457193\n",
      "Epoch 263 Batch   67/91   train_loss = 1.997  time = 0:00:08.452784\n",
      "Epoch 264 Batch   76/91   train_loss = 2.015  time = 0:00:08.445955\n",
      "Epoch 265 Batch   85/91   train_loss = 2.045  time = 0:00:08.470042\n",
      "Epoch 267 Batch    3/91   train_loss = 1.946  time = 0:00:08.431031\n",
      "Epoch 268 Batch   12/91   train_loss = 1.955  time = 0:00:08.432594\n",
      "Epoch 269 Batch   21/91   train_loss = 1.988  time = 0:00:08.479870\n",
      "Epoch 270 Batch   30/91   train_loss = 1.981  time = 0:00:08.462435\n",
      "Epoch 271 Batch   39/91   train_loss = 1.892  time = 0:00:08.447481\n",
      "Epoch 272 Batch   48/91   train_loss = 1.946  time = 0:00:08.458084\n",
      "Epoch 273 Batch   57/91   train_loss = 1.889  time = 0:00:08.448434\n",
      "Epoch 274 Batch   66/91   train_loss = 2.113  time = 0:00:08.462756\n",
      "Epoch 275 Batch   75/91   train_loss = 1.923  time = 0:00:08.481689\n",
      "Epoch 276 Batch   84/91   train_loss = 2.097  time = 0:00:08.436110\n",
      "Epoch 278 Batch    2/91   train_loss = 2.178  time = 0:00:08.464874\n",
      "Epoch 279 Batch   11/91   train_loss = 1.901  time = 0:00:08.462242\n",
      "Epoch 280 Batch   20/91   train_loss = 2.097  time = 0:00:08.447114\n",
      "Epoch 281 Batch   29/91   train_loss = 1.949  time = 0:00:08.470885\n",
      "Epoch 282 Batch   38/91   train_loss = 2.014  time = 0:00:08.452497\n",
      "Epoch 283 Batch   47/91   train_loss = 2.046  time = 0:00:08.509203\n",
      "Epoch 284 Batch   56/91   train_loss = 1.995  time = 0:00:08.457593\n",
      "Epoch 285 Batch   65/91   train_loss = 2.087  time = 0:00:08.468975\n",
      "Epoch 286 Batch   74/91   train_loss = 1.937  time = 0:00:08.443481\n",
      "Epoch 287 Batch   83/91   train_loss = 2.111  time = 0:00:08.468562\n",
      "Epoch 289 Batch    1/91   train_loss = 1.982  time = 0:00:08.473745\n",
      "Epoch 290 Batch   10/91   train_loss = 2.052  time = 0:00:08.469489\n",
      "Epoch 291 Batch   19/91   train_loss = 2.145  time = 0:00:08.472398\n",
      "Epoch 292 Batch   28/91   train_loss = 2.101  time = 0:00:08.475437\n",
      "Epoch 293 Batch   37/91   train_loss = 1.883  time = 0:00:08.488093\n",
      "Epoch 294 Batch   46/91   train_loss = 1.929  time = 0:00:08.491872\n",
      "Epoch 295 Batch   55/91   train_loss = 1.797  time = 0:00:08.439650\n",
      "Epoch 296 Batch   64/91   train_loss = 2.069  time = 0:00:08.447881\n",
      "Epoch 297 Batch   73/91   train_loss = 1.870  time = 0:00:08.447661\n",
      "Epoch 298 Batch   82/91   train_loss = 2.149  time = 0:00:08.449226\n",
      "\n",
      "Model Trained and Saved Time 0:38:25.741071 train_loss = 2.048\n"
     ]
    }
   ],
   "source": [
    "import datetime\n",
    "import sys\n",
    "\"\"\"\n",
    "DON'T MODIFY ANYTHING IN THIS CELL\n",
    "\"\"\"\n",
    "batches = get_batches(int_text, batch_size, seq_length)\n",
    "\n",
    "with tf.Session(graph=train_graph) as sess:\n",
    "    sess.run(tf.global_variables_initializer())\n",
    "    all_start = datetime.datetime.now()\n",
    "    start = datetime.datetime.now()\n",
    "    for epoch_i in range(num_epochs):\n",
    "        state = sess.run(initial_state, {input_text: batches[0][0]})\n",
    "\n",
    "        for batch_i, (x, y) in enumerate(batches):\n",
    "            feed = {\n",
    "                input_text: x,\n",
    "                targets: y,\n",
    "                initial_state: state,\n",
    "                lr: learning_rate}\n",
    "            train_loss, state, _ = sess.run([cost, final_state, train_op], feed)\n",
    "\n",
    "            # Show every <show_every_n_batches> batches\n",
    "            if (epoch_i * len(batches) + batch_i) % show_every_n_batches == 0:\n",
    "                end = datetime.datetime.now()\n",
    "                \"\"\"\n",
    "                sys.stdout.write('\\rEpoch {:>3} Batch {:>4}/{}   train_loss = {:.3f}  time = {}'.format(\n",
    "                    epoch_i,\n",
    "                    batch_i,\n",
    "                    len(batches),\n",
    "                    train_loss,\n",
    "                    (end-start)))\n",
    "                #\"\"\"\n",
    "               \n",
    "                print('Epoch {:>3} Batch {:>4}/{}   train_loss = {:.3f}  time = {}'.format(\n",
    "                    epoch_i,\n",
    "                    batch_i,\n",
    "                    len(batches),\n",
    "                    train_loss,\n",
    "                    (end-start)))\n",
    "                start = datetime.datetime.now()\n",
    "\n",
    "    # Save Model\n",
    "    all_end = datetime.datetime.now()\n",
    "    saver = tf.train.Saver()\n",
    "    saver.save(sess, save_dir)\n",
    "    print('\\nModel Trained and Saved Time {} train_loss = {:.3f}'.format(all_end-all_start,train_loss))"
   ]
  },
  {
   "cell_type": "markdown",
   "metadata": {
    "deletable": true,
    "editable": true
   },
   "source": [
    "## Save Parameters\n",
    "Save `seq_length` and `save_dir` for generating a new TV script."
   ]
  },
  {
   "cell_type": "code",
   "execution_count": 17,
   "metadata": {
    "collapsed": false,
    "deletable": true,
    "editable": true
   },
   "outputs": [],
   "source": [
    "\"\"\"\n",
    "DON'T MODIFY ANYTHING IN THIS CELL\n",
    "\"\"\"\n",
    "# Save parameters for checkpoint\n",
    "helper.save_params((seq_length, save_dir))"
   ]
  },
  {
   "cell_type": "markdown",
   "metadata": {
    "deletable": true,
    "editable": true
   },
   "source": [
    "# Checkpoint"
   ]
  },
  {
   "cell_type": "code",
   "execution_count": 18,
   "metadata": {
    "collapsed": false,
    "deletable": true,
    "editable": true
   },
   "outputs": [],
   "source": [
    "\"\"\"\n",
    "DON'T MODIFY ANYTHING IN THIS CELL\n",
    "\"\"\"\n",
    "import tensorflow as tf\n",
    "import numpy as np\n",
    "import helper\n",
    "import problem_unittests as tests\n",
    "\n",
    "_, vocab_to_int, int_to_vocab, token_dict = helper.load_preprocess()\n",
    "seq_length, load_dir = helper.load_params()"
   ]
  },
  {
   "cell_type": "markdown",
   "metadata": {
    "deletable": true,
    "editable": true
   },
   "source": [
    "## Implement Generate Functions\n",
    "### Get Tensors\n",
    "Get tensors from `loaded_graph` using the function [`get_tensor_by_name()`](https://www.tensorflow.org/api_docs/python/tf/Graph#get_tensor_by_name).  Get the tensors using the following names:\n",
    "- \"input:0\"\n",
    "- \"initial_state:0\"\n",
    "- \"final_state:0\"\n",
    "- \"probs:0\"\n",
    "\n",
    "Return the tensors in the following tuple `(InputTensor, InitialStateTensor, FinalStateTensor, ProbsTensor)` "
   ]
  },
  {
   "cell_type": "code",
   "execution_count": 19,
   "metadata": {
    "collapsed": false,
    "deletable": true,
    "editable": true
   },
   "outputs": [
    {
     "name": "stdout",
     "output_type": "stream",
     "text": [
      "Tests Passed\n"
     ]
    }
   ],
   "source": [
    "def get_tensors(loaded_graph):\n",
    "    \"\"\"\n",
    "    Get input, initial state, final state, and probabilities tensor from <loaded_graph>\n",
    "    :param loaded_graph: TensorFlow graph loaded from file\n",
    "    :return: Tuple (InputTensor, InitialStateTensor, FinalStateTensor, ProbsTensor)\n",
    "    \"\"\"\n",
    "    # TODO: Implement Function\n",
    "    InputTensor=loaded_graph.get_tensor_by_name(\"input:0\")\n",
    "    InitialStateTensor=loaded_graph.get_tensor_by_name(\"initial_state:0\")\n",
    "    FinalStateTensor=loaded_graph.get_tensor_by_name(\"final_state:0\")\n",
    "    ProbsTensor=loaded_graph.get_tensor_by_name(\"probs:0\")\n",
    "    return InputTensor,InitialStateTensor,FinalStateTensor,ProbsTensor\n",
    "\n",
    "\n",
    "\"\"\"\n",
    "DON'T MODIFY ANYTHING IN THIS CELL THAT IS BELOW THIS LINE\n",
    "\"\"\"\n",
    "tests.test_get_tensors(get_tensors)"
   ]
  },
  {
   "cell_type": "markdown",
   "metadata": {
    "deletable": true,
    "editable": true
   },
   "source": [
    "### Choose Word\n",
    "Implement the `pick_word()` function to select the next word using `probabilities`."
   ]
  },
  {
   "cell_type": "code",
   "execution_count": 20,
   "metadata": {
    "collapsed": false,
    "deletable": true,
    "editable": true
   },
   "outputs": [
    {
     "name": "stdout",
     "output_type": "stream",
     "text": [
      "Tests Passed\n"
     ]
    }
   ],
   "source": [
    "def pick_word(probabilities, int_to_vocab):\n",
    "    \"\"\"\n",
    "    Pick the next word in the generated text\n",
    "    :param probabilities: Probabilites of the next word\n",
    "    :param int_to_vocab: Dictionary of word ids as the keys and words as the values\n",
    "    :return: String of the predicted word\n",
    "    \"\"\"\n",
    "    # TODO: Implement Function\n",
    "    top_n=3\n",
    "    p = probabilities\n",
    "    p[np.argsort(p)[:-top_n]] = 0   \n",
    "    p = p / np.sum(p)  \n",
    "    c = np.random.choice(len(int_to_vocab), 1, p=p)[0]\n",
    "    c = int_to_vocab[c]\n",
    "    return c\n",
    "\n",
    "\n",
    "\"\"\"\n",
    "DON'T MODIFY ANYTHING IN THIS CELL THAT IS BELOW THIS LINE\n",
    "\"\"\"\n",
    "tests.test_pick_word(pick_word)"
   ]
  },
  {
   "cell_type": "markdown",
   "metadata": {
    "deletable": true,
    "editable": true
   },
   "source": [
    "## Generate TV Script\n",
    "This will generate the TV script for you.  Set `gen_length` to the length of TV script you want to generate."
   ]
  },
  {
   "cell_type": "code",
   "execution_count": 21,
   "metadata": {
    "collapsed": false,
    "deletable": true,
    "editable": true
   },
   "outputs": [
    {
     "name": "stdout",
     "output_type": "stream",
     "text": [
      "moe_szyslak: yeah, yeah, chief! okay, homer, uh, i ain't wondered, you work rem the multi-purpose, and my woman, but i use it.\n",
      "moe_szyslak: hey, you guys don't want to pity!\n",
      "carl_carlson: oh, speakin' million boy, you have again.\n",
      "lenny_leonard:(matter-of-fact) you believe i should have to be a 100 words of the japanese best friend was a big girl.\n",
      "moe_szyslak: well, well. i have one thing you can keeps you my kids taking feelings.\n",
      "moe_szyslak: well, excuse me, i was better couldn't to win this place less tabooger it..\n",
      "carl_carlson: i don't wish i'm looking store date you used a alone, and clean least bad.\n",
      "sec_agent_#1: bartenders don't think like you obvious we put out in a while no more about a beer to be something.\n",
      "homer_simpson: i read my public. that's why i don't know why now i am.\n",
      "moe_szyslak: yeah, now right, moe.\n",
      "kirk_van_houten: i wrote you to change my boat. smelly. a paint\n"
     ]
    }
   ],
   "source": [
    "gen_length = 200\n",
    "# homer_simpson, moe_szyslak, or Barney_Gumble\n",
    "prime_word = 'moe_szyslak'\n",
    "\n",
    "\"\"\"\n",
    "DON'T MODIFY ANYTHING IN THIS CELL THAT IS BELOW THIS LINE\n",
    "\"\"\"\n",
    "loaded_graph = tf.Graph()\n",
    "with tf.Session(graph=loaded_graph) as sess:\n",
    "    # Load saved model\n",
    "    loader = tf.train.import_meta_graph(load_dir + '.meta')\n",
    "    loader.restore(sess, load_dir)\n",
    "\n",
    "    # Get Tensors from loaded model\n",
    "    input_text, initial_state, final_state, probs = get_tensors(loaded_graph)\n",
    "\n",
    "    # Sentences generation setup\n",
    "    gen_sentences = [prime_word + ':']\n",
    "    prev_state = sess.run(initial_state, {input_text: np.array([[1]])})\n",
    "\n",
    "    # Generate sentences\n",
    "    for n in range(gen_length):\n",
    "        # Dynamic Input\n",
    "        dyn_input = [[vocab_to_int[word] for word in gen_sentences[-seq_length:]]]\n",
    "        dyn_seq_length = len(dyn_input[0])\n",
    "\n",
    "        # Get Prediction\n",
    "        probabilities, prev_state = sess.run(\n",
    "            [probs, final_state],\n",
    "            {input_text: dyn_input, initial_state: prev_state})\n",
    "        \n",
    "        pred_word = pick_word(probabilities[dyn_seq_length-1], int_to_vocab)\n",
    "\n",
    "        gen_sentences.append(pred_word)\n",
    "    \n",
    "    # Remove tokens\n",
    "    tv_script = ' '.join(gen_sentences)\n",
    "    for key, token in token_dict.items():\n",
    "        ending = ' ' if key in ['\\n', '(', '\"'] else ''\n",
    "        tv_script = tv_script.replace(' ' + token.lower(), key)\n",
    "    tv_script = tv_script.replace('\\n ', '\\n')\n",
    "    tv_script = tv_script.replace('( ', '(')\n",
    "        \n",
    "    print(tv_script)"
   ]
  },
  {
   "cell_type": "markdown",
   "metadata": {
    "deletable": true,
    "editable": true
   },
   "source": [
    "# The TV Script is Nonsensical\n",
    "It's ok if the TV script doesn't make any sense.  We trained on less than a megabyte of text.  In order to get good results, you'll have to use a smaller vocabulary or get more data.  Luckly there's more data!  As we mentioned in the begging of this project, this is a subset of [another dataset](https://www.kaggle.com/wcukierski/the-simpsons-by-the-data).  We didn't have you train on all the data, because that would take too long.  However, you are free to train your neural network on all the data.  After you complete the project, of course.\n",
    "# Submitting This Project\n",
    "When submitting this project, make sure to run all the cells before saving the notebook. Save the notebook file as \"dlnd_tv_script_generation.ipynb\" and save it as a HTML file under \"File\" -> \"Download as\". Include the \"helper.py\" and \"problem_unittests.py\" files in your submission."
   ]
  }
 ],
 "metadata": {
  "kernelspec": {
   "display_name": "Python 3",
   "language": "python",
   "name": "python3"
  },
  "language_info": {
   "codemirror_mode": {
    "name": "ipython",
    "version": 3
   },
   "file_extension": ".py",
   "mimetype": "text/x-python",
   "name": "python",
   "nbconvert_exporter": "python",
   "pygments_lexer": "ipython3",
   "version": "3.5.2"
  }
 },
 "nbformat": 4,
 "nbformat_minor": 0
}
